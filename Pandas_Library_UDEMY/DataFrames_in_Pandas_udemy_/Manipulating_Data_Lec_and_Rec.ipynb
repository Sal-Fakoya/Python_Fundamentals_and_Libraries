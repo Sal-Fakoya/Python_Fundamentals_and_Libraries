{
 "cells": [
  {
   "cell_type": "markdown",
   "source": [
    "# Manipulating Data"
   ],
   "metadata": {
    "collapsed": false
   },
   "id": "9710248d29cb8072"
  },
  {
   "cell_type": "code",
   "outputs": [],
   "source": [
    "\"\"\"\n",
    "                    MANIPULATING DATA:\n",
    "--> There are vectorized operations similar to NumPy arrays such as .count(), .sum(), .min(), .max(), .mean(), .std(), .prod()\n",
    "    --> They can work across all elements of a DataFrame or along a specified axis.\n",
    "--> There are regular arithmetic operators and NumPy universal functions such as np.abs()\n",
    "\n",
    "                    OTHER METHODS include:\n",
    "--> df.transpose() : returns a dataframe where rows become columns and columns become rows.\n",
    "--> pd.to_numeric(errors='coerce') : allows us to coerce a series into a numerical series, i.e to int and float.\n",
    "    --> Entries that cannot be converted result in an exception.\n",
    "        --> We can override this behaviour by specifying the \"errors\" argument in the .to_numeric() function.\n",
    "            --> df.to_numeric(errors='coerce') \n",
    "            \n",
    "                CONCATENATING DATAFRAMES:\n",
    "--> pd.concat(list_of_dataframes, axis=):\n",
    "    --> axis=1 is horizontal concatenation\n",
    "    --> axis=0 is vertical concatenation\n",
    "    --> Pandas uses row or column index to \"align\" concatenated rows/columns.\n",
    "        --> missing indexes of rows/columns are replaced with 'nan' when the dataframes are concatenated. This is called an \"outer join\"\n",
    "\n",
    "OUTER JOIN:\n",
    "--> In an outer join, the \"missing\" data in the join are replaced with NAN. They are the default kinds join.\n",
    "\n",
    "INNER JOIN: pd.concat([df1, df2], axis=1, join='inner')\n",
    "--> In an inner, \"missing\" rows/columns are dropped entirely.\n",
    "\"\"\""
   ],
   "metadata": {
    "collapsed": false
   },
   "id": "18c0127514583c46",
   "execution_count": null
  },
  {
   "cell_type": "code",
   "outputs": [],
   "source": [
    "import pandas as pd\n",
    "import numpy as np"
   ],
   "metadata": {
    "collapsed": false
   },
   "id": "906233b6aa2aa211",
   "execution_count": null
  },
  {
   "cell_type": "code",
   "outputs": [],
   "source": [
    "m = np.array([\n",
    "    [1, 10, 100],\n",
    "    [2, 20, 200],\n",
    "    [3, 30, 300],\n",
    "    [4, 40, 400]\n",
    "])"
   ],
   "metadata": {
    "collapsed": false
   },
   "id": "59df2a1222fd2c07",
   "execution_count": null
  },
  {
   "cell_type": "code",
   "outputs": [],
   "source": [
    "print(np.mean(m, axis=0))\n",
    "print(np.mean(m, axis=1))"
   ],
   "metadata": {
    "collapsed": false
   },
   "id": "8d230fb6809634e4",
   "execution_count": null
  },
  {
   "cell_type": "code",
   "outputs": [],
   "source": [
    "m.mean(axis=1)"
   ],
   "metadata": {
    "collapsed": false
   },
   "id": "c0ccd9aeb2dca8bd",
   "execution_count": null
  },
  {
   "cell_type": "code",
   "outputs": [],
   "source": [
    "df = pd.DataFrame(m,\n",
    "                  index=['r0', 'r1', 'r2', 'r3'],\n",
    "                  columns=['c0','c1', 'c2'])\n",
    "print(df)"
   ],
   "metadata": {
    "collapsed": false
   },
   "id": "6af86f12cd96652d",
   "execution_count": null
  },
  {
   "cell_type": "code",
   "outputs": [],
   "source": [
    "df.mean()\n",
    "df.mean(axis=1)"
   ],
   "metadata": {
    "collapsed": false
   },
   "id": "7ee50d9ba1de593e",
   "execution_count": null
  },
  {
   "cell_type": "code",
   "outputs": [],
   "source": [
    "df.sum()"
   ],
   "metadata": {
    "collapsed": false
   },
   "id": "8aa9236122354f2f",
   "execution_count": null
  },
  {
   "cell_type": "code",
   "outputs": [],
   "source": [
    "df.sum(axis=1)"
   ],
   "metadata": {
    "collapsed": false
   },
   "id": "a75e34f1eb0c2b6b",
   "execution_count": null
  },
  {
   "cell_type": "code",
   "outputs": [],
   "source": [
    "df['c0'] + df['c1']"
   ],
   "metadata": {
    "collapsed": false
   },
   "id": "5fbb81a569dbea37",
   "execution_count": null
  },
  {
   "cell_type": "code",
   "outputs": [],
   "source": [
    "df.loc[:, 'c0'] + df.iloc[:, 1]"
   ],
   "metadata": {
    "collapsed": false
   },
   "id": "aa5e342399471e9f",
   "execution_count": null
  },
  {
   "cell_type": "code",
   "outputs": [],
   "source": [
    "np.sin(df)"
   ],
   "metadata": {
    "collapsed": false
   },
   "id": "61e09977d504d940",
   "execution_count": null
  },
  {
   "cell_type": "code",
   "outputs": [],
   "source": [
    "df.transpose()"
   ],
   "metadata": {
    "collapsed": false
   },
   "id": "c6585a0939deb3c2",
   "execution_count": null
  },
  {
   "cell_type": "code",
   "outputs": [],
   "source": [
    "df = pd.read_csv('world_bank_countries.csv')"
   ],
   "metadata": {
    "collapsed": false
   },
   "id": "58afe026e1011557",
   "execution_count": null
  },
  {
   "cell_type": "code",
   "outputs": [],
   "source": [
    "df['LatestPopulationCensus']"
   ],
   "metadata": {
    "collapsed": false
   },
   "id": "2dc62cc5c73612a7",
   "execution_count": null
  },
  {
   "cell_type": "code",
   "outputs": [],
   "source": [
    "df.info()"
   ],
   "metadata": {
    "collapsed": false
   },
   "id": "d55c400fd1fe7643",
   "execution_count": null
  },
  {
   "cell_type": "code",
   "outputs": [],
   "source": [
    "df['LatestPopulationCensus'].describe()"
   ],
   "metadata": {
    "collapsed": false
   },
   "id": "4a9608fb9be361ba",
   "execution_count": null
  },
  {
   "cell_type": "code",
   "outputs": [],
   "source": [
    "print(df['LatestPopulationCensus'].unique())"
   ],
   "metadata": {
    "collapsed": false
   },
   "id": "6e30b5bb84e7071d",
   "execution_count": null
  },
  {
   "cell_type": "code",
   "outputs": [],
   "source": [
    "try:\n",
    "    pd.to_numeric(df['LatestPopulationCensus'])\n",
    "except ValueError as ex:\n",
    "    print('ValueError:', ex)"
   ],
   "metadata": {
    "collapsed": false
   },
   "id": "de40441a84e5bc80",
   "execution_count": null
  },
  {
   "cell_type": "code",
   "outputs": [],
   "source": [
    "latest_census = pd.to_numeric(df['LatestPopulationCensus'], \n",
    "                              errors='coerce')\n",
    "latest_census"
   ],
   "metadata": {
    "collapsed": false
   },
   "id": "4d2429299d0b3d4e",
   "execution_count": null
  },
  {
   "cell_type": "code",
   "outputs": [],
   "source": [
    "try:\n",
    "    latest_census.astype(int)\n",
    "except ValueError as ex:\n",
    "    print(f'ValueError: {ex}')"
   ],
   "metadata": {
    "collapsed": false
   },
   "id": "c031f0495b7d0ecd",
   "execution_count": null
  },
  {
   "cell_type": "code",
   "outputs": [],
   "source": [
    "try:\n",
    "    print(latest_census.astype('Int32'))\n",
    "except ValueError as ex:\n",
    "    print(f'ValueError: {ex}')"
   ],
   "metadata": {
    "collapsed": false
   },
   "id": "719a8b94f72864e3",
   "execution_count": null
  },
  {
   "cell_type": "code",
   "outputs": [],
   "source": [
    "latest_census.dropna().astype(int)"
   ],
   "metadata": {
    "collapsed": false
   },
   "id": "a0441ce473f55e84",
   "execution_count": null
  },
  {
   "cell_type": "code",
   "outputs": [
    {
     "data": {
      "text/plain": "0      1979\n1      2011\n2      2008\n3      2010\n5      2014\n       ... \n241    2010\n242    2007\n244    2004\n245    2010\n246    2012\nName: LatestPopulationCensus, Length: 208, dtype: int32"
     },
     "execution_count": 78,
     "metadata": {},
     "output_type": "execute_result"
    }
   ],
   "source": [
    "latest_census[latest_census.notnull()].astype(int)"
   ],
   "metadata": {
    "collapsed": false,
    "ExecuteTime": {
     "end_time": "2024-01-26T22:06:32.698669900Z",
     "start_time": "2024-01-26T22:06:32.690671Z"
    }
   },
   "id": "7c51eb9b92d7d09b",
   "execution_count": 78
  },
  {
   "cell_type": "code",
   "outputs": [],
   "source": [
    "# CONCATENATING DATAFRAMES : Vertical and Horizontal Concatenation: be careful of row index\n",
    "df_1 = pd.DataFrame(\n",
    "    [\n",
    "        [1, 2, 3],\n",
    "        [2, 3, 4]\n",
    "    ],\n",
    "    index = ['r1', 'r2'],\n",
    "    columns = ['c1', 'c2', 'c3']\n",
    ")\n",
    "\n",
    "df_2 = pd.DataFrame(\n",
    "    [\n",
    "        [10, 20],\n",
    "        [20, 30]\n",
    "    ],\n",
    "    index = ['r1', 'r2'],\n",
    "    columns = ['c10', 'c20']\n",
    ")"
   ],
   "metadata": {
    "collapsed": false
   },
   "id": "d54d6e2e3beda3e6",
   "execution_count": null
  },
  {
   "cell_type": "code",
   "outputs": [],
   "source": [
    "pd.concat([df_1, df_2], axis=1)"
   ],
   "metadata": {
    "collapsed": false
   },
   "id": "d7f7bfae0fd5122f",
   "execution_count": null
  },
  {
   "cell_type": "code",
   "outputs": [],
   "source": [
    "df_1 = pd.DataFrame(\n",
    "    [\n",
    "        [1, 2, 3],\n",
    "        [2, 3, 4]\n",
    "    ],\n",
    "    index = ['r1', 'r2'],\n",
    "    columns = ['c1', 'c2', 'c3']\n",
    ")\n",
    "\n",
    "df_2 = pd.DataFrame(\n",
    "    [\n",
    "        [10, 20],\n",
    "        [20, 30]\n",
    "    ],\n",
    "    index = ['r10', 'r2'],\n",
    "    columns = ['c10', 'c20']\n",
    ")"
   ],
   "metadata": {
    "collapsed": false
   },
   "id": "a695424cdc0d3a73",
   "execution_count": null
  },
  {
   "cell_type": "code",
   "outputs": [],
   "source": [
    "print(pd.concat([df_1, df_2], axis=1))"
   ],
   "metadata": {
    "collapsed": false
   },
   "id": "2eae7b851f84e8e0",
   "execution_count": null
  },
  {
   "cell_type": "code",
   "outputs": [],
   "source": [
    "print(pd.concat([df_1, df_2], axis=0))"
   ],
   "metadata": {
    "collapsed": false
   },
   "id": "9b0f3815cd39c233",
   "execution_count": null
  },
  {
   "cell_type": "code",
   "outputs": [],
   "source": [
    "df_1 = pd.DataFrame(\n",
    "    [\n",
    "        [1, 2, 3],\n",
    "        [2, 3, 4]\n",
    "    ],\n",
    "    index = ['r1', 'r2'],\n",
    "    columns = ['c1', 'c2', 'c3']\n",
    ")\n",
    "\n",
    "df_2 = pd.DataFrame(\n",
    "    [\n",
    "        [10, 20],\n",
    "        [20, 30]\n",
    "    ],\n",
    "    index = ['r1', 'r2'],\n",
    "    columns = ['c1', 'c20']\n",
    ")"
   ],
   "metadata": {
    "collapsed": false
   },
   "id": "a64640ba02707377",
   "execution_count": null
  },
  {
   "cell_type": "code",
   "outputs": [],
   "source": [
    "pd.concat([df_1, df_2], axis=1)"
   ],
   "metadata": {
    "collapsed": false
   },
   "id": "6ac39611c232d6f5",
   "execution_count": null
  },
  {
   "cell_type": "code",
   "outputs": [],
   "source": [
    "data = pd.concat([df_1, df_2], axis=1)\n",
    "data.columns = ['c1', 'c2', 'c3', 'c4', 'c5']\n",
    "print(data.columns)"
   ],
   "metadata": {
    "collapsed": false
   },
   "id": "4f0c6e96904a93ba",
   "execution_count": null
  },
  {
   "cell_type": "code",
   "outputs": [],
   "source": [
    "print(data)"
   ],
   "metadata": {
    "collapsed": false
   },
   "id": "1d62473c2a7043ee",
   "execution_count": null
  },
  {
   "cell_type": "code",
   "outputs": [],
   "source": [
    "df_1 = pd.DataFrame(\n",
    "    [\n",
    "        [1, 2, 3],\n",
    "        [2, 3, 4]\n",
    "    ],\n",
    "    index = ['r1', 'r2'],\n",
    "    columns = ['c1', 'c2', 'c3']\n",
    ")\n",
    "\n",
    "df_2 = pd.DataFrame(\n",
    "    [\n",
    "        [10, 20],\n",
    "        [20, 30]\n",
    "    ],\n",
    "    index = ['r3', 'r4'],\n",
    "    columns = ['c3', 'c4']\n",
    ")"
   ],
   "metadata": {
    "collapsed": false,
    "ExecuteTime": {
     "end_time": "2024-01-26T21:50:30.971599Z",
     "start_time": "2024-01-26T21:50:30.959590700Z"
    }
   },
   "id": "ed21bc030e008e3f",
   "execution_count": 46
  },
  {
   "cell_type": "code",
   "outputs": [
    {
     "name": "stdout",
     "output_type": "stream",
     "text": [
      "     c1   c2  c3    c4\n",
      "r1  1.0  2.0   3   NaN\n",
      "r2  2.0  3.0   4   NaN\n",
      "r3  NaN  NaN  10  20.0\n",
      "r4  NaN  NaN  20  30.0\n"
     ]
    }
   ],
   "source": [
    "print(pd.concat([df_1, df_2], axis=0))"
   ],
   "metadata": {
    "collapsed": false,
    "ExecuteTime": {
     "end_time": "2024-01-26T21:50:54.904178600Z",
     "start_time": "2024-01-26T21:50:54.866191800Z"
    }
   },
   "id": "edbc132fbaf28de7",
   "execution_count": 48
  },
  {
   "cell_type": "code",
   "outputs": [
    {
     "data": {
      "text/plain": "0      1979\n1      2011\n2      2008\n3      2010\n5      2014\n       ... \n241    2010\n242    2007\n244    2004\n245    2010\n246    2012\nName: LatestPopulationCensus, Length: 208, dtype: int32"
     },
     "execution_count": 62,
     "metadata": {},
     "output_type": "execute_result"
    }
   ],
   "source": [
    "latest_census = latest_census[latest_census.notnull()].astype(int)\n",
    "latest_census"
   ],
   "metadata": {
    "collapsed": false,
    "ExecuteTime": {
     "end_time": "2024-01-26T21:56:21.163523400Z",
     "start_time": "2024-01-26T21:56:21.153540400Z"
    }
   },
   "id": "8f8452a1e195bdaa",
   "execution_count": 62
  },
  {
   "cell_type": "code",
   "outputs": [
    {
     "name": "stdout",
     "output_type": "stream",
     "text": [
      "    CountryCode           ShortName\n",
      "0           AFG         Afghanistan\n",
      "1           ALB             Albania\n",
      "2           DZA             Algeria\n",
      "3           ASM      American Samoa\n",
      "4           ADO             Andorra\n",
      "..          ...                 ...\n",
      "242         WBG  West Bank and Gaza\n",
      "243         WLD               World\n",
      "244         YEM               Yemen\n",
      "245         ZMB              Zambia\n",
      "246         ZWE            Zimbabwe\n",
      "\n",
      "[247 rows x 2 columns]\n"
     ]
    }
   ],
   "source": [
    "subset = df[['CountryCode', 'ShortName']]\n",
    "print(subset)"
   ],
   "metadata": {
    "collapsed": false,
    "ExecuteTime": {
     "end_time": "2024-01-26T21:56:34.263516600Z",
     "start_time": "2024-01-26T21:56:34.240524400Z"
    }
   },
   "id": "8cb7c4dc99cafc33",
   "execution_count": 63
  },
  {
   "cell_type": "code",
   "outputs": [
    {
     "name": "stdout",
     "output_type": "stream",
     "text": [
      "    CountryCode        ShortName\n",
      "246         ZWE         Zimbabwe\n",
      "245         ZMB           Zambia\n",
      "54          ZAR  Dem. Rep. Congo\n",
      "199         ZAF     South Africa\n",
      "244         YEM            Yemen\n",
      "..          ...              ...\n",
      "1           ALB          Albania\n",
      "5           AGO           Angola\n",
      "0           AFG      Afghanistan\n",
      "4           ADO          Andorra\n",
      "10          ABW            Aruba\n",
      "\n",
      "[247 rows x 2 columns]\n"
     ]
    }
   ],
   "source": [
    "print(subset.sort_values(by='CountryCode', ascending=False))"
   ],
   "metadata": {
    "collapsed": false,
    "ExecuteTime": {
     "end_time": "2024-01-26T21:58:00.554906400Z",
     "start_time": "2024-01-26T21:58:00.540910100Z"
    }
   },
   "id": "ebc6c918f74e973",
   "execution_count": 65
  },
  {
   "cell_type": "code",
   "outputs": [
    {
     "name": "stdout",
     "output_type": "stream",
     "text": [
      "<class 'pandas.core.frame.DataFrame'>\n",
      "Int64Index: 247 entries, 0 to 246\n",
      "Data columns (total 3 columns):\n",
      " #   Column                  Non-Null Count  Dtype  \n",
      "---  ------                  --------------  -----  \n",
      " 0   CountryCode             247 non-null    object \n",
      " 1   ShortName               247 non-null    object \n",
      " 2   LatestPopulationCensus  208 non-null    float64\n",
      "dtypes: float64(1), object(2)\n",
      "memory usage: 7.7+ KB\n"
     ]
    }
   ],
   "source": [
    "pd.concat([subset, latest_census], axis=1).info()"
   ],
   "metadata": {
    "collapsed": false,
    "ExecuteTime": {
     "end_time": "2024-01-26T21:58:59.891473900Z",
     "start_time": "2024-01-26T21:58:59.855479400Z"
    }
   },
   "id": "5fa78302c859ea32",
   "execution_count": 66
  },
  {
   "cell_type": "code",
   "outputs": [
    {
     "name": "stdout",
     "output_type": "stream",
     "text": [
      "    CountryCode           ShortName\n",
      "0           AFG         Afghanistan\n",
      "1           ALB             Albania\n",
      "2           DZA             Algeria\n",
      "3           ASM      American Samoa\n",
      "5           AGO              Angola\n",
      "..          ...                 ...\n",
      "241         VIR      Virgin Islands\n",
      "242         WBG  West Bank and Gaza\n",
      "244         YEM               Yemen\n",
      "245         ZMB              Zambia\n",
      "246         ZWE            Zimbabwe\n",
      "\n",
      "[208 rows x 2 columns]\n"
     ]
    }
   ],
   "source": [
    "df = pd.read_csv('world_bank_countries.csv')\n",
    "latest_census = pd.to_numeric(df['LatestPopulationCensus'], errors='coerce')\n",
    "mask = latest_census.notnull()\n",
    "subset = df.loc[:, ['CountryCode', 'ShortName']][mask]\n",
    "print(subset)"
   ],
   "metadata": {
    "collapsed": false,
    "ExecuteTime": {
     "end_time": "2024-01-26T22:03:34.563539Z",
     "start_time": "2024-01-26T22:03:34.513534400Z"
    }
   },
   "id": "3b957eaea9daf770",
   "execution_count": 72
  },
  {
   "cell_type": "code",
   "outputs": [
    {
     "data": {
      "text/plain": "0      1979\n1      2011\n2      2008\n3      2010\n5      2014\n       ... \n241    2010\n242    2007\n244    2004\n245    2010\n246    2012\nName: LatestPopulationCensus, Length: 208, dtype: int32"
     },
     "execution_count": 73,
     "metadata": {},
     "output_type": "execute_result"
    }
   ],
   "source": [
    "latest_census.dropna().astype(int)"
   ],
   "metadata": {
    "collapsed": false,
    "ExecuteTime": {
     "end_time": "2024-01-26T22:04:56.344932400Z",
     "start_time": "2024-01-26T22:04:56.314935800Z"
    }
   },
   "id": "9346f2238c888648",
   "execution_count": 73
  },
  {
   "cell_type": "code",
   "outputs": [
    {
     "data": {
      "text/plain": "0      1979\n1      2011\n2      2008\n3      2010\n5      2014\n       ... \n241    2010\n242    2007\n244    2004\n245    2010\n246    2012\nName: LatestPopulationCensus, Length: 208, dtype: int32"
     },
     "execution_count": 74,
     "metadata": {},
     "output_type": "execute_result"
    }
   ],
   "source": [
    "latest_census[mask].astype(int)"
   ],
   "metadata": {
    "collapsed": false,
    "ExecuteTime": {
     "end_time": "2024-01-26T22:05:10.331177Z",
     "start_time": "2024-01-26T22:05:10.299488Z"
    }
   },
   "id": "39ca6a062a8e4de7",
   "execution_count": 74
  },
  {
   "cell_type": "code",
   "outputs": [
    {
     "name": "stdout",
     "output_type": "stream",
     "text": [
      "    CountryCode           ShortName  LatestPopulationCensus\n",
      "0           AFG         Afghanistan                    1979\n",
      "1           ALB             Albania                    2011\n",
      "2           DZA             Algeria                    2008\n",
      "3           ASM      American Samoa                    2010\n",
      "5           AGO              Angola                    2014\n",
      "..          ...                 ...                     ...\n",
      "241         VIR      Virgin Islands                    2010\n",
      "242         WBG  West Bank and Gaza                    2007\n",
      "244         YEM               Yemen                    2004\n",
      "245         ZMB              Zambia                    2010\n",
      "246         ZWE            Zimbabwe                    2012\n",
      "\n",
      "[208 rows x 3 columns]\n",
      "<class 'pandas.core.frame.DataFrame'>\n",
      "Int64Index: 208 entries, 0 to 246\n",
      "Data columns (total 3 columns):\n",
      " #   Column                  Non-Null Count  Dtype \n",
      "---  ------                  --------------  ----- \n",
      " 0   CountryCode             208 non-null    object\n",
      " 1   ShortName               208 non-null    object\n",
      " 2   LatestPopulationCensus  208 non-null    int32 \n",
      "dtypes: int32(1), object(2)\n",
      "memory usage: 5.7+ KB\n",
      "None\n"
     ]
    }
   ],
   "source": [
    "result = pd.concat([subset, latest_census.dropna().astype(int)], axis=1)\n",
    "print(result)\n",
    "print(result.info())"
   ],
   "metadata": {
    "collapsed": false,
    "ExecuteTime": {
     "end_time": "2024-01-26T22:05:49.946913600Z",
     "start_time": "2024-01-26T22:05:49.916914300Z"
    }
   },
   "id": "e01bbf2fcaea7210",
   "execution_count": 77
  },
  {
   "cell_type": "code",
   "outputs": [
    {
     "name": "stdout",
     "output_type": "stream",
     "text": [
      "    CountryCode           ShortName\n",
      "0           AFG         Afghanistan\n",
      "1           ALB             Albania\n",
      "2           DZA             Algeria\n",
      "3           ASM      American Samoa\n",
      "4           ADO             Andorra\n",
      "..          ...                 ...\n",
      "242         WBG  West Bank and Gaza\n",
      "243         WLD               World\n",
      "244         YEM               Yemen\n",
      "245         ZMB              Zambia\n",
      "246         ZWE            Zimbabwe\n",
      "\n",
      "[247 rows x 2 columns]\n"
     ]
    }
   ],
   "source": [
    "df = pd.read_csv('world_bank_countries.csv')\n",
    "latest_census = pd.to_numeric(df['LatestPopulationCensus'], errors='coerce').dropna().astype(int)\n",
    "subset = df[['CountryCode', 'ShortName']]\n",
    "print(subset)"
   ],
   "metadata": {
    "collapsed": false,
    "ExecuteTime": {
     "end_time": "2024-01-26T22:08:17.244266600Z",
     "start_time": "2024-01-26T22:08:17.202742400Z"
    }
   },
   "id": "ddfc3af89268e74f",
   "execution_count": 80
  },
  {
   "cell_type": "code",
   "outputs": [
    {
     "name": "stdout",
     "output_type": "stream",
     "text": [
      "0      1979\n",
      "1      2011\n",
      "2      2008\n",
      "3      2010\n",
      "5      2014\n",
      "       ... \n",
      "241    2010\n",
      "242    2007\n",
      "244    2004\n",
      "245    2010\n",
      "246    2012\n",
      "Name: LatestPopulationCensus, Length: 208, dtype: int32\n"
     ]
    }
   ],
   "source": [
    "print(latest_census)"
   ],
   "metadata": {
    "collapsed": false,
    "ExecuteTime": {
     "end_time": "2024-01-26T22:08:36.844303700Z",
     "start_time": "2024-01-26T22:08:36.805303800Z"
    }
   },
   "id": "783351b7258c43d6",
   "execution_count": 81
  },
  {
   "cell_type": "code",
   "outputs": [
    {
     "name": "stdout",
     "output_type": "stream",
     "text": [
      "<class 'pandas.core.frame.DataFrame'>\n",
      "Int64Index: 247 entries, 0 to 246\n",
      "Data columns (total 3 columns):\n",
      " #   Column                  Non-Null Count  Dtype  \n",
      "---  ------                  --------------  -----  \n",
      " 0   CountryCode             247 non-null    object \n",
      " 1   ShortName               247 non-null    object \n",
      " 2   LatestPopulationCensus  208 non-null    float64\n",
      "dtypes: float64(1), object(2)\n",
      "memory usage: 7.7+ KB\n"
     ]
    }
   ],
   "source": [
    "pd.concat([subset, latest_census], axis=1,\n",
    "          ).info()"
   ],
   "metadata": {
    "collapsed": false,
    "ExecuteTime": {
     "end_time": "2024-01-26T22:10:03.842446400Z",
     "start_time": "2024-01-26T22:10:03.794451900Z"
    }
   },
   "id": "74deffa507007e47",
   "execution_count": 84
  },
  {
   "cell_type": "code",
   "outputs": [
    {
     "name": "stdout",
     "output_type": "stream",
     "text": [
      "<class 'pandas.core.frame.DataFrame'>\n",
      "Int64Index: 208 entries, 0 to 246\n",
      "Data columns (total 3 columns):\n",
      " #   Column                  Non-Null Count  Dtype \n",
      "---  ------                  --------------  ----- \n",
      " 0   CountryCode             208 non-null    object\n",
      " 1   ShortName               208 non-null    object\n",
      " 2   LatestPopulationCensus  208 non-null    int32 \n",
      "dtypes: int32(1), object(2)\n",
      "memory usage: 5.7+ KB\n"
     ]
    }
   ],
   "source": [
    "pd.concat([subset, latest_census], axis=1, join='inner'\n",
    "          ).info()"
   ],
   "metadata": {
    "collapsed": false,
    "ExecuteTime": {
     "end_time": "2024-01-26T22:10:25.250747700Z",
     "start_time": "2024-01-26T22:10:25.238119600Z"
    }
   },
   "id": "ca40d362760fe81",
   "execution_count": 85
  },
  {
   "cell_type": "code",
   "outputs": [],
   "source": [],
   "metadata": {
    "collapsed": false
   },
   "id": "6413d80114d91188",
   "execution_count": null
  },
  {
   "cell_type": "code",
   "outputs": [],
   "source": [],
   "metadata": {
    "collapsed": false
   },
   "id": "65deacd41cc7bef",
   "execution_count": null
  },
  {
   "cell_type": "code",
   "outputs": [],
   "source": [],
   "metadata": {
    "collapsed": false
   },
   "id": "ca3b2200c46caa1",
   "execution_count": null
  },
  {
   "cell_type": "code",
   "outputs": [],
   "source": [],
   "metadata": {
    "collapsed": false
   },
   "id": "8414652633a53ea"
  }
 ],
 "metadata": {
  "kernelspec": {
   "display_name": "Python 3",
   "language": "python",
   "name": "python3"
  },
  "language_info": {
   "codemirror_mode": {
    "name": "ipython",
    "version": 2
   },
   "file_extension": ".py",
   "mimetype": "text/x-python",
   "name": "python",
   "nbconvert_exporter": "python",
   "pygments_lexer": "ipython2",
   "version": "2.7.6"
  }
 },
 "nbformat": 4,
 "nbformat_minor": 5
}
