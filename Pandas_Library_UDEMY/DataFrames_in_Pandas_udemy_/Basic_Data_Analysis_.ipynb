{
 "cells": [
  {
   "cell_type": "markdown",
   "source": [
    "# Basic Data Analysis"
   ],
   "metadata": {
    "collapsed": false
   },
   "id": "2d3f828cd860eaa0"
  },
  {
   "cell_type": "code",
   "outputs": [],
   "source": [
    "\"\"\"\n",
    "                    BASIC DATA ANALYSIS\n",
    "--> Basic Facts about loaded data set:\n",
    "    --> .info() : returns column names, types of column names and not-nulls counts, total number of rows\n",
    "        --> df.info(verbose=True) : will list out all the columns by their names and types\n",
    "        --> df.info(show_counts=True) : will list out the null_counts of the columns \n",
    "    --> .describe() : returns mean, min, max, quartiles, standard deviation\n",
    "                    --> By default, this method only includes numerical columns.\n",
    "        --> df.describe(include='all') : which includes categorical columns\n",
    "                    --> returns number of unique values \n",
    "                    --> returns most frequent values and their frequency\n",
    "    --> df.nunique() : returns number of unique values \n",
    "    --> df.unique() : returns an array of unique values\n",
    "    --> df.value_counts() : returns a Series of values and their frequency\n",
    "    --> df.count() : gets the count in a series \n",
    "    --> df.mean()\n",
    "    --> df.median()\n",
    "    --> df.std()\n",
    "    --> df.quantile()\n",
    "\"\"\""
   ],
   "metadata": {
    "collapsed": false
   },
   "id": "48d911f6c28d4d67",
   "execution_count": null
  },
  {
   "cell_type": "code",
   "outputs": [],
   "source": [
    "import pandas as pd\n",
    "import numpy as np"
   ],
   "metadata": {
    "collapsed": false
   },
   "id": "82bcacc1e136908c",
   "execution_count": null
  },
  {
   "cell_type": "code",
   "outputs": [],
   "source": [
    "df = pd.read_csv('Morningstar - European Mutual Funds.csv')\n",
    "df.head()"
   ],
   "metadata": {
    "collapsed": false
   },
   "id": "11a3ff4ebbad986b",
   "execution_count": null
  },
  {
   "cell_type": "code",
   "outputs": [],
   "source": [
    "df.shape"
   ],
   "metadata": {
    "collapsed": false
   },
   "id": "c6f0bae962f7bd69",
   "execution_count": null
  },
  {
   "cell_type": "code",
   "outputs": [],
   "source": [
    "df.iloc[:5, :]"
   ],
   "metadata": {
    "collapsed": false
   },
   "id": "6796fa65ebc03492",
   "execution_count": null
  },
  {
   "cell_type": "code",
   "outputs": [],
   "source": [
    "df.info()"
   ],
   "metadata": {
    "collapsed": false
   },
   "id": "72d294e02ce7040c",
   "execution_count": null
  },
  {
   "cell_type": "code",
   "outputs": [],
   "source": [
    "pd.options.display.max_info_columns=100"
   ],
   "metadata": {
    "collapsed": false
   },
   "id": "f0c879599b780f6b",
   "execution_count": null
  },
  {
   "cell_type": "code",
   "outputs": [],
   "source": [
    "df.info()"
   ],
   "metadata": {
    "collapsed": false
   },
   "id": "9cefaa1b43884454",
   "execution_count": null
  },
  {
   "cell_type": "code",
   "outputs": [],
   "source": [
    "df.info(verbose=True)"
   ],
   "metadata": {
    "collapsed": false
   },
   "id": "e52375b3cc6ce4af",
   "execution_count": null
  },
  {
   "cell_type": "code",
   "outputs": [],
   "source": [
    "df.info(verbose=True, show_counts=True)"
   ],
   "metadata": {
    "collapsed": false
   },
   "id": "a8b86b264f25ead2",
   "execution_count": null
  },
  {
   "cell_type": "code",
   "outputs": [],
   "source": [
    "stats = df.describe()\n",
    "stats"
   ],
   "metadata": {
    "collapsed": false
   },
   "id": "cba145f3248674a8",
   "execution_count": null
  },
  {
   "cell_type": "code",
   "outputs": [],
   "source": [
    "pd.options.display.max_columns=None"
   ],
   "metadata": {
    "collapsed": false
   },
   "id": "2b4d19008d50d87e",
   "execution_count": null
  },
  {
   "cell_type": "code",
   "outputs": [],
   "source": [
    "stats"
   ],
   "metadata": {
    "collapsed": false
   },
   "id": "12a691c60bdb7ee6",
   "execution_count": null
  },
  {
   "cell_type": "code",
   "outputs": [],
   "source": [
    "stats = df.describe(include='all')\n",
    "stats"
   ],
   "metadata": {
    "collapsed": false
   },
   "id": "ff13b4df8fb1812b",
   "execution_count": null
  },
  {
   "cell_type": "code",
   "outputs": [],
   "source": [
    "stats['morningstar_category']"
   ],
   "metadata": {
    "collapsed": false
   },
   "id": "bdc6e59852b359f1",
   "execution_count": null
  },
  {
   "cell_type": "code",
   "outputs": [],
   "source": [
    "stats['fund_return_2018']"
   ],
   "metadata": {
    "collapsed": false
   },
   "id": "4028c105bb965816",
   "execution_count": null
  },
  {
   "cell_type": "code",
   "outputs": [],
   "source": [
    "data = df.loc[:, ['ticker', 'fund_name', 'morningstar_category', 'fund_return_2018']]\n",
    "data.head(7)"
   ],
   "metadata": {
    "collapsed": false
   },
   "id": "a87987eacc53f429",
   "execution_count": null
  },
  {
   "cell_type": "code",
   "outputs": [],
   "source": [
    "data = data.set_index('ticker')"
   ],
   "metadata": {
    "collapsed": false
   },
   "id": "f460c875ca757d63",
   "execution_count": null
  },
  {
   "cell_type": "code",
   "outputs": [],
   "source": [
    "data.head()"
   ],
   "metadata": {
    "collapsed": false
   },
   "id": "403ce7f5a5c23e59",
   "execution_count": null
  },
  {
   "cell_type": "code",
   "outputs": [],
   "source": [
    "data.describe(include='all')"
   ],
   "metadata": {
    "collapsed": false
   },
   "id": "4b12a4d69cc278cd",
   "execution_count": null
  },
  {
   "cell_type": "code",
   "outputs": [],
   "source": [
    "data['morningstar_category'].nunique()"
   ],
   "metadata": {
    "collapsed": false
   },
   "id": "ea2a53a1aaa3bd01",
   "execution_count": null
  },
  {
   "cell_type": "code",
   "outputs": [],
   "source": [
    "data.nunique()"
   ],
   "metadata": {
    "collapsed": false
   },
   "id": "9c23298a190be823",
   "execution_count": null
  },
  {
   "cell_type": "code",
   "outputs": [],
   "source": [
    "categories = data['morningstar_category'].unique()\n",
    "print(categories)"
   ],
   "metadata": {
    "collapsed": false
   },
   "id": "3f5c713238578232",
   "execution_count": null
  },
  {
   "cell_type": "code",
   "outputs": [],
   "source": [
    "sorted_categories = sorted(categories)"
   ],
   "metadata": {
    "collapsed": false,
    "ExecuteTime": {
     "end_time": "2024-01-20T14:32:57.599672700Z",
     "start_time": "2024-01-20T14:32:57.567675600Z"
    }
   },
   "id": "2d66e87bc41b44d8",
   "execution_count": 97
  },
  {
   "cell_type": "code",
   "outputs": [],
   "source": [
    "sorted_categories.sort()"
   ],
   "metadata": {
    "collapsed": false,
    "ExecuteTime": {
     "end_time": "2024-01-20T14:32:59.366760700Z",
     "start_time": "2024-01-20T14:32:59.349647300Z"
    }
   },
   "id": "5d8888812b9877b9",
   "execution_count": 98
  },
  {
   "cell_type": "code",
   "outputs": [
    {
     "name": "stdout",
     "output_type": "stream",
     "text": [
      "ASEAN Equity\n",
      "Africa & Middle East Equity\n",
      "Africa Equity\n",
      "Alt - Currency\n",
      "Alt - Event Driven\n",
      "Alt - Global Macro\n",
      "Alt - Long/Short Credit\n",
      "Alt - Long/Short Equity - Europe\n",
      "Alt - Long/Short Equity - Global\n",
      "Alt - Long/Short Equity - Other\n",
      "Alt - Long/Short Equity - UK\n",
      "Alt - Long/Short Equity - US\n",
      "Alt - Market Neutral - Equity\n",
      "Alt - Multistrategy\n",
      "Alt - Other\n",
      "Alt - Relative Value Arbitrage\n",
      "Alt - Systematic Futures\n",
      "Alt - Volatility\n",
      "Asia Allocation\n",
      "Asia Bond\n",
      "Asia Bond - Local Currency\n",
      "Asia High Yield Bond\n",
      "Asia ex-Japan Equity\n",
      "Asia ex-Japan Small/Mid-Cap Equity\n",
      "Asia-Pacific ex-Japan Equity\n",
      "Asia-Pacific ex-Japan Equity Income\n",
      "Asia-Pacific inc. Japan Equity\n",
      "Australia & New Zealand Equity\n",
      "BRIC Equity\n",
      "Brazil Equity\n",
      "CHF Aggressive Allocation\n",
      "CHF Bond\n",
      "CHF Bond - Short Term\n",
      "CHF Cautious Allocation\n",
      "CHF Moderate Allocation\n",
      "CHF Money Market\n",
      "Canada Equity\n",
      "Capital Protected\n",
      "China Equity\n",
      "China Equity - A Shares\n",
      "Commodities - Broad Agriculture\n",
      "Commodities - Broad Basket\n",
      "Convertible Bond - Europe\n",
      "Convertible Bond - Global\n",
      "Convertible Bond - Global, CHF Hedged\n",
      "Convertible Bond - Global, EUR Hedged\n",
      "Convertible Bond - Global, GBP Hedged\n",
      "Convertible Bond - Global, USD Hedged\n",
      "Convertible Bond - Other\n",
      "DKK Bond\n",
      "DKK Domestic Bond\n",
      "Denmark Equity\n",
      "EUR Aggressive Allocation\n",
      "EUR Aggressive Allocation - Global\n",
      "EUR Bond - Long Term\n",
      "EUR Cautious Allocation\n",
      "EUR Cautious Allocation - Global\n",
      "EUR Corporate Bond\n",
      "EUR Corporate Bond - Short Term\n",
      "EUR Diversified Bond\n",
      "EUR Diversified Bond - Short Term\n",
      "EUR Flexible Allocation\n",
      "EUR Flexible Allocation - Global\n",
      "EUR Flexible Bond\n",
      "EUR Government Bond\n",
      "EUR Government Bond - Short Term\n",
      "EUR High Yield Bond\n",
      "EUR Inflation-Linked Bond\n",
      "EUR Moderate Allocation\n",
      "EUR Moderate Allocation - Global\n",
      "EUR Money Market\n",
      "EUR Money Market - Short Term\n",
      "EUR Subordinated Bond\n",
      "EUR Ultra Short-Term Bond\n",
      "Emerging Europe Bond\n",
      "Emerging Europe Equity\n",
      "Emerging Europe ex-Russia Equity\n",
      "Europe Bond\n",
      "Europe Equity Income\n",
      "Europe Flex-Cap Equity\n",
      "Europe Large-Cap Blend Equity\n",
      "Europe Large-Cap Growth Equity\n",
      "Europe Large-Cap Value Equity\n",
      "Europe Mid-Cap Equity\n",
      "Europe Small-Cap Equity\n",
      "Europe ex-UK Large-Cap Equity\n",
      "Europe ex-UK Small/Mid-Cap Equity\n",
      "Eurozone Flex-Cap Equity\n",
      "Eurozone Large-Cap Equity\n",
      "Eurozone Mid-Cap Equity\n",
      "Eurozone Small-Cap Equity\n",
      "Fixed Term Bond\n",
      "France Large-Cap Equity\n",
      "France Small/Mid-Cap Equity\n",
      "GBP Adventurous Allocation\n",
      "GBP Cautious Allocation\n",
      "GBP Corporate Bond\n",
      "GBP Diversified Bond\n",
      "GBP Diversified Bond - Short Term\n",
      "GBP Flexible Allocation\n",
      "GBP Flexible Bond\n",
      "GBP Government Bond\n",
      "GBP High Yield Bond\n",
      "GBP Inflation-Linked Bond\n",
      "GBP Moderate Allocation\n",
      "GBP Moderately Adventurous Allocation\n",
      "GBP Moderately Cautious Allocation\n",
      "GBP Money Market\n",
      "GBP Money Market - Short Term\n",
      "Germany Large-Cap Equity\n",
      "Germany Small/Mid-Cap Equity\n",
      "Global Bond\n",
      "Global Bond - CHF Biased\n",
      "Global Bond - CHF Hedged\n",
      "Global Bond - EUR Biased\n",
      "Global Bond - EUR Hedged\n",
      "Global Bond - GBP Biased\n",
      "Global Bond - GBP Hedged\n",
      "Global Bond - ILS\n",
      "Global Bond - NOK Hedged\n",
      "Global Bond - USD Hedged\n",
      "Global Corporate Bond\n",
      "Global Corporate Bond - CHF Hedged\n",
      "Global Corporate Bond - EUR Hedged\n",
      "Global Corporate Bond - GBP Hedged\n",
      "Global Corporate Bond - USD Hedged\n",
      "Global Emerging Markets Allocation\n",
      "Global Emerging Markets Bond\n",
      "Global Emerging Markets Bond - EUR Biased\n",
      "Global Emerging Markets Bond - Local Currency\n",
      "Global Emerging Markets Corporate Bond\n",
      "Global Emerging Markets Corporate Bond - EUR Biased\n",
      "Global Emerging Markets Equity\n",
      "Global Emerging Markets Small/Mid-Cap Equity\n",
      "Global Equity Income\n",
      "Global Flex-Cap Equity\n",
      "Global Flexible Bond\n",
      "Global Flexible Bond - CHF Hedged\n",
      "Global Flexible Bond - EUR Hedged\n",
      "Global Flexible Bond - GBP Hedged\n",
      "Global Flexible Bond - USD Hedged\n",
      "Global Frontier Markets Equity\n",
      "Global High Yield Bond\n",
      "Global High Yield Bond - CHF Hedged\n",
      "Global High Yield Bond - EUR Hedged\n",
      "Global High Yield Bond - GBP Hedged\n",
      "Global Inflation-Linked Bond\n",
      "Global Inflation-Linked Bond - EUR Hedged\n",
      "Global Inflation-Linked Bond - GBP Hedged\n",
      "Global Inflation-Linked Bond - USD Hedged\n",
      "Global Large-Cap Blend Equity\n",
      "Global Large-Cap Growth Equity\n",
      "Global Large-Cap Value Equity\n",
      "Global Small-Cap Equity\n",
      "Greater China Allocation\n",
      "Greater China Equity\n",
      "Guaranteed Funds\n",
      "HKD Bond\n",
      "Hong Kong Equity\n",
      "India Equity\n",
      "Indonesia Equity\n",
      "Islamic Allocation - Other\n",
      "Islamic Equity - Other\n",
      "Islamic Global Bond\n",
      "Islamic Global Equity\n",
      "Italy Equity\n",
      "JPY Bond\n",
      "Japan Flex-Cap Equity\n",
      "Japan Large-Cap Equity\n",
      "Japan Small/Mid-Cap Equity\n",
      "Korea Equity\n",
      "Latin America Equity\n",
      "Money Market - Other\n",
      "NOK Bond\n",
      "NOK Bond - Short Term\n",
      "NOK Cautious Allocation\n",
      "NOK High Yield Bond\n",
      "NOK Moderate Allocation\n",
      "Nordic Equity\n",
      "Nordic Small/Mid-Cap Equity\n",
      "Norway Equity\n",
      "Other\n",
      "Other Allocation\n",
      "Other Bond\n",
      "Other Equity\n",
      "Pacific ex-Japan Equity\n",
      "Property - Direct Europe\n",
      "Property - Direct Global\n",
      "Property - Direct Other\n",
      "Property - Direct UK\n",
      "Property - Indirect Asia\n",
      "Property - Indirect Europe\n",
      "Property - Indirect Eurozone\n",
      "Property - Indirect Global\n",
      "Property - Indirect North America\n",
      "Property - Indirect Other\n",
      "RMB Bond\n",
      "RMB Bond - Onshore\n",
      "RMB High Yield Bond\n",
      "Russia Equity\n",
      "SEK Bond\n",
      "SEK Cautious Allocation\n",
      "SEK Corporate Bond\n",
      "SEK Flexible Allocation\n",
      "Sector Equity Agriculture\n",
      "Sector Equity Alternative Energy\n",
      "Sector Equity Biotechnology\n",
      "Sector Equity Communications\n",
      "Sector Equity Consumer Goods & Services\n",
      "Sector Equity Ecology\n",
      "Sector Equity Energy\n",
      "Sector Equity Financial Services\n",
      "Sector Equity Healthcare\n",
      "Sector Equity Industrial Materials\n",
      "Sector Equity Infrastructure\n",
      "Sector Equity Natural Resources\n",
      "Sector Equity Precious Metals\n",
      "Sector Equity Private Equity\n",
      "Sector Equity Technology\n",
      "Sector Equity Water\n",
      "Singapore Equity\n",
      "Spain Equity\n",
      "Sweden Equity\n",
      "Switzerland Large-Cap Equity\n",
      "Switzerland Small/Mid-Cap Equity\n",
      "Taiwan Large-Cap Equity\n",
      "Target Date 2011 - 2015\n",
      "Target Date 2016 - 2020\n",
      "Target Date 2021 - 2025\n",
      "Target Date 2026 - 2030\n",
      "Target Date 2031 - 2035\n",
      "Target Date 2036 - 2040\n",
      "Target Date 2041 - 2045\n",
      "Target Date 2046+\n",
      "Thailand Equity\n",
      "Turkey Equity\n",
      "UK Equity Income\n",
      "UK Flex-Cap Equity\n",
      "UK Large-Cap Equity\n",
      "UK Mid-Cap Equity\n",
      "UK Small-Cap Equity\n",
      "US Flex-Cap Equity\n",
      "US Large-Cap Blend Equity\n",
      "US Large-Cap Growth Equity\n",
      "US Large-Cap Value Equity\n",
      "US Mid-Cap Equity\n",
      "US Small-Cap Equity\n",
      "USD Aggressive Allocation\n",
      "USD Cautious Allocation\n",
      "USD Corporate Bond\n",
      "USD Diversified Bond\n",
      "USD Diversified Bond - Short Term\n",
      "USD Flexible Allocation\n",
      "USD Flexible Bond\n",
      "USD Government Bond\n",
      "USD High Yield Bond\n",
      "USD Inflation-Linked Bond\n",
      "USD Moderate Allocation\n",
      "USD Money Market\n",
      "USD Money Market - Short Term\n",
      "Vietnam Equity\n"
     ]
    }
   ],
   "source": [
    "for category in sorted_categories:\n",
    "    print(category)"
   ],
   "metadata": {
    "collapsed": false,
    "ExecuteTime": {
     "end_time": "2024-01-20T14:33:00.382911200Z",
     "start_time": "2024-01-20T14:33:00.333328800Z"
    }
   },
   "id": "21cdfe72cc5dea4c",
   "execution_count": 99
  },
  {
   "cell_type": "code",
   "outputs": [
    {
     "data": {
      "text/plain": "Other Bond                        3418\nOther Equity                      3209\nGlobal Large-Cap Blend Equity     2054\nGlobal Emerging Markets Equity    1822\nGBP Moderate Allocation           1085\n                                  ... \nGlobal Bond - GBP Biased             1\nGlobal Bond - ILS                    1\nTarget Date 2011 - 2015              1\nNOK Moderate Allocation              1\nGuaranteed Funds                     1\nName: morningstar_category, Length: 261, dtype: int64"
     },
     "execution_count": 100,
     "metadata": {},
     "output_type": "execute_result"
    }
   ],
   "source": [
    "cat_frequency = data['morningstar_category'].value_counts()\n",
    "cat_frequency"
   ],
   "metadata": {
    "collapsed": false,
    "ExecuteTime": {
     "end_time": "2024-01-20T14:34:24.424701400Z",
     "start_time": "2024-01-20T14:34:24.378699800Z"
    }
   },
   "id": "77804cd09d8f54d",
   "execution_count": 100
  },
  {
   "cell_type": "code",
   "outputs": [
    {
     "data": {
      "text/plain": "pandas.core.series.Series"
     },
     "execution_count": 102,
     "metadata": {},
     "output_type": "execute_result"
    }
   ],
   "source": [
    "type(cat_frequency)"
   ],
   "metadata": {
    "collapsed": false,
    "ExecuteTime": {
     "end_time": "2024-01-20T14:35:28.194505Z",
     "start_time": "2024-01-20T14:35:28.173510300Z"
    }
   },
   "id": "978d7429ad5b8981",
   "execution_count": 102
  },
  {
   "cell_type": "code",
   "outputs": [
    {
     "data": {
      "text/plain": "Index(['Other Bond', 'Other Equity', 'Global Large-Cap Blend Equity',\n       'Global Emerging Markets Equity', 'GBP Moderate Allocation',\n       'Alt - Multistrategy', 'Global Emerging Markets Bond',\n       'US Large-Cap Blend Equity', 'Japan Large-Cap Equity',\n       'GBP Moderately Adventurous Allocation',\n       ...\n       'Global Bond - NOK Hedged', 'NOK Cautious Allocation', 'Vietnam Equity',\n       'EUR Aggressive Allocation', 'RMB High Yield Bond',\n       'Global Bond - GBP Biased', 'Global Bond - ILS',\n       'Target Date 2011 - 2015', 'NOK Moderate Allocation',\n       'Guaranteed Funds'],\n      dtype='object', length=261)"
     },
     "execution_count": 104,
     "metadata": {},
     "output_type": "execute_result"
    }
   ],
   "source": [
    "cat_frequency.index"
   ],
   "metadata": {
    "collapsed": false,
    "ExecuteTime": {
     "end_time": "2024-01-20T14:35:57.407916900Z",
     "start_time": "2024-01-20T14:35:57.385913600Z"
    }
   },
   "id": "46f14dedfbfc8024",
   "execution_count": 104
  },
  {
   "cell_type": "code",
   "outputs": [
    {
     "name": "stdout",
     "output_type": "stream",
     "text": [
      "3418\tOther Bond\n",
      "3209\tOther Equity\n",
      "2054\tGlobal Large-Cap Blend Equity\n",
      "1822\tGlobal Emerging Markets Equity\n",
      "1085\tGBP Moderate Allocation\n",
      "899\tAlt - Multistrategy\n",
      "874\tGlobal Emerging Markets Bond\n",
      "828\tUS Large-Cap Blend Equity\n",
      "780\tJapan Large-Cap Equity\n",
      "756\tGBP Moderately Adventurous Allocation\n",
      "713\tAlt - Long/Short Credit\n",
      "702\tEurope Large-Cap Blend Equity\n",
      "696\tGlobal Equity Income\n",
      "632\tGlobal Large-Cap Growth Equity\n",
      "626\tGlobal Emerging Markets Bond - Local Currency\n",
      "616\tUK Large-Cap Equity\n",
      "553\tAsia ex-Japan Equity\n",
      "546\tGBP Moderately Cautious Allocation\n",
      "531\tEurope ex-UK Large-Cap Equity\n",
      "527\tUSD Moderate Allocation\n",
      "509\tUS Large-Cap Growth Equity\n",
      "490\tGlobal Bond\n",
      "464\tGlobal High Yield Bond\n",
      "456\tUK Equity Income\n",
      "444\tEUR Corporate Bond\n",
      "442\tUSD High Yield Bond\n",
      "423\tGlobal Flexible Bond - GBP Hedged\n",
      "419\tGBP Corporate Bond\n",
      "415\tGBP Adventurous Allocation\n",
      "415\tOther Allocation\n",
      "413\tGlobal Emerging Markets Bond - EUR Biased\n",
      "400\tGlobal Flexible Bond - EUR Hedged\n",
      "390\tEUR Moderate Allocation - Global\n",
      "381\tUK Flex-Cap Equity\n",
      "381\tChina Equity\n",
      "375\tEUR High Yield Bond\n",
      "342\tProperty - Indirect Global\n",
      "342\tGlobal Flexible Bond - USD Hedged\n",
      "334\tUS Large-Cap Value Equity\n",
      "332\tGlobal Flexible Bond\n",
      "331\tAsia-Pacific ex-Japan Equity\n",
      "324\tEurozone Large-Cap Equity\n",
      "319\tIndia Equity\n",
      "303\tAlt - Market Neutral - Equity\n",
      "300\tGlobal Bond - EUR Hedged\n",
      "296\tGlobal Flex-Cap Equity\n",
      "293\tGBP Flexible Allocation\n",
      "288\tUSD Money Market - Short Term\n",
      "285\tGlobal Emerging Markets Corporate Bond\n",
      "279\tSector Equity Technology\n",
      "276\tEUR Diversified Bond\n",
      "275\tGlobal High Yield Bond - EUR Hedged\n",
      "263\tGlobal Large-Cap Value Equity\n",
      "260\tAsia-Pacific ex-Japan Equity Income\n",
      "258\tFixed Term Bond\n",
      "257\tGlobal Bond - USD Hedged\n",
      "255\tEUR Flexible Allocation - Global\n",
      "251\tEurope Large-Cap Growth Equity\n",
      "248\tUSD Diversified Bond\n",
      "232\tEurope Small-Cap Equity\n",
      "231\tGlobal Corporate Bond - USD Hedged\n",
      "226\tSector Equity Infrastructure\n",
      "224\tUS Small-Cap Equity\n",
      "209\tAlt - Long/Short Equity - Europe\n",
      "201\tUK Small-Cap Equity\n",
      "201\tEUR Cautious Allocation - Global\n",
      "200\tAlt - Global Macro\n",
      "191\tUS Flex-Cap Equity\n",
      "191\tConvertible Bond - Global, EUR Hedged\n",
      "189\tGBP Money Market - Short Term\n",
      "188\tLatin America Equity\n",
      "188\tEurope Equity Income\n",
      "187\tUSD Aggressive Allocation\n",
      "187\tGlobal High Yield Bond - GBP Hedged\n",
      "186\tCommodities - Broad Basket\n",
      "186\tGlobal Bond - GBP Hedged\n",
      "185\tUSD Cautious Allocation\n",
      "179\tProperty - Direct UK\n",
      "173\tGlobal Small-Cap Equity\n",
      "160\tSector Equity Consumer Goods & Services\n",
      "158\tSector Equity Ecology\n",
      "157\tUSD Flexible Allocation\n",
      "156\tGlobal Corporate Bond - EUR Hedged\n",
      "153\tSector Equity Healthcare\n",
      "149\tEUR Money Market - Short Term\n",
      "148\tUSD Diversified Bond - Short Term\n",
      "145\tGlobal Emerging Markets Corporate Bond - EUR Biased\n",
      "143\tAsia ex-Japan Small/Mid-Cap Equity\n",
      "143\tEUR Aggressive Allocation - Global\n",
      "142\tAsia Bond\n",
      "140\tUSD Corporate Bond\n",
      "139\tGBP Government Bond\n",
      "132\tBRIC Equity\n",
      "132\tGlobal Inflation-Linked Bond - EUR Hedged\n",
      "130\tGlobal Inflation-Linked Bond - USD Hedged\n",
      "129\tUS Mid-Cap Equity\n",
      "129\tJapan Small/Mid-Cap Equity\n",
      "128\tSector Equity Natural Resources\n",
      "128\tAlt - Systematic Futures\n",
      "126\tEmerging Europe Equity\n",
      "121\tAlt - Volatility\n",
      "120\tEUR Government Bond\n",
      "119\tEurope Flex-Cap Equity\n",
      "118\tRussia Equity\n",
      "118\tGlobal Frontier Markets Equity\n",
      "117\tUSD Flexible Bond\n",
      "115\tGlobal Emerging Markets Small/Mid-Cap Equity\n",
      "115\tGBP Cautious Allocation\n",
      "114\tGlobal Corporate Bond - GBP Hedged\n",
      "114\tSector Equity Precious Metals\n",
      "114\tAlt - Long/Short Equity - Global\n",
      "112\tMoney Market - Other\n",
      "111\tAsia Bond - Local Currency\n",
      "105\tEUR Flexible Bond\n",
      "105\tBrazil Equity\n",
      "105\tEurope ex-UK Small/Mid-Cap Equity\n",
      "104\tProperty - Indirect Other\n",
      "103\tAlt - Long/Short Equity - UK\n",
      "103\tEurope Large-Cap Value Equity\n",
      "103\tSector Equity Energy\n",
      "102\tGreater China Equity\n",
      "100\tAlt - Event Driven\n",
      "99\tConvertible Bond - Global, USD Hedged\n",
      "97\tGlobal Emerging Markets Allocation\n",
      "96\tSector Equity Financial Services\n",
      "95\tGBP Diversified Bond\n",
      "94\tEUR Diversified Bond - Short Term\n",
      "88\tAsia-Pacific inc. Japan Equity\n",
      "87\tPacific ex-Japan Equity\n",
      "87\tAlt - Long/Short Equity - US\n",
      "87\tConvertible Bond - Global\n",
      "85\tJapan Flex-Cap Equity\n",
      "84\tGlobal Corporate Bond\n",
      "83\tGlobal Bond - CHF Hedged\n",
      "81\tGBP Inflation-Linked Bond\n",
      "79\tEurope Mid-Cap Equity\n",
      "78\tUSD Government Bond\n",
      "78\tConvertible Bond - Europe\n",
      "77\tGlobal Flexible Bond - CHF Hedged\n",
      "76\tSector Equity Water\n",
      "74\tConvertible Bond - Global, CHF Hedged\n",
      "73\tUK Mid-Cap Equity\n",
      "68\tRMB Bond\n",
      "68\tCHF Moderate Allocation\n",
      "66\tAlt - Currency\n",
      "66\tConvertible Bond - Other\n",
      "64\tEUR Subordinated Bond\n",
      "63\tASEAN Equity\n",
      "63\tSector Equity Agriculture\n",
      "62\tConvertible Bond - Global, GBP Hedged\n",
      "60\tIslamic Global Equity\n",
      "59\tProperty - Direct Global\n",
      "59\tSector Equity Alternative Energy\n",
      "58\tGlobal High Yield Bond - CHF Hedged\n",
      "55\tGBP High Yield Bond\n",
      "54\tEUR Money Market\n",
      "53\tAfrica & Middle East Equity\n",
      "53\tProperty - Indirect Europe\n",
      "53\tGlobal Inflation-Linked Bond - GBP Hedged\n",
      "52\tAsia High Yield Bond\n",
      "51\tChina Equity - A Shares\n",
      "50\tCHF Cautious Allocation\n",
      "50\tHong Kong Equity\n",
      "50\tGBP Flexible Bond\n",
      "46\tEUR Corporate Bond - Short Term\n",
      "46\tAfrica Equity\n",
      "45\tRMB Bond - Onshore\n",
      "45\tProperty - Indirect Asia\n",
      "44\tGermany Large-Cap Equity\n",
      "43\tAlt - Long/Short Equity - Other\n",
      "42\tSwitzerland Large-Cap Equity\n",
      "42\tTurkey Equity\n",
      "40\tGlobal Corporate Bond - CHF Hedged\n",
      "40\tAlt - Other\n",
      "39\tEurozone Mid-Cap Equity\n",
      "39\tSector Equity Biotechnology\n",
      "37\tEUR Ultra Short-Term Bond\n",
      "36\tIslamic Allocation - Other\n",
      "36\tEUR Inflation-Linked Bond\n",
      "35\tUSD Money Market\n",
      "33\tGBP Money Market\n",
      "32\tOther\n",
      "31\tEUR Cautious Allocation\n",
      "31\tAsia Allocation\n",
      "30\tSwitzerland Small/Mid-Cap Equity\n",
      "29\tEUR Moderate Allocation\n",
      "29\tNordic Equity\n",
      "28\tCHF Bond\n",
      "28\tThailand Equity\n",
      "27\tCHF Aggressive Allocation\n",
      "27\tGlobal Inflation-Linked Bond\n",
      "27\tKorea Equity\n",
      "25\tEUR Flexible Allocation\n",
      "24\tIslamic Global Bond\n",
      "23\tProperty - Indirect North America\n",
      "21\tAlt - Relative Value Arbitrage\n",
      "20\tTaiwan Large-Cap Equity\n",
      "19\tItaly Equity\n",
      "18\tCommodities - Broad Agriculture\n",
      "17\tEurozone Flex-Cap Equity\n",
      "17\tSector Equity Industrial Materials\n",
      "16\tGBP Diversified Bond - Short Term\n",
      "16\tUSD Inflation-Linked Bond\n",
      "16\tCHF Money Market\n",
      "15\tEmerging Europe ex-Russia Equity\n",
      "15\tDKK Domestic Bond\n",
      "15\tAustralia & New Zealand Equity\n",
      "15\tIndonesia Equity\n",
      "14\tEurope Bond\n",
      "14\tEUR Bond - Long Term\n",
      "13\tGlobal Bond - EUR Biased\n",
      "12\tCanada Equity\n",
      "12\tEmerging Europe Bond\n",
      "12\tEUR Government Bond - Short Term\n",
      "12\tNorway Equity\n",
      "12\tNOK Bond - Short Term\n",
      "11\tFrance Large-Cap Equity\n",
      "11\tSector Equity Communications\n",
      "11\tGermany Small/Mid-Cap Equity\n",
      "11\tSpain Equity\n",
      "11\tProperty - Direct Europe\n",
      "10\tSector Equity Private Equity\n",
      "10\tIslamic Equity - Other\n",
      "9\tNOK High Yield Bond\n",
      "9\tDKK Bond\n",
      "9\tSEK Bond\n",
      "8\tCapital Protected\n",
      "8\tGreater China Allocation\n",
      "8\tSweden Equity\n",
      "8\tNordic Small/Mid-Cap Equity\n",
      "8\tNOK Bond\n",
      "8\tDenmark Equity\n",
      "7\tCHF Bond - Short Term\n",
      "7\tProperty - Direct Other\n",
      "6\tProperty - Indirect Eurozone\n",
      "6\tGlobal Bond - CHF Biased\n",
      "6\tJPY Bond\n",
      "6\tHKD Bond\n",
      "6\tTarget Date 2046+\n",
      "6\tEurozone Small-Cap Equity\n",
      "6\tTarget Date 2016 - 2020\n",
      "6\tSEK Cautious Allocation\n",
      "5\tTarget Date 2041 - 2045\n",
      "5\tSEK Corporate Bond\n",
      "5\tTarget Date 2036 - 2040\n",
      "5\tTarget Date 2021 - 2025\n",
      "5\tTarget Date 2026 - 2030\n",
      "5\tTarget Date 2031 - 2035\n",
      "5\tFrance Small/Mid-Cap Equity\n",
      "5\tSingapore Equity\n",
      "4\tSEK Flexible Allocation\n",
      "3\tGlobal Bond - NOK Hedged\n",
      "2\tNOK Cautious Allocation\n",
      "2\tVietnam Equity\n",
      "1\tEUR Aggressive Allocation\n",
      "1\tRMB High Yield Bond\n",
      "1\tGlobal Bond - GBP Biased\n",
      "1\tGlobal Bond - ILS\n",
      "1\tTarget Date 2011 - 2015\n",
      "1\tNOK Moderate Allocation\n",
      "1\tGuaranteed Funds\n"
     ]
    }
   ],
   "source": [
    "for cat, freq in cat_frequency.items():\n",
    "    print(f'{freq}\\t{cat}')"
   ],
   "metadata": {
    "collapsed": false,
    "ExecuteTime": {
     "end_time": "2024-01-20T14:37:05.513260100Z",
     "start_time": "2024-01-20T14:37:05.474260400Z"
    }
   },
   "id": "c2835861b688da2f",
   "execution_count": 108
  },
  {
   "cell_type": "code",
   "outputs": [
    {
     "data": {
      "text/plain": "ASEAN Equity                      63\nAfrica & Middle East Equity       53\nAfrica Equity                     46\nAlt - Currency                    66\nAlt - Event Driven               100\n                                ... \nUSD Inflation-Linked Bond         16\nUSD Moderate Allocation          527\nUSD Money Market                  35\nUSD Money Market - Short Term    288\nVietnam Equity                     2\nName: morningstar_category, Length: 261, dtype: int64"
     },
     "execution_count": 109,
     "metadata": {},
     "output_type": "execute_result"
    }
   ],
   "source": [
    "cat_frequency.sort_index()"
   ],
   "metadata": {
    "collapsed": false,
    "ExecuteTime": {
     "end_time": "2024-01-20T14:38:12.335437500Z",
     "start_time": "2024-01-20T14:38:12.287438300Z"
    }
   },
   "id": "3556a9f70a723a16",
   "execution_count": 109
  },
  {
   "cell_type": "code",
   "outputs": [
    {
     "name": "stdout",
     "output_type": "stream",
     "text": [
      "63\tASEAN Equity\n",
      "53\tAfrica & Middle East Equity\n",
      "46\tAfrica Equity\n",
      "66\tAlt - Currency\n",
      "100\tAlt - Event Driven\n",
      "200\tAlt - Global Macro\n",
      "713\tAlt - Long/Short Credit\n",
      "209\tAlt - Long/Short Equity - Europe\n",
      "114\tAlt - Long/Short Equity - Global\n",
      "43\tAlt - Long/Short Equity - Other\n",
      "103\tAlt - Long/Short Equity - UK\n",
      "87\tAlt - Long/Short Equity - US\n",
      "303\tAlt - Market Neutral - Equity\n",
      "899\tAlt - Multistrategy\n",
      "40\tAlt - Other\n",
      "21\tAlt - Relative Value Arbitrage\n",
      "128\tAlt - Systematic Futures\n",
      "121\tAlt - Volatility\n",
      "31\tAsia Allocation\n",
      "142\tAsia Bond\n",
      "111\tAsia Bond - Local Currency\n",
      "52\tAsia High Yield Bond\n",
      "553\tAsia ex-Japan Equity\n",
      "143\tAsia ex-Japan Small/Mid-Cap Equity\n",
      "331\tAsia-Pacific ex-Japan Equity\n",
      "260\tAsia-Pacific ex-Japan Equity Income\n",
      "88\tAsia-Pacific inc. Japan Equity\n",
      "15\tAustralia & New Zealand Equity\n",
      "132\tBRIC Equity\n",
      "105\tBrazil Equity\n",
      "27\tCHF Aggressive Allocation\n",
      "28\tCHF Bond\n",
      "7\tCHF Bond - Short Term\n",
      "50\tCHF Cautious Allocation\n",
      "68\tCHF Moderate Allocation\n",
      "16\tCHF Money Market\n",
      "12\tCanada Equity\n",
      "8\tCapital Protected\n",
      "381\tChina Equity\n",
      "51\tChina Equity - A Shares\n",
      "18\tCommodities - Broad Agriculture\n",
      "186\tCommodities - Broad Basket\n",
      "78\tConvertible Bond - Europe\n",
      "87\tConvertible Bond - Global\n",
      "74\tConvertible Bond - Global, CHF Hedged\n",
      "191\tConvertible Bond - Global, EUR Hedged\n",
      "62\tConvertible Bond - Global, GBP Hedged\n",
      "99\tConvertible Bond - Global, USD Hedged\n",
      "66\tConvertible Bond - Other\n",
      "9\tDKK Bond\n",
      "15\tDKK Domestic Bond\n",
      "8\tDenmark Equity\n",
      "1\tEUR Aggressive Allocation\n",
      "143\tEUR Aggressive Allocation - Global\n",
      "14\tEUR Bond - Long Term\n",
      "31\tEUR Cautious Allocation\n",
      "201\tEUR Cautious Allocation - Global\n",
      "444\tEUR Corporate Bond\n",
      "46\tEUR Corporate Bond - Short Term\n",
      "276\tEUR Diversified Bond\n",
      "94\tEUR Diversified Bond - Short Term\n",
      "25\tEUR Flexible Allocation\n",
      "255\tEUR Flexible Allocation - Global\n",
      "105\tEUR Flexible Bond\n",
      "120\tEUR Government Bond\n",
      "12\tEUR Government Bond - Short Term\n",
      "375\tEUR High Yield Bond\n",
      "36\tEUR Inflation-Linked Bond\n",
      "29\tEUR Moderate Allocation\n",
      "390\tEUR Moderate Allocation - Global\n",
      "54\tEUR Money Market\n",
      "149\tEUR Money Market - Short Term\n",
      "64\tEUR Subordinated Bond\n",
      "37\tEUR Ultra Short-Term Bond\n",
      "12\tEmerging Europe Bond\n",
      "126\tEmerging Europe Equity\n",
      "15\tEmerging Europe ex-Russia Equity\n",
      "14\tEurope Bond\n",
      "188\tEurope Equity Income\n",
      "119\tEurope Flex-Cap Equity\n",
      "702\tEurope Large-Cap Blend Equity\n",
      "251\tEurope Large-Cap Growth Equity\n",
      "103\tEurope Large-Cap Value Equity\n",
      "79\tEurope Mid-Cap Equity\n",
      "232\tEurope Small-Cap Equity\n",
      "531\tEurope ex-UK Large-Cap Equity\n",
      "105\tEurope ex-UK Small/Mid-Cap Equity\n",
      "17\tEurozone Flex-Cap Equity\n",
      "324\tEurozone Large-Cap Equity\n",
      "39\tEurozone Mid-Cap Equity\n",
      "6\tEurozone Small-Cap Equity\n",
      "258\tFixed Term Bond\n",
      "11\tFrance Large-Cap Equity\n",
      "5\tFrance Small/Mid-Cap Equity\n",
      "415\tGBP Adventurous Allocation\n",
      "115\tGBP Cautious Allocation\n",
      "419\tGBP Corporate Bond\n",
      "95\tGBP Diversified Bond\n",
      "16\tGBP Diversified Bond - Short Term\n",
      "293\tGBP Flexible Allocation\n",
      "50\tGBP Flexible Bond\n",
      "139\tGBP Government Bond\n",
      "55\tGBP High Yield Bond\n",
      "81\tGBP Inflation-Linked Bond\n",
      "1085\tGBP Moderate Allocation\n",
      "756\tGBP Moderately Adventurous Allocation\n",
      "546\tGBP Moderately Cautious Allocation\n",
      "33\tGBP Money Market\n",
      "189\tGBP Money Market - Short Term\n",
      "44\tGermany Large-Cap Equity\n",
      "11\tGermany Small/Mid-Cap Equity\n",
      "490\tGlobal Bond\n",
      "6\tGlobal Bond - CHF Biased\n",
      "83\tGlobal Bond - CHF Hedged\n",
      "13\tGlobal Bond - EUR Biased\n",
      "300\tGlobal Bond - EUR Hedged\n",
      "1\tGlobal Bond - GBP Biased\n",
      "186\tGlobal Bond - GBP Hedged\n",
      "1\tGlobal Bond - ILS\n",
      "3\tGlobal Bond - NOK Hedged\n",
      "257\tGlobal Bond - USD Hedged\n",
      "84\tGlobal Corporate Bond\n",
      "40\tGlobal Corporate Bond - CHF Hedged\n",
      "156\tGlobal Corporate Bond - EUR Hedged\n",
      "114\tGlobal Corporate Bond - GBP Hedged\n",
      "231\tGlobal Corporate Bond - USD Hedged\n",
      "97\tGlobal Emerging Markets Allocation\n",
      "874\tGlobal Emerging Markets Bond\n",
      "413\tGlobal Emerging Markets Bond - EUR Biased\n",
      "626\tGlobal Emerging Markets Bond - Local Currency\n",
      "285\tGlobal Emerging Markets Corporate Bond\n",
      "145\tGlobal Emerging Markets Corporate Bond - EUR Biased\n",
      "1822\tGlobal Emerging Markets Equity\n",
      "115\tGlobal Emerging Markets Small/Mid-Cap Equity\n",
      "696\tGlobal Equity Income\n",
      "296\tGlobal Flex-Cap Equity\n",
      "332\tGlobal Flexible Bond\n",
      "77\tGlobal Flexible Bond - CHF Hedged\n",
      "400\tGlobal Flexible Bond - EUR Hedged\n",
      "423\tGlobal Flexible Bond - GBP Hedged\n",
      "342\tGlobal Flexible Bond - USD Hedged\n",
      "118\tGlobal Frontier Markets Equity\n",
      "464\tGlobal High Yield Bond\n",
      "58\tGlobal High Yield Bond - CHF Hedged\n",
      "275\tGlobal High Yield Bond - EUR Hedged\n",
      "187\tGlobal High Yield Bond - GBP Hedged\n",
      "27\tGlobal Inflation-Linked Bond\n",
      "132\tGlobal Inflation-Linked Bond - EUR Hedged\n",
      "53\tGlobal Inflation-Linked Bond - GBP Hedged\n",
      "130\tGlobal Inflation-Linked Bond - USD Hedged\n",
      "2054\tGlobal Large-Cap Blend Equity\n",
      "632\tGlobal Large-Cap Growth Equity\n",
      "263\tGlobal Large-Cap Value Equity\n",
      "173\tGlobal Small-Cap Equity\n",
      "8\tGreater China Allocation\n",
      "102\tGreater China Equity\n",
      "1\tGuaranteed Funds\n",
      "6\tHKD Bond\n",
      "50\tHong Kong Equity\n",
      "319\tIndia Equity\n",
      "15\tIndonesia Equity\n",
      "36\tIslamic Allocation - Other\n",
      "10\tIslamic Equity - Other\n",
      "24\tIslamic Global Bond\n",
      "60\tIslamic Global Equity\n",
      "19\tItaly Equity\n",
      "6\tJPY Bond\n",
      "85\tJapan Flex-Cap Equity\n",
      "780\tJapan Large-Cap Equity\n",
      "129\tJapan Small/Mid-Cap Equity\n",
      "27\tKorea Equity\n",
      "188\tLatin America Equity\n",
      "112\tMoney Market - Other\n",
      "8\tNOK Bond\n",
      "12\tNOK Bond - Short Term\n",
      "2\tNOK Cautious Allocation\n",
      "9\tNOK High Yield Bond\n",
      "1\tNOK Moderate Allocation\n",
      "29\tNordic Equity\n",
      "8\tNordic Small/Mid-Cap Equity\n",
      "12\tNorway Equity\n",
      "32\tOther\n",
      "415\tOther Allocation\n",
      "3418\tOther Bond\n",
      "3209\tOther Equity\n",
      "87\tPacific ex-Japan Equity\n",
      "11\tProperty - Direct Europe\n",
      "59\tProperty - Direct Global\n",
      "7\tProperty - Direct Other\n",
      "179\tProperty - Direct UK\n",
      "45\tProperty - Indirect Asia\n",
      "53\tProperty - Indirect Europe\n",
      "6\tProperty - Indirect Eurozone\n",
      "342\tProperty - Indirect Global\n",
      "23\tProperty - Indirect North America\n",
      "104\tProperty - Indirect Other\n",
      "68\tRMB Bond\n",
      "45\tRMB Bond - Onshore\n",
      "1\tRMB High Yield Bond\n",
      "118\tRussia Equity\n",
      "9\tSEK Bond\n",
      "6\tSEK Cautious Allocation\n",
      "5\tSEK Corporate Bond\n",
      "4\tSEK Flexible Allocation\n",
      "63\tSector Equity Agriculture\n",
      "59\tSector Equity Alternative Energy\n",
      "39\tSector Equity Biotechnology\n",
      "11\tSector Equity Communications\n",
      "160\tSector Equity Consumer Goods & Services\n",
      "158\tSector Equity Ecology\n",
      "103\tSector Equity Energy\n",
      "96\tSector Equity Financial Services\n",
      "153\tSector Equity Healthcare\n",
      "17\tSector Equity Industrial Materials\n",
      "226\tSector Equity Infrastructure\n",
      "128\tSector Equity Natural Resources\n",
      "114\tSector Equity Precious Metals\n",
      "10\tSector Equity Private Equity\n",
      "279\tSector Equity Technology\n",
      "76\tSector Equity Water\n",
      "5\tSingapore Equity\n",
      "11\tSpain Equity\n",
      "8\tSweden Equity\n",
      "42\tSwitzerland Large-Cap Equity\n",
      "30\tSwitzerland Small/Mid-Cap Equity\n",
      "20\tTaiwan Large-Cap Equity\n",
      "1\tTarget Date 2011 - 2015\n",
      "6\tTarget Date 2016 - 2020\n",
      "5\tTarget Date 2021 - 2025\n",
      "5\tTarget Date 2026 - 2030\n",
      "5\tTarget Date 2031 - 2035\n",
      "5\tTarget Date 2036 - 2040\n",
      "5\tTarget Date 2041 - 2045\n",
      "6\tTarget Date 2046+\n",
      "28\tThailand Equity\n",
      "42\tTurkey Equity\n",
      "456\tUK Equity Income\n",
      "381\tUK Flex-Cap Equity\n",
      "616\tUK Large-Cap Equity\n",
      "73\tUK Mid-Cap Equity\n",
      "201\tUK Small-Cap Equity\n",
      "191\tUS Flex-Cap Equity\n",
      "828\tUS Large-Cap Blend Equity\n",
      "509\tUS Large-Cap Growth Equity\n",
      "334\tUS Large-Cap Value Equity\n",
      "129\tUS Mid-Cap Equity\n",
      "224\tUS Small-Cap Equity\n",
      "187\tUSD Aggressive Allocation\n",
      "185\tUSD Cautious Allocation\n",
      "140\tUSD Corporate Bond\n",
      "248\tUSD Diversified Bond\n",
      "148\tUSD Diversified Bond - Short Term\n",
      "157\tUSD Flexible Allocation\n",
      "117\tUSD Flexible Bond\n",
      "78\tUSD Government Bond\n",
      "442\tUSD High Yield Bond\n",
      "16\tUSD Inflation-Linked Bond\n",
      "527\tUSD Moderate Allocation\n",
      "35\tUSD Money Market\n",
      "288\tUSD Money Market - Short Term\n",
      "2\tVietnam Equity\n"
     ]
    }
   ],
   "source": [
    "for cat, freq in cat_frequency.sort_index().items():\n",
    "    print(f'{freq}\\t{cat}')"
   ],
   "metadata": {
    "collapsed": false,
    "ExecuteTime": {
     "end_time": "2024-01-20T14:40:21.203398300Z",
     "start_time": "2024-01-20T14:40:21.166857300Z"
    }
   },
   "id": "cc3db5a4cd0843e4",
   "execution_count": 115
  },
  {
   "cell_type": "code",
   "outputs": [
    {
     "data": {
      "text/plain": "       fund_return_2018\ncount      41580.000000\nmean          -4.740028\nstd            6.921632\nmin          -81.780000\n25%           -9.200000\n50%           -4.290000\n75%           -0.170000\nmax           49.980000",
      "text/html": "<div>\n<style scoped>\n    .dataframe tbody tr th:only-of-type {\n        vertical-align: middle;\n    }\n\n    .dataframe tbody tr th {\n        vertical-align: top;\n    }\n\n    .dataframe thead th {\n        text-align: right;\n    }\n</style>\n<table border=\"1\" class=\"dataframe\">\n  <thead>\n    <tr style=\"text-align: right;\">\n      <th></th>\n      <th>fund_return_2018</th>\n    </tr>\n  </thead>\n  <tbody>\n    <tr>\n      <th>count</th>\n      <td>41580.000000</td>\n    </tr>\n    <tr>\n      <th>mean</th>\n      <td>-4.740028</td>\n    </tr>\n    <tr>\n      <th>std</th>\n      <td>6.921632</td>\n    </tr>\n    <tr>\n      <th>min</th>\n      <td>-81.780000</td>\n    </tr>\n    <tr>\n      <th>25%</th>\n      <td>-9.200000</td>\n    </tr>\n    <tr>\n      <th>50%</th>\n      <td>-4.290000</td>\n    </tr>\n    <tr>\n      <th>75%</th>\n      <td>-0.170000</td>\n    </tr>\n    <tr>\n      <th>max</th>\n      <td>49.980000</td>\n    </tr>\n  </tbody>\n</table>\n</div>"
     },
     "execution_count": 118,
     "metadata": {},
     "output_type": "execute_result"
    }
   ],
   "source": [
    "data.describe()"
   ],
   "metadata": {
    "collapsed": false,
    "ExecuteTime": {
     "end_time": "2024-01-20T14:41:30.241833100Z",
     "start_time": "2024-01-20T14:41:30.192840800Z"
    }
   },
   "id": "6927ee13fef9186d",
   "execution_count": 118
  },
  {
   "cell_type": "code",
   "outputs": [
    {
     "data": {
      "text/plain": "ticker\n0P00000AWF   -18.13\n0P00000AYI   -14.11\n0P00000BOW     3.26\n0P00000ESH    -1.60\n0P00000ESL    -6.79\n              ...  \nFOUSA088S1   -13.56\nFOUSA08ML5   -18.80\nFOUSA0905L    11.58\nFOUSA09F2D     0.37\nFOUSA09F2G     0.73\nName: fund_return_2018, Length: 49399, dtype: float64"
     },
     "execution_count": 120,
     "metadata": {},
     "output_type": "execute_result"
    }
   ],
   "source": [
    "col = data['fund_return_2018']\n",
    "col"
   ],
   "metadata": {
    "collapsed": false,
    "ExecuteTime": {
     "end_time": "2024-01-20T14:41:52.323477400Z",
     "start_time": "2024-01-20T14:41:52.286925100Z"
    }
   },
   "id": "52ccd930b389d4ee",
   "execution_count": 120
  },
  {
   "cell_type": "code",
   "outputs": [
    {
     "data": {
      "text/plain": "(41580, -4.7400283790284075, 6.921632080857115)"
     },
     "execution_count": 125,
     "metadata": {},
     "output_type": "execute_result"
    }
   ],
   "source": [
    "col.count(), col.mean(), col.std()"
   ],
   "metadata": {
    "collapsed": false,
    "ExecuteTime": {
     "end_time": "2024-01-20T14:42:19.375904600Z",
     "start_time": "2024-01-20T14:42:19.334382700Z"
    }
   },
   "id": "53eef5984658e08",
   "execution_count": 125
  },
  {
   "cell_type": "code",
   "outputs": [
    {
     "data": {
      "text/plain": "(-81.78, 49.98)"
     },
     "execution_count": 126,
     "metadata": {},
     "output_type": "execute_result"
    }
   ],
   "source": [
    "col.min(), col.max()"
   ],
   "metadata": {
    "collapsed": false,
    "ExecuteTime": {
     "end_time": "2024-01-20T14:42:36.923880200Z",
     "start_time": "2024-01-20T14:42:36.900870400Z"
    }
   },
   "id": "24f2163e18bcaa9a",
   "execution_count": 126
  },
  {
   "cell_type": "code",
   "outputs": [
    {
     "data": {
      "text/plain": "(-9.2, -4.29, -0.17)"
     },
     "execution_count": 128,
     "metadata": {},
     "output_type": "execute_result"
    }
   ],
   "source": [
    "col.quantile(0.25), col.quantile(0.5), col.quantile(0.75)"
   ],
   "metadata": {
    "collapsed": false,
    "ExecuteTime": {
     "end_time": "2024-01-20T14:43:07.754292100Z",
     "start_time": "2024-01-20T14:43:07.730344Z"
    }
   },
   "id": "fe6cca1eb97a115e",
   "execution_count": 128
  },
  {
   "cell_type": "code",
   "outputs": [
    {
     "data": {
      "text/plain": "0.25   -9.20\n0.50   -4.29\n0.75   -0.17\nName: fund_return_2018, dtype: float64"
     },
     "execution_count": 129,
     "metadata": {},
     "output_type": "execute_result"
    }
   ],
   "source": [
    "col.quantile([0.25, 0.5, 0.75])"
   ],
   "metadata": {
    "collapsed": false,
    "ExecuteTime": {
     "end_time": "2024-01-20T14:43:21.707935700Z",
     "start_time": "2024-01-20T14:43:21.649937400Z"
    }
   },
   "id": "a88e7dbb04ec870",
   "execution_count": 129
  },
  {
   "cell_type": "code",
   "outputs": [],
   "source": [],
   "metadata": {
    "collapsed": false
   },
   "id": "b8c77ecd8ea103fa",
   "execution_count": null
  },
  {
   "cell_type": "code",
   "outputs": [],
   "source": [],
   "metadata": {
    "collapsed": false
   },
   "id": "388ec39398684611",
   "execution_count": null
  },
  {
   "cell_type": "code",
   "outputs": [],
   "source": [],
   "metadata": {
    "collapsed": false
   },
   "id": "64b50900f200af69",
   "execution_count": null
  },
  {
   "cell_type": "code",
   "outputs": [],
   "source": [],
   "metadata": {
    "collapsed": false
   },
   "id": "899ab6345a136830",
   "execution_count": null
  },
  {
   "cell_type": "code",
   "outputs": [],
   "source": [],
   "metadata": {
    "collapsed": false
   },
   "id": "b6c2fc2107bbedae",
   "execution_count": null
  },
  {
   "cell_type": "code",
   "outputs": [],
   "source": [],
   "metadata": {
    "collapsed": false
   },
   "id": "7dcc7ff83b774ba9",
   "execution_count": null
  },
  {
   "cell_type": "code",
   "outputs": [],
   "source": [],
   "metadata": {
    "collapsed": false
   },
   "id": "8824c9ded8701521",
   "execution_count": null
  },
  {
   "cell_type": "code",
   "outputs": [],
   "source": [],
   "metadata": {
    "collapsed": false
   },
   "id": "a89d79b5ed505070",
   "execution_count": null
  },
  {
   "cell_type": "code",
   "outputs": [],
   "source": [],
   "metadata": {
    "collapsed": false
   },
   "id": "8a3744c9b88c2640",
   "execution_count": null
  },
  {
   "cell_type": "code",
   "outputs": [],
   "source": [],
   "metadata": {
    "collapsed": false
   },
   "id": "4b1edb061b780ba0",
   "execution_count": null
  },
  {
   "cell_type": "code",
   "outputs": [],
   "source": [],
   "metadata": {
    "collapsed": false
   },
   "id": "64de713f1b447cdf",
   "execution_count": null
  },
  {
   "cell_type": "code",
   "outputs": [],
   "source": [],
   "metadata": {
    "collapsed": false
   },
   "id": "332feda7fda2b438",
   "execution_count": null
  },
  {
   "cell_type": "code",
   "outputs": [],
   "source": [],
   "metadata": {
    "collapsed": false
   },
   "id": "ef8a96ed54ffa41c",
   "execution_count": null
  },
  {
   "cell_type": "code",
   "outputs": [],
   "source": [],
   "metadata": {
    "collapsed": false
   },
   "id": "180af9ec81aed923",
   "execution_count": null
  },
  {
   "cell_type": "code",
   "outputs": [],
   "source": [],
   "metadata": {
    "collapsed": false
   },
   "id": "b5f22dad00b4ea69",
   "execution_count": null
  },
  {
   "cell_type": "code",
   "outputs": [],
   "source": [],
   "metadata": {
    "collapsed": false
   },
   "id": "c4d34afa210d2fd8",
   "execution_count": null
  },
  {
   "cell_type": "code",
   "outputs": [],
   "source": [],
   "metadata": {
    "collapsed": false
   },
   "id": "5dd908bfccd75925",
   "execution_count": null
  },
  {
   "cell_type": "code",
   "outputs": [],
   "source": [],
   "metadata": {
    "collapsed": false
   },
   "id": "6402924f70a4f6a6",
   "execution_count": null
  },
  {
   "cell_type": "code",
   "outputs": [],
   "source": [],
   "metadata": {
    "collapsed": false
   },
   "id": "ae94c9cafa7e2574",
   "execution_count": null
  },
  {
   "cell_type": "code",
   "outputs": [],
   "source": [],
   "metadata": {
    "collapsed": false
   },
   "id": "c926420d3d1c3966",
   "execution_count": null
  },
  {
   "cell_type": "code",
   "outputs": [],
   "source": [],
   "metadata": {
    "collapsed": false
   },
   "id": "3a9314d900e9e0b4",
   "execution_count": null
  },
  {
   "cell_type": "code",
   "outputs": [],
   "source": [],
   "metadata": {
    "collapsed": false
   },
   "id": "b34d93a87eca7287",
   "execution_count": null
  },
  {
   "cell_type": "code",
   "outputs": [],
   "source": [],
   "metadata": {
    "collapsed": false
   },
   "id": "133eedeb2b620c98",
   "execution_count": null
  },
  {
   "cell_type": "code",
   "outputs": [],
   "source": [],
   "metadata": {
    "collapsed": false
   },
   "id": "11a468d6490861a7",
   "execution_count": null
  },
  {
   "cell_type": "code",
   "outputs": [],
   "source": [],
   "metadata": {
    "collapsed": false
   },
   "id": "b1edbba46aad65e",
   "execution_count": null
  }
 ],
 "metadata": {
  "kernelspec": {
   "display_name": "Python 3",
   "language": "python",
   "name": "python3"
  },
  "language_info": {
   "codemirror_mode": {
    "name": "ipython",
    "version": 2
   },
   "file_extension": ".py",
   "mimetype": "text/x-python",
   "name": "python",
   "nbconvert_exporter": "python",
   "pygments_lexer": "ipython2",
   "version": "2.7.6"
  }
 },
 "nbformat": 4,
 "nbformat_minor": 5
}
