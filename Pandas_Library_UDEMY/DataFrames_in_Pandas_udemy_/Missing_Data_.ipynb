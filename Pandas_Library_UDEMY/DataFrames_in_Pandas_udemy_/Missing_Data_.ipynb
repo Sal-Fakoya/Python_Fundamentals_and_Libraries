{
 "cells": [
  {
   "cell_type": "markdown",
   "source": [
    "# Missing Data: Handling Missing Values"
   ],
   "metadata": {
    "collapsed": false
   },
   "id": "13b7a11ef8ab5869"
  },
  {
   "cell_type": "code",
   "outputs": [],
   "source": [
    "\"\"\"\n",
    "                    HANDLING MISSING VALUES\n",
    "--> In python, 'None' object is used to indicate undefined or missing values in a sequence.\n",
    "--> IEEE standard for floats also has a concept of an undefined float.\n",
    "    --> NAN or NaN (Not a Number)\n",
    "    --> float('nan')\n",
    "    --> math.nan\n",
    "    --> np.nan\n",
    "    --> pd.NA\n",
    "        \n",
    "                EQUALITY OF NAN: np.isnan()\n",
    "--> Two NAN always compare False, i.e NAN == NAN will always returns False\n",
    "    --> This is because we cannot compare two undefined values. There is no way to know whether or not they are equal.\n",
    "        a = math.nan\n",
    "        b = math.nan \n",
    "        a == b returns False\n",
    "        a is b returns False\n",
    "--> We use .isnan():\n",
    "    --> math.isnan(np.nan) returns True\n",
    "    --> np.isnan()\n",
    "--> For a Pandas Series, None can be converted to nan in a Pandas Series, e.g\n",
    "    --> pd.Series([1, 2, None, np.NAN])\n",
    "    --> NAN in Pandas is defined as a float\n",
    "--> If the series is a series of object, for example for Series of strings.\n",
    "    --> e.g pd.Series(['a', 'b', None, np.nan]) returns an object type Series. Here, None is not converted to NAN values, so we test for missing values in Pandas using .isnull()\n",
    "    \n",
    "                    TESTING FOR MISSING DATA: df.isnull(), df.isna()\n",
    "--> pd.isnull() is a universal function that operates on Series and DataFrames\n",
    "    --> It returns True if the value is None or NAN.\n",
    "--> pd.notnull() is similar to isnull() but opposite result.\n",
    "\n",
    "                    REPLACING SERIES WITH MISSING DATA: df.fillna(value)\n",
    "--> We can use loops to iterate and replace missing values\n",
    "--> .fillna(value) allows us to replace missing value\n",
    "--> some_series.fillna(method=)\n",
    "    --> method = 'ffill' means forward fill\n",
    "                null, 1, null, 2, null, 3, null: 1 fills the second null value, 2 fills the third and last null value\n",
    "                e.g df.fillna(method='ffill', axis=0)\n",
    "                    df.fillna(method='ffill', axis=1)\n",
    "    --> method = 'bfill' means backward fill\n",
    "    \n",
    "                    INTERPOLATING MISSING DATA\n",
    "--> More advanced techniques are:\n",
    "    --> linear interpolation\n",
    "    --> splines, etc.\n",
    "    \n",
    "                    DROPPING MISSING DATA\n",
    "--> Firstly, we need o decide if we should drop the rows or drop the columns. We can't just drop values itself.\n",
    "    --> df.dropna(axis=0) is default if axis is not specified. It is used for dropping the row where NA exists.\n",
    "    --> df.dropna(axis=1) for dropping the column\n",
    "    \n",
    "\"\"\""
   ],
   "metadata": {
    "collapsed": false
   },
   "id": "86e9303d03b1c3a2",
   "execution_count": null
  },
  {
   "cell_type": "code",
   "outputs": [],
   "source": [
    "import pandas as pd\n",
    "import numpy as np"
   ],
   "metadata": {
    "collapsed": false,
    "ExecuteTime": {
     "end_time": "2024-01-19T21:40:38.346700900Z",
     "start_time": "2024-01-19T21:40:37.284260900Z"
    }
   },
   "id": "41f0a6fe17755b8f",
   "execution_count": 2
  },
  {
   "cell_type": "code",
   "outputs": [
    {
     "name": "stdout",
     "output_type": "stream",
     "text": [
      "0       a\n",
      "1       b\n",
      "2    None\n",
      "3     NaN\n",
      "dtype: object\n"
     ]
    }
   ],
   "source": [
    "ser = pd.Series(['a', 'b', None, np.nan])\n",
    "print(ser)"
   ],
   "metadata": {
    "collapsed": false,
    "ExecuteTime": {
     "end_time": "2024-01-13T04:13:27.514664700Z",
     "start_time": "2024-01-13T04:13:27.495651900Z"
    }
   },
   "id": "7450d967d4bc18a7",
   "execution_count": 17
  },
  {
   "cell_type": "code",
   "outputs": [
    {
     "name": "stdout",
     "output_type": "stream",
     "text": [
      "0    False\n",
      "1    False\n",
      "2     True\n",
      "3     True\n",
      "dtype: bool\n"
     ]
    }
   ],
   "source": [
    "ser.isnull()\n",
    "print(ser.isna())"
   ],
   "metadata": {
    "collapsed": false,
    "ExecuteTime": {
     "end_time": "2024-01-13T04:28:53.455207500Z",
     "start_time": "2024-01-13T04:28:53.436662600Z"
    }
   },
   "id": "3ccddcac7407bb88",
   "execution_count": 21
  },
  {
   "cell_type": "code",
   "outputs": [],
   "source": [
    "df = pd.DataFrame(data=np.arange(10).reshape(2, 5),\n",
    "                  columns=['A', 'B', 'C', 'D', 'E'],\n",
    "                  index=['r1', 'r2'])\n",
    "print(df)"
   ],
   "metadata": {
    "collapsed": false
   },
   "id": "f7955238c3a342d8",
   "execution_count": null
  },
  {
   "cell_type": "code",
   "outputs": [
    {
     "name": "stdout",
     "output_type": "stream",
     "text": [
      "0    True\n",
      "1    True\n",
      "2    True\n",
      "3    True\n",
      "dtype: bool\n"
     ]
    }
   ],
   "source": [
    "print(ser.isnull() == ser.isna())"
   ],
   "metadata": {
    "collapsed": false,
    "ExecuteTime": {
     "end_time": "2024-01-13T04:29:32.243251800Z",
     "start_time": "2024-01-13T04:29:32.224196600Z"
    }
   },
   "id": "9725a3a9f67109f0",
   "execution_count": 24
  },
  {
   "cell_type": "code",
   "outputs": [
    {
     "data": {
      "text/plain": "1.0"
     },
     "execution_count": 1,
     "metadata": {},
     "output_type": "execute_result"
    }
   ],
   "source": [
    "float(1)"
   ],
   "metadata": {
    "collapsed": false,
    "ExecuteTime": {
     "end_time": "2024-01-19T21:40:32.576015900Z",
     "start_time": "2024-01-19T21:40:32.533464900Z"
    }
   },
   "id": "435c403f3916aa83",
   "execution_count": 1
  },
  {
   "cell_type": "code",
   "outputs": [
    {
     "data": {
      "text/plain": "inf"
     },
     "execution_count": 3,
     "metadata": {},
     "output_type": "execute_result"
    }
   ],
   "source": [
    "float('inf')"
   ],
   "metadata": {
    "collapsed": false,
    "ExecuteTime": {
     "end_time": "2024-01-19T21:40:51.829096400Z",
     "start_time": "2024-01-19T21:40:51.774100700Z"
    }
   },
   "id": "390ae72e89709448",
   "execution_count": 3
  },
  {
   "cell_type": "code",
   "outputs": [
    {
     "data": {
      "text/plain": "float"
     },
     "execution_count": 4,
     "metadata": {},
     "output_type": "execute_result"
    }
   ],
   "source": [
    "type(float('inf'))"
   ],
   "metadata": {
    "collapsed": false,
    "ExecuteTime": {
     "end_time": "2024-01-19T21:40:59.865754500Z",
     "start_time": "2024-01-19T21:40:59.818727900Z"
    }
   },
   "id": "bd2af9ea51f0fa9c",
   "execution_count": 4
  },
  {
   "cell_type": "code",
   "outputs": [],
   "source": [
    "import math"
   ],
   "metadata": {
    "collapsed": false,
    "ExecuteTime": {
     "end_time": "2024-01-19T21:41:13.654596200Z",
     "start_time": "2024-01-19T21:41:13.632590300Z"
    }
   },
   "id": "63ae4f06473876db",
   "execution_count": 5
  },
  {
   "cell_type": "code",
   "outputs": [
    {
     "data": {
      "text/plain": "inf"
     },
     "execution_count": 6,
     "metadata": {},
     "output_type": "execute_result"
    }
   ],
   "source": [
    "math.inf"
   ],
   "metadata": {
    "collapsed": false,
    "ExecuteTime": {
     "end_time": "2024-01-19T21:41:21.970466300Z",
     "start_time": "2024-01-19T21:41:21.902469700Z"
    }
   },
   "id": "46f790eebde898b5",
   "execution_count": 6
  },
  {
   "cell_type": "code",
   "outputs": [
    {
     "data": {
      "text/plain": "inf"
     },
     "execution_count": 7,
     "metadata": {},
     "output_type": "execute_result"
    }
   ],
   "source": [
    "np.inf"
   ],
   "metadata": {
    "collapsed": false,
    "ExecuteTime": {
     "end_time": "2024-01-19T21:41:30.251936Z",
     "start_time": "2024-01-19T21:41:30.194389100Z"
    }
   },
   "id": "9aff2de2f03615f4",
   "execution_count": 7
  },
  {
   "cell_type": "code",
   "outputs": [],
   "source": [
    "np.inf"
   ],
   "metadata": {
    "collapsed": false,
    "ExecuteTime": {
     "end_time": "2024-01-13T05:59:31.458030500Z",
     "start_time": "2024-01-13T05:59:31.454026200Z"
    }
   },
   "id": "8b990d38817b9907",
   "execution_count": 163
  },
  {
   "cell_type": "code",
   "outputs": [
    {
     "data": {
      "text/plain": "(nan, nan, nan, nan)"
     },
     "execution_count": 11,
     "metadata": {},
     "output_type": "execute_result"
    }
   ],
   "source": [
    "float('Nan'), float('nan'), float('NAN'), float('naN')"
   ],
   "metadata": {
    "collapsed": false,
    "ExecuteTime": {
     "end_time": "2024-01-19T21:42:54.840744900Z",
     "start_time": "2024-01-19T21:42:54.831747500Z"
    }
   },
   "id": "da6b8b17a67f2a9d",
   "execution_count": 11
  },
  {
   "cell_type": "code",
   "outputs": [
    {
     "data": {
      "text/plain": "(nan, nan)"
     },
     "execution_count": 14,
     "metadata": {},
     "output_type": "execute_result"
    }
   ],
   "source": [
    "math.nan, np.nan"
   ],
   "metadata": {
    "collapsed": false,
    "ExecuteTime": {
     "end_time": "2024-01-19T21:43:22.059333600Z",
     "start_time": "2024-01-19T21:43:22.036342500Z"
    }
   },
   "id": "cd6be75bc6c0023b",
   "execution_count": 14
  },
  {
   "cell_type": "code",
   "outputs": [
    {
     "data": {
      "text/plain": "False"
     },
     "execution_count": 16,
     "metadata": {},
     "output_type": "execute_result"
    }
   ],
   "source": [
    "float('nan') == float('nan') # will return False"
   ],
   "metadata": {
    "collapsed": false,
    "ExecuteTime": {
     "end_time": "2024-01-19T21:43:51.215532200Z",
     "start_time": "2024-01-19T21:43:51.175518300Z"
    }
   },
   "id": "bb7a0e5ae3b9bdc5",
   "execution_count": 16
  },
  {
   "cell_type": "code",
   "outputs": [
    {
     "data": {
      "text/plain": "False"
     },
     "execution_count": 20,
     "metadata": {},
     "output_type": "execute_result"
    }
   ],
   "source": [
    "float('nan') is float('nan')"
   ],
   "metadata": {
    "collapsed": false,
    "ExecuteTime": {
     "end_time": "2024-01-19T21:44:30.874162100Z",
     "start_time": "2024-01-19T21:44:30.839175400Z"
    }
   },
   "id": "2f182c865e8d13ac",
   "execution_count": 20
  },
  {
   "cell_type": "code",
   "outputs": [
    {
     "data": {
      "text/plain": "False"
     },
     "execution_count": 21,
     "metadata": {},
     "output_type": "execute_result"
    }
   ],
   "source": [
    "a = math.nan\n",
    "b = np.nan\n",
    "a == b"
   ],
   "metadata": {
    "collapsed": false,
    "ExecuteTime": {
     "end_time": "2024-01-19T21:44:49.070329300Z",
     "start_time": "2024-01-19T21:44:49.024381300Z"
    }
   },
   "id": "1dc328fb5e9ee358",
   "execution_count": 21
  },
  {
   "cell_type": "code",
   "outputs": [
    {
     "data": {
      "text/plain": "True"
     },
     "execution_count": 22,
     "metadata": {},
     "output_type": "execute_result"
    }
   ],
   "source": [
    "math.isnan(a)"
   ],
   "metadata": {
    "collapsed": false,
    "ExecuteTime": {
     "end_time": "2024-01-19T21:45:13.208363300Z",
     "start_time": "2024-01-19T21:45:13.150357900Z"
    }
   },
   "id": "4edfb3ad58cf99e9",
   "execution_count": 22
  },
  {
   "cell_type": "code",
   "outputs": [
    {
     "data": {
      "text/plain": "True"
     },
     "execution_count": 23,
     "metadata": {},
     "output_type": "execute_result"
    }
   ],
   "source": [
    "np.isnan(a)"
   ],
   "metadata": {
    "collapsed": false,
    "ExecuteTime": {
     "end_time": "2024-01-19T21:45:31.188971500Z",
     "start_time": "2024-01-19T21:45:31.163459700Z"
    }
   },
   "id": "d9f1081bd62531cf",
   "execution_count": 23
  },
  {
   "cell_type": "code",
   "outputs": [],
   "source": [
    "a = np.array([1, 2, np.nan, 3, math.nan])"
   ],
   "metadata": {
    "collapsed": false,
    "ExecuteTime": {
     "end_time": "2024-01-19T21:45:57.809626Z",
     "start_time": "2024-01-19T21:45:57.782080900Z"
    }
   },
   "id": "98c914798606a988",
   "execution_count": 24
  },
  {
   "cell_type": "code",
   "outputs": [
    {
     "data": {
      "text/plain": "array([False, False,  True, False,  True])"
     },
     "execution_count": 28,
     "metadata": {},
     "output_type": "execute_result"
    }
   ],
   "source": [
    "np.isnan(a)"
   ],
   "metadata": {
    "collapsed": false,
    "ExecuteTime": {
     "end_time": "2024-01-19T21:46:57.425095500Z",
     "start_time": "2024-01-19T21:46:57.380095900Z"
    }
   },
   "id": "f42d750118dd6023",
   "execution_count": 28
  },
  {
   "cell_type": "code",
   "outputs": [
    {
     "name": "stdout",
     "output_type": "stream",
     "text": [
      "0    3.14\n",
      "1    2.50\n",
      "2     NaN\n",
      "3    5.00\n",
      "dtype: float64\n"
     ]
    }
   ],
   "source": [
    "s = pd.Series([3.14, 2.5, None, 5])\n",
    "print(s)"
   ],
   "metadata": {
    "collapsed": false,
    "ExecuteTime": {
     "end_time": "2024-01-19T21:48:54.208023200Z",
     "start_time": "2024-01-19T21:48:54.166468100Z"
    }
   },
   "id": "838fc7aca6f99a99",
   "execution_count": 34
  },
  {
   "cell_type": "code",
   "outputs": [
    {
     "data": {
      "text/plain": "nan"
     },
     "execution_count": 35,
     "metadata": {},
     "output_type": "execute_result"
    }
   ],
   "source": [
    "s.loc[2]"
   ],
   "metadata": {
    "collapsed": false,
    "ExecuteTime": {
     "end_time": "2024-01-19T21:48:56.374457400Z",
     "start_time": "2024-01-19T21:48:56.354441400Z"
    }
   },
   "id": "fc5b2add18d54eee",
   "execution_count": 35
  },
  {
   "cell_type": "code",
   "outputs": [
    {
     "data": {
      "text/plain": "numpy.float64"
     },
     "execution_count": 33,
     "metadata": {},
     "output_type": "execute_result"
    }
   ],
   "source": [
    "type(s.loc[2])"
   ],
   "metadata": {
    "collapsed": false,
    "ExecuteTime": {
     "end_time": "2024-01-19T21:48:50.816313300Z",
     "start_time": "2024-01-19T21:48:50.766772800Z"
    }
   },
   "id": "9e9416c8dd4611a8",
   "execution_count": 33
  },
  {
   "cell_type": "code",
   "outputs": [
    {
     "data": {
      "text/plain": "0    False\n1    False\n2     True\n3    False\ndtype: bool"
     },
     "execution_count": 36,
     "metadata": {},
     "output_type": "execute_result"
    }
   ],
   "source": [
    "s.isna()"
   ],
   "metadata": {
    "collapsed": false,
    "ExecuteTime": {
     "end_time": "2024-01-19T21:49:20.019616800Z",
     "start_time": "2024-01-19T21:49:19.999539100Z"
    }
   },
   "id": "75e8692137b8ec67",
   "execution_count": 36
  },
  {
   "cell_type": "code",
   "outputs": [
    {
     "name": "stdout",
     "output_type": "stream",
     "text": [
      "0    1.0\n",
      "1    2.0\n",
      "2    3.0\n",
      "3    NaN\n",
      "dtype: float64\n"
     ]
    }
   ],
   "source": [
    "print(pd.Series([1, 2, 3, None]))"
   ],
   "metadata": {
    "collapsed": false,
    "ExecuteTime": {
     "end_time": "2024-01-19T22:39:54.149621Z",
     "start_time": "2024-01-19T22:39:54.112620500Z"
    }
   },
   "id": "7b7d04a6931cea64",
   "execution_count": 39
  },
  {
   "cell_type": "code",
   "outputs": [
    {
     "name": "stdout",
     "output_type": "stream",
     "text": [
      "0       a\n",
      "1       b\n",
      "2    None\n",
      "3     NaN\n",
      "dtype: object\n"
     ]
    }
   ],
   "source": [
    "s = pd.Series(['a', 'b', None, np.nan])\n",
    "print(s)"
   ],
   "metadata": {
    "collapsed": false,
    "ExecuteTime": {
     "end_time": "2024-01-19T22:40:49.376841500Z",
     "start_time": "2024-01-19T22:40:49.358846800Z"
    }
   },
   "id": "8ac373ef90ad2d78",
   "execution_count": 41
  },
  {
   "cell_type": "code",
   "outputs": [
    {
     "name": "stdout",
     "output_type": "stream",
     "text": [
      "0    False\n",
      "1    False\n",
      "2     True\n",
      "3     True\n",
      "dtype: bool\n"
     ]
    }
   ],
   "source": [
    "print(s.isna())"
   ],
   "metadata": {
    "collapsed": false,
    "ExecuteTime": {
     "end_time": "2024-01-19T22:41:29.641370Z",
     "start_time": "2024-01-19T22:41:29.615342100Z"
    }
   },
   "id": "49ced43064e5ca50",
   "execution_count": 43
  },
  {
   "cell_type": "code",
   "outputs": [
    {
     "data": {
      "text/plain": "True"
     },
     "execution_count": 44,
     "metadata": {},
     "output_type": "execute_result"
    }
   ],
   "source": [
    "s[2] is None"
   ],
   "metadata": {
    "collapsed": false,
    "ExecuteTime": {
     "end_time": "2024-01-19T22:41:57.155630900Z",
     "start_time": "2024-01-19T22:41:57.133623Z"
    }
   },
   "id": "d8a3c408b4f544f0",
   "execution_count": 44
  },
  {
   "cell_type": "code",
   "outputs": [
    {
     "data": {
      "text/plain": "False"
     },
     "execution_count": 45,
     "metadata": {},
     "output_type": "execute_result"
    }
   ],
   "source": [
    "s[3] is None"
   ],
   "metadata": {
    "collapsed": false,
    "ExecuteTime": {
     "end_time": "2024-01-19T22:42:02.387004600Z",
     "start_time": "2024-01-19T22:42:02.340462800Z"
    }
   },
   "id": "a70169b4abc3169d",
   "execution_count": 45
  },
  {
   "cell_type": "code",
   "outputs": [
    {
     "name": "stdout",
     "output_type": "stream",
     "text": [
      "Typerror: must be real number, not NoneType\n"
     ]
    }
   ],
   "source": [
    "try:\n",
    "    math.isnan(s.loc[2])\n",
    "except TypeError as ex:\n",
    "    print(f'Typerror: {ex}')"
   ],
   "metadata": {
    "collapsed": false,
    "ExecuteTime": {
     "end_time": "2024-01-19T22:42:54.285187100Z",
     "start_time": "2024-01-19T22:42:54.230652600Z"
    }
   },
   "id": "3d4cffc29b1d3c67",
   "execution_count": 46
  },
  {
   "cell_type": "code",
   "outputs": [
    {
     "data": {
      "text/plain": "True"
     },
     "execution_count": 47,
     "metadata": {},
     "output_type": "execute_result"
    }
   ],
   "source": [
    "math.isnan(s.loc[3])"
   ],
   "metadata": {
    "collapsed": false,
    "ExecuteTime": {
     "end_time": "2024-01-19T22:44:45.347514900Z",
     "start_time": "2024-01-19T22:44:45.324515500Z"
    }
   },
   "id": "19fdbe747a0555bc",
   "execution_count": 47
  },
  {
   "cell_type": "code",
   "outputs": [
    {
     "data": {
      "text/plain": "2    None\n3     NaN\ndtype: object"
     },
     "execution_count": 49,
     "metadata": {},
     "output_type": "execute_result"
    }
   ],
   "source": [
    "s.loc[s.isna()]"
   ],
   "metadata": {
    "collapsed": false,
    "ExecuteTime": {
     "end_time": "2024-01-19T22:45:31.605259500Z",
     "start_time": "2024-01-19T22:45:31.560258500Z"
    }
   },
   "id": "2e9bb35ddcd53595",
   "execution_count": 49
  },
  {
   "cell_type": "code",
   "outputs": [
    {
     "name": "stdout",
     "output_type": "stream",
     "text": [
      "a     aaa\n",
      "b     bbb\n",
      "c    None\n",
      "d     ddd\n",
      "e     NaN\n",
      "dtype: object\n"
     ]
    }
   ],
   "source": [
    "s = pd.Series(['aaa', 'bbb', None, 'ddd', np.nan],\n",
    "              index=list('abcde'))\n",
    "print(s)"
   ],
   "metadata": {
    "collapsed": false,
    "ExecuteTime": {
     "end_time": "2024-01-19T22:48:09.592320100Z",
     "start_time": "2024-01-19T22:48:09.550283300Z"
    }
   },
   "id": "1a5830d3f8dd1251",
   "execution_count": 54
  },
  {
   "cell_type": "code",
   "outputs": [
    {
     "data": {
      "text/plain": "a    False\nb    False\nc     True\nd    False\ne     True\ndtype: bool"
     },
     "execution_count": 55,
     "metadata": {},
     "output_type": "execute_result"
    }
   ],
   "source": [
    "pd.isnull(s)"
   ],
   "metadata": {
    "collapsed": false,
    "ExecuteTime": {
     "end_time": "2024-01-19T22:48:27.297276Z",
     "start_time": "2024-01-19T22:48:27.263268Z"
    }
   },
   "id": "61fe1df3084b7986",
   "execution_count": 55
  },
  {
   "cell_type": "code",
   "outputs": [
    {
     "data": {
      "text/plain": "c    None\ne     NaN\ndtype: object"
     },
     "execution_count": 58,
     "metadata": {},
     "output_type": "execute_result"
    }
   ],
   "source": [
    "s[pd.isnull(s)]"
   ],
   "metadata": {
    "collapsed": false,
    "ExecuteTime": {
     "end_time": "2024-01-19T22:49:15.510738400Z",
     "start_time": "2024-01-19T22:49:15.497571500Z"
    }
   },
   "id": "64259a7619b7416f",
   "execution_count": 58
  },
  {
   "cell_type": "code",
   "outputs": [
    {
     "data": {
      "text/plain": "a    aaa\nb    bbb\nd    ddd\ndtype: object"
     },
     "execution_count": 59,
     "metadata": {},
     "output_type": "execute_result"
    }
   ],
   "source": [
    "s[~pd.isnull(s)]"
   ],
   "metadata": {
    "collapsed": false,
    "ExecuteTime": {
     "end_time": "2024-01-19T22:49:25.691854400Z",
     "start_time": "2024-01-19T22:49:25.667846800Z"
    }
   },
   "id": "56f743633b788dd9",
   "execution_count": 59
  },
  {
   "cell_type": "code",
   "outputs": [
    {
     "data": {
      "text/plain": "a     True\nb     True\nc    False\nd     True\ne    False\ndtype: bool"
     },
     "execution_count": 60,
     "metadata": {},
     "output_type": "execute_result"
    }
   ],
   "source": [
    "pd.notnull(s)"
   ],
   "metadata": {
    "collapsed": false,
    "ExecuteTime": {
     "end_time": "2024-01-19T22:49:45.621889400Z",
     "start_time": "2024-01-19T22:49:45.585887500Z"
    }
   },
   "id": "94fc5542c1671c91",
   "execution_count": 60
  },
  {
   "cell_type": "code",
   "outputs": [
    {
     "data": {
      "text/plain": "a    aaa\nb    bbb\nd    ddd\ndtype: object"
     },
     "execution_count": 61,
     "metadata": {},
     "output_type": "execute_result"
    }
   ],
   "source": [
    "s[pd.notnull(s)]"
   ],
   "metadata": {
    "collapsed": false,
    "ExecuteTime": {
     "end_time": "2024-01-19T22:49:58.429125600Z",
     "start_time": "2024-01-19T22:49:58.393635200Z"
    }
   },
   "id": "d8c385af7e9adbd2",
   "execution_count": 61
  },
  {
   "cell_type": "code",
   "outputs": [
    {
     "data": {
      "text/plain": "a    aaa\nb    bbb\nd    ddd\ndtype: object"
     },
     "execution_count": 62,
     "metadata": {},
     "output_type": "execute_result"
    }
   ],
   "source": [
    "s.dropna()"
   ],
   "metadata": {
    "collapsed": false,
    "ExecuteTime": {
     "end_time": "2024-01-19T22:50:43.509262200Z",
     "start_time": "2024-01-19T22:50:43.465722Z"
    }
   },
   "id": "97e0ef07f8aa33d4",
   "execution_count": 62
  },
  {
   "cell_type": "code",
   "outputs": [
    {
     "name": "stdout",
     "output_type": "stream",
     "text": [
      "a     aaa\n",
      "b     bbb\n",
      "c    None\n",
      "d     ddd\n",
      "e     NaN\n",
      "dtype: object\n"
     ]
    }
   ],
   "source": [
    "print(s)"
   ],
   "metadata": {
    "collapsed": false,
    "ExecuteTime": {
     "end_time": "2024-01-19T22:52:00.727110400Z",
     "start_time": "2024-01-19T22:52:00.679603900Z"
    }
   },
   "id": "6c99233ba88f5620",
   "execution_count": 63
  },
  {
   "cell_type": "code",
   "outputs": [
    {
     "name": "stdout",
     "output_type": "stream",
     "text": [
      "a        aaa\n",
      "b        bbb\n",
      "c    missing\n",
      "d        ddd\n",
      "e    missing\n",
      "dtype: object\n"
     ]
    }
   ],
   "source": [
    "print(s.fillna('missing'))"
   ],
   "metadata": {
    "collapsed": false,
    "ExecuteTime": {
     "end_time": "2024-01-19T22:52:23.317608800Z",
     "start_time": "2024-01-19T22:52:23.291060200Z"
    }
   },
   "id": "a0b48b7c6786e7e4",
   "execution_count": 65
  },
  {
   "cell_type": "code",
   "outputs": [
    {
     "data": {
      "text/plain": "a    aaa\nb    bbb\nc    bbb\nd    ddd\ne    ddd\ndtype: object"
     },
     "execution_count": 68,
     "metadata": {},
     "output_type": "execute_result"
    }
   ],
   "source": [
    "s.fillna(axis=0, method='ffill')"
   ],
   "metadata": {
    "collapsed": false,
    "ExecuteTime": {
     "end_time": "2024-01-19T22:54:39.009654700Z",
     "start_time": "2024-01-19T22:54:38.975661400Z"
    }
   },
   "id": "6249939f4196ea74",
   "execution_count": 68
  },
  {
   "cell_type": "code",
   "outputs": [
    {
     "data": {
      "text/plain": "a    aaa\nb    bbb\nc    bbb\nd    ddd\ne    ddd\ndtype: object"
     },
     "execution_count": 69,
     "metadata": {},
     "output_type": "execute_result"
    }
   ],
   "source": [
    "s.fillna(method='ffill')"
   ],
   "metadata": {
    "collapsed": false,
    "ExecuteTime": {
     "end_time": "2024-01-19T22:56:57.664504800Z",
     "start_time": "2024-01-19T22:56:57.622504600Z"
    }
   },
   "id": "931abf68ca00a4f0",
   "execution_count": 69
  },
  {
   "cell_type": "code",
   "outputs": [
    {
     "data": {
      "text/plain": "a    aaa\nb    bbb\nc    ddd\nd    ddd\ne    NaN\ndtype: object"
     },
     "execution_count": 70,
     "metadata": {},
     "output_type": "execute_result"
    }
   ],
   "source": [
    "s.fillna(method='bfill')"
   ],
   "metadata": {
    "collapsed": false,
    "ExecuteTime": {
     "end_time": "2024-01-19T22:57:14.088887700Z",
     "start_time": "2024-01-19T22:57:14.046919800Z"
    }
   },
   "id": "e0dd25c6e28d0ca8",
   "execution_count": 70
  },
  {
   "cell_type": "code",
   "outputs": [
    {
     "data": {
      "text/plain": "a    aaa\nb    bbb\nc    ddd\nd    ddd\ne    ddd\ndtype: object"
     },
     "execution_count": 71,
     "metadata": {},
     "output_type": "execute_result"
    }
   ],
   "source": [
    "s.fillna(method='bfill').fillna(method='ffill')"
   ],
   "metadata": {
    "collapsed": false,
    "ExecuteTime": {
     "end_time": "2024-01-19T22:58:09.524546400Z",
     "start_time": "2024-01-19T22:58:09.508541100Z"
    }
   },
   "id": "6abfba582463ea28",
   "execution_count": 71
  },
  {
   "cell_type": "code",
   "outputs": [
    {
     "name": "stdout",
     "output_type": "stream",
     "text": [
      "0    1.0\n",
      "1    2.0\n",
      "2    NaN\n",
      "3    4.0\n",
      "4    NaN\n",
      "5    7.0\n",
      "dtype: float64\n"
     ]
    }
   ],
   "source": [
    "s = pd.Series([1, 2, None, 4, None, 7])\n",
    "print(s)"
   ],
   "metadata": {
    "collapsed": false,
    "ExecuteTime": {
     "end_time": "2024-01-20T03:05:07.055334600Z",
     "start_time": "2024-01-20T03:05:07.046831400Z"
    }
   },
   "id": "2d91bbd44c0e699b",
   "execution_count": 74
  },
  {
   "cell_type": "code",
   "outputs": [
    {
     "name": "stdout",
     "output_type": "stream",
     "text": [
      "0    1.0\n",
      "1    2.0\n",
      "2    3.0\n",
      "3    4.0\n",
      "4    5.5\n",
      "5    7.0\n",
      "dtype: float64\n"
     ]
    }
   ],
   "source": [
    "print(s.interpolate(method='linear'))"
   ],
   "metadata": {
    "collapsed": false,
    "ExecuteTime": {
     "end_time": "2024-01-20T03:05:32.801364700Z",
     "start_time": "2024-01-20T03:05:32.776155400Z"
    }
   },
   "id": "681f890016a1bca4",
   "execution_count": 76
  },
  {
   "cell_type": "code",
   "outputs": [
    {
     "name": "stdout",
     "output_type": "stream",
     "text": [
      "       col1     col2     col3   col4\n",
      "row1      1      2.0      3.0      4\n",
      "row2     10      NaN     30.0     40\n",
      "row3    100      NaN    300.0    400\n",
      "row4   1000   2000.0      NaN   4000\n",
      "row5  10000  20000.0  40000.0  40000\n"
     ]
    }
   ],
   "source": [
    "d = {\n",
    "    'col1': {'row1': 1, 'row2': 10, 'row3': 100, 'row4': 1000, 'row5': 10000},\n",
    "    'col2': {'row1': 2, 'row2': None, 'row3': None, 'row4': 2000, 'row5': 20000},\n",
    "    'col3': {'row1': 3, 'row2': 30, 'row3': 300, 'row4': None, 'row5': 40000},\n",
    "    'col4': {'row1': 4, 'row2': 40, 'row3': 400, 'row4': 4000, 'row5': 40000}\n",
    "}\n",
    "df = pd.DataFrame(d)\n",
    "print(df)"
   ],
   "metadata": {
    "collapsed": false,
    "ExecuteTime": {
     "end_time": "2024-01-20T03:08:28.159200700Z",
     "start_time": "2024-01-20T03:08:28.099734700Z"
    }
   },
   "id": "95d9e6b0dee6c54a",
   "execution_count": 83
  },
  {
   "cell_type": "code",
   "outputs": [
    {
     "data": {
      "text/plain": "       col1   col2   col3   col4\nrow1  False  False  False  False\nrow2  False   True  False  False\nrow3  False   True  False  False\nrow4  False  False   True  False\nrow5  False  False  False  False",
      "text/html": "<div>\n<style scoped>\n    .dataframe tbody tr th:only-of-type {\n        vertical-align: middle;\n    }\n\n    .dataframe tbody tr th {\n        vertical-align: top;\n    }\n\n    .dataframe thead th {\n        text-align: right;\n    }\n</style>\n<table border=\"1\" class=\"dataframe\">\n  <thead>\n    <tr style=\"text-align: right;\">\n      <th></th>\n      <th>col1</th>\n      <th>col2</th>\n      <th>col3</th>\n      <th>col4</th>\n    </tr>\n  </thead>\n  <tbody>\n    <tr>\n      <th>row1</th>\n      <td>False</td>\n      <td>False</td>\n      <td>False</td>\n      <td>False</td>\n    </tr>\n    <tr>\n      <th>row2</th>\n      <td>False</td>\n      <td>True</td>\n      <td>False</td>\n      <td>False</td>\n    </tr>\n    <tr>\n      <th>row3</th>\n      <td>False</td>\n      <td>True</td>\n      <td>False</td>\n      <td>False</td>\n    </tr>\n    <tr>\n      <th>row4</th>\n      <td>False</td>\n      <td>False</td>\n      <td>True</td>\n      <td>False</td>\n    </tr>\n    <tr>\n      <th>row5</th>\n      <td>False</td>\n      <td>False</td>\n      <td>False</td>\n      <td>False</td>\n    </tr>\n  </tbody>\n</table>\n</div>"
     },
     "execution_count": 84,
     "metadata": {},
     "output_type": "execute_result"
    }
   ],
   "source": [
    "df.isna()"
   ],
   "metadata": {
    "collapsed": false,
    "ExecuteTime": {
     "end_time": "2024-01-20T03:08:43.171398500Z",
     "start_time": "2024-01-20T03:08:43.119870900Z"
    }
   },
   "id": "d0f444bea97e1b52",
   "execution_count": 84
  },
  {
   "cell_type": "code",
   "outputs": [
    {
     "data": {
      "text/plain": "       col1     col2     col3   col4\nrow1      1      2.0      3.0      4\nrow2     10      0.0     30.0     40\nrow3    100      0.0    300.0    400\nrow4   1000   2000.0      0.0   4000\nrow5  10000  20000.0  40000.0  40000",
      "text/html": "<div>\n<style scoped>\n    .dataframe tbody tr th:only-of-type {\n        vertical-align: middle;\n    }\n\n    .dataframe tbody tr th {\n        vertical-align: top;\n    }\n\n    .dataframe thead th {\n        text-align: right;\n    }\n</style>\n<table border=\"1\" class=\"dataframe\">\n  <thead>\n    <tr style=\"text-align: right;\">\n      <th></th>\n      <th>col1</th>\n      <th>col2</th>\n      <th>col3</th>\n      <th>col4</th>\n    </tr>\n  </thead>\n  <tbody>\n    <tr>\n      <th>row1</th>\n      <td>1</td>\n      <td>2.0</td>\n      <td>3.0</td>\n      <td>4</td>\n    </tr>\n    <tr>\n      <th>row2</th>\n      <td>10</td>\n      <td>0.0</td>\n      <td>30.0</td>\n      <td>40</td>\n    </tr>\n    <tr>\n      <th>row3</th>\n      <td>100</td>\n      <td>0.0</td>\n      <td>300.0</td>\n      <td>400</td>\n    </tr>\n    <tr>\n      <th>row4</th>\n      <td>1000</td>\n      <td>2000.0</td>\n      <td>0.0</td>\n      <td>4000</td>\n    </tr>\n    <tr>\n      <th>row5</th>\n      <td>10000</td>\n      <td>20000.0</td>\n      <td>40000.0</td>\n      <td>40000</td>\n    </tr>\n  </tbody>\n</table>\n</div>"
     },
     "execution_count": 85,
     "metadata": {},
     "output_type": "execute_result"
    }
   ],
   "source": [
    "df.fillna(0)"
   ],
   "metadata": {
    "collapsed": false,
    "ExecuteTime": {
     "end_time": "2024-01-20T03:09:14.990506900Z",
     "start_time": "2024-01-20T03:09:14.940951700Z"
    }
   },
   "id": "8e8afe97fe5c4aa0",
   "execution_count": 85
  },
  {
   "cell_type": "code",
   "outputs": [
    {
     "name": "stdout",
     "output_type": "stream",
     "text": [
      "       col1     col2     col3   col4\n",
      "row1      1      2.0      3.0      4\n",
      "row2     10      NaN     30.0     40\n",
      "row3    100      NaN    300.0    400\n",
      "row4   1000   2000.0      NaN   4000\n",
      "row5  10000  20000.0  40000.0  40000\n",
      "       col1     col2     col3   col4\n",
      "row1      1      2.0      3.0      4\n",
      "row2     10      2.0     30.0     40\n",
      "row3    100      2.0    300.0    400\n",
      "row4   1000   2000.0    300.0   4000\n",
      "row5  10000  20000.0  40000.0  40000\n"
     ]
    }
   ],
   "source": [
    "print(df)\n",
    "print(df.fillna(method='ffill'))"
   ],
   "metadata": {
    "collapsed": false,
    "ExecuteTime": {
     "end_time": "2024-01-20T03:10:07.056540900Z",
     "start_time": "2024-01-20T03:10:07.029309800Z"
    }
   },
   "id": "f9a1d074339ab59c",
   "execution_count": 88
  },
  {
   "cell_type": "code",
   "outputs": [
    {
     "name": "stdout",
     "output_type": "stream",
     "text": [
      "       col1     col2     col3   col4\n",
      "row1      1      2.0      3.0      4\n",
      "row2     10      NaN     30.0     40\n",
      "row3    100      NaN    300.0    400\n",
      "row4   1000   2000.0      NaN   4000\n",
      "row5  10000  20000.0  40000.0  40000\n",
      "       col1     col2     col3   col4\n",
      "row1      1      2.0      3.0      4\n",
      "row2     10      2.0     30.0     40\n",
      "row3    100      2.0    300.0    400\n",
      "row4   1000   2000.0    300.0   4000\n",
      "row5  10000  20000.0  40000.0  40000\n"
     ]
    }
   ],
   "source": [
    "print(df)\n",
    "print(df.fillna(method='ffill', axis=0))"
   ],
   "metadata": {
    "collapsed": false,
    "ExecuteTime": {
     "end_time": "2024-01-20T03:10:29.400028500Z",
     "start_time": "2024-01-20T03:10:29.383025500Z"
    }
   },
   "id": "ba7c71c184de9591",
   "execution_count": 89
  },
  {
   "cell_type": "code",
   "outputs": [
    {
     "name": "stdout",
     "output_type": "stream",
     "text": [
      "       col1     col2     col3   col4\n",
      "row1      1      2.0      3.0      4\n",
      "row2     10      NaN     30.0     40\n",
      "row3    100      NaN    300.0    400\n",
      "row4   1000   2000.0      NaN   4000\n",
      "row5  10000  20000.0  40000.0  40000\n",
      "         col1     col2     col3     col4\n",
      "row1      1.0      2.0      3.0      4.0\n",
      "row2     10.0     10.0     30.0     40.0\n",
      "row3    100.0    100.0    300.0    400.0\n",
      "row4   1000.0   2000.0   2000.0   4000.0\n",
      "row5  10000.0  20000.0  40000.0  40000.0\n"
     ]
    }
   ],
   "source": [
    "print(df)\n",
    "print(df.fillna(method='ffill', axis=1))"
   ],
   "metadata": {
    "collapsed": false,
    "ExecuteTime": {
     "end_time": "2024-01-20T03:10:37.458945100Z",
     "start_time": "2024-01-20T03:10:37.375935800Z"
    }
   },
   "id": "df296cbd108112d3",
   "execution_count": 90
  },
  {
   "cell_type": "code",
   "outputs": [
    {
     "data": {
      "text/plain": "       col1     col2     col3   col4\nrow1      1      2.0      3.0      4\nrow2     10    668.0     30.0     40\nrow3    100   1334.0    300.0    400\nrow4   1000   2000.0  20150.0   4000\nrow5  10000  20000.0  40000.0  40000",
      "text/html": "<div>\n<style scoped>\n    .dataframe tbody tr th:only-of-type {\n        vertical-align: middle;\n    }\n\n    .dataframe tbody tr th {\n        vertical-align: top;\n    }\n\n    .dataframe thead th {\n        text-align: right;\n    }\n</style>\n<table border=\"1\" class=\"dataframe\">\n  <thead>\n    <tr style=\"text-align: right;\">\n      <th></th>\n      <th>col1</th>\n      <th>col2</th>\n      <th>col3</th>\n      <th>col4</th>\n    </tr>\n  </thead>\n  <tbody>\n    <tr>\n      <th>row1</th>\n      <td>1</td>\n      <td>2.0</td>\n      <td>3.0</td>\n      <td>4</td>\n    </tr>\n    <tr>\n      <th>row2</th>\n      <td>10</td>\n      <td>668.0</td>\n      <td>30.0</td>\n      <td>40</td>\n    </tr>\n    <tr>\n      <th>row3</th>\n      <td>100</td>\n      <td>1334.0</td>\n      <td>300.0</td>\n      <td>400</td>\n    </tr>\n    <tr>\n      <th>row4</th>\n      <td>1000</td>\n      <td>2000.0</td>\n      <td>20150.0</td>\n      <td>4000</td>\n    </tr>\n    <tr>\n      <th>row5</th>\n      <td>10000</td>\n      <td>20000.0</td>\n      <td>40000.0</td>\n      <td>40000</td>\n    </tr>\n  </tbody>\n</table>\n</div>"
     },
     "execution_count": 92,
     "metadata": {},
     "output_type": "execute_result"
    }
   ],
   "source": [
    "df.interpolate(method='linear') # axis=0 by default"
   ],
   "metadata": {
    "collapsed": false,
    "ExecuteTime": {
     "end_time": "2024-01-20T03:11:33.253375700Z",
     "start_time": "2024-01-20T03:11:33.201793100Z"
    }
   },
   "id": "c6388f2dfeb1193a",
   "execution_count": 92
  },
  {
   "cell_type": "code",
   "outputs": [
    {
     "name": "stdout",
     "output_type": "stream",
     "text": [
      "       col1     col2     col3   col4\n",
      "row1      1      2.0      3.0      4\n",
      "row2     10      NaN     30.0     40\n",
      "row3    100      NaN    300.0    400\n",
      "row4   1000   2000.0      NaN   4000\n",
      "row5  10000  20000.0  40000.0  40000\n"
     ]
    },
    {
     "data": {
      "text/plain": "       col1     col2     col3   col4\nrow1      1      2.0      3.0      4\nrow2     10    668.0     30.0     40\nrow3    100   1334.0    300.0    400\nrow4   1000   2000.0  20150.0   4000\nrow5  10000  20000.0  40000.0  40000",
      "text/html": "<div>\n<style scoped>\n    .dataframe tbody tr th:only-of-type {\n        vertical-align: middle;\n    }\n\n    .dataframe tbody tr th {\n        vertical-align: top;\n    }\n\n    .dataframe thead th {\n        text-align: right;\n    }\n</style>\n<table border=\"1\" class=\"dataframe\">\n  <thead>\n    <tr style=\"text-align: right;\">\n      <th></th>\n      <th>col1</th>\n      <th>col2</th>\n      <th>col3</th>\n      <th>col4</th>\n    </tr>\n  </thead>\n  <tbody>\n    <tr>\n      <th>row1</th>\n      <td>1</td>\n      <td>2.0</td>\n      <td>3.0</td>\n      <td>4</td>\n    </tr>\n    <tr>\n      <th>row2</th>\n      <td>10</td>\n      <td>668.0</td>\n      <td>30.0</td>\n      <td>40</td>\n    </tr>\n    <tr>\n      <th>row3</th>\n      <td>100</td>\n      <td>1334.0</td>\n      <td>300.0</td>\n      <td>400</td>\n    </tr>\n    <tr>\n      <th>row4</th>\n      <td>1000</td>\n      <td>2000.0</td>\n      <td>20150.0</td>\n      <td>4000</td>\n    </tr>\n    <tr>\n      <th>row5</th>\n      <td>10000</td>\n      <td>20000.0</td>\n      <td>40000.0</td>\n      <td>40000</td>\n    </tr>\n  </tbody>\n</table>\n</div>"
     },
     "execution_count": 93,
     "metadata": {},
     "output_type": "execute_result"
    }
   ],
   "source": [
    "print(df)\n",
    "df.interpolate(method='linear', axis=0)"
   ],
   "metadata": {
    "collapsed": false,
    "ExecuteTime": {
     "end_time": "2024-01-20T03:12:02.757523500Z",
     "start_time": "2024-01-20T03:12:02.689967600Z"
    }
   },
   "id": "597b072a26d09181",
   "execution_count": 93
  },
  {
   "cell_type": "code",
   "outputs": [
    {
     "name": "stdout",
     "output_type": "stream",
     "text": [
      "       col1     col2     col3   col4\n",
      "row1      1      2.0      3.0      4\n",
      "row2     10      NaN     30.0     40\n",
      "row3    100      NaN    300.0    400\n",
      "row4   1000   2000.0      NaN   4000\n",
      "row5  10000  20000.0  40000.0  40000\n"
     ]
    },
    {
     "data": {
      "text/plain": "         col1     col2     col3     col4\nrow1      1.0      2.0      3.0      4.0\nrow2     10.0     20.0     30.0     40.0\nrow3    100.0    200.0    300.0    400.0\nrow4   1000.0   2000.0   3000.0   4000.0\nrow5  10000.0  20000.0  40000.0  40000.0",
      "text/html": "<div>\n<style scoped>\n    .dataframe tbody tr th:only-of-type {\n        vertical-align: middle;\n    }\n\n    .dataframe tbody tr th {\n        vertical-align: top;\n    }\n\n    .dataframe thead th {\n        text-align: right;\n    }\n</style>\n<table border=\"1\" class=\"dataframe\">\n  <thead>\n    <tr style=\"text-align: right;\">\n      <th></th>\n      <th>col1</th>\n      <th>col2</th>\n      <th>col3</th>\n      <th>col4</th>\n    </tr>\n  </thead>\n  <tbody>\n    <tr>\n      <th>row1</th>\n      <td>1.0</td>\n      <td>2.0</td>\n      <td>3.0</td>\n      <td>4.0</td>\n    </tr>\n    <tr>\n      <th>row2</th>\n      <td>10.0</td>\n      <td>20.0</td>\n      <td>30.0</td>\n      <td>40.0</td>\n    </tr>\n    <tr>\n      <th>row3</th>\n      <td>100.0</td>\n      <td>200.0</td>\n      <td>300.0</td>\n      <td>400.0</td>\n    </tr>\n    <tr>\n      <th>row4</th>\n      <td>1000.0</td>\n      <td>2000.0</td>\n      <td>3000.0</td>\n      <td>4000.0</td>\n    </tr>\n    <tr>\n      <th>row5</th>\n      <td>10000.0</td>\n      <td>20000.0</td>\n      <td>40000.0</td>\n      <td>40000.0</td>\n    </tr>\n  </tbody>\n</table>\n</div>"
     },
     "execution_count": 94,
     "metadata": {},
     "output_type": "execute_result"
    }
   ],
   "source": [
    "print(df)\n",
    "df.interpolate(method='linear', axis=1)"
   ],
   "metadata": {
    "collapsed": false,
    "ExecuteTime": {
     "end_time": "2024-01-20T03:13:16.361990900Z",
     "start_time": "2024-01-20T03:13:16.319500800Z"
    }
   },
   "id": "71dd34b02128cb43",
   "execution_count": 94
  },
  {
   "cell_type": "code",
   "outputs": [
    {
     "data": {
      "text/plain": "       col1     col2     col3   col4\nrow1      1      2.0      3.0      4\nrow5  10000  20000.0  40000.0  40000",
      "text/html": "<div>\n<style scoped>\n    .dataframe tbody tr th:only-of-type {\n        vertical-align: middle;\n    }\n\n    .dataframe tbody tr th {\n        vertical-align: top;\n    }\n\n    .dataframe thead th {\n        text-align: right;\n    }\n</style>\n<table border=\"1\" class=\"dataframe\">\n  <thead>\n    <tr style=\"text-align: right;\">\n      <th></th>\n      <th>col1</th>\n      <th>col2</th>\n      <th>col3</th>\n      <th>col4</th>\n    </tr>\n  </thead>\n  <tbody>\n    <tr>\n      <th>row1</th>\n      <td>1</td>\n      <td>2.0</td>\n      <td>3.0</td>\n      <td>4</td>\n    </tr>\n    <tr>\n      <th>row5</th>\n      <td>10000</td>\n      <td>20000.0</td>\n      <td>40000.0</td>\n      <td>40000</td>\n    </tr>\n  </tbody>\n</table>\n</div>"
     },
     "execution_count": 95,
     "metadata": {},
     "output_type": "execute_result"
    }
   ],
   "source": [
    "df.dropna() #axis=0 by default"
   ],
   "metadata": {
    "collapsed": false,
    "ExecuteTime": {
     "end_time": "2024-01-20T03:13:33.406262700Z",
     "start_time": "2024-01-20T03:13:33.369721400Z"
    }
   },
   "id": "d227701a811ad2be",
   "execution_count": 95
  },
  {
   "cell_type": "code",
   "outputs": [
    {
     "data": {
      "text/plain": "       col1   col4\nrow1      1      4\nrow2     10     40\nrow3    100    400\nrow4   1000   4000\nrow5  10000  40000",
      "text/html": "<div>\n<style scoped>\n    .dataframe tbody tr th:only-of-type {\n        vertical-align: middle;\n    }\n\n    .dataframe tbody tr th {\n        vertical-align: top;\n    }\n\n    .dataframe thead th {\n        text-align: right;\n    }\n</style>\n<table border=\"1\" class=\"dataframe\">\n  <thead>\n    <tr style=\"text-align: right;\">\n      <th></th>\n      <th>col1</th>\n      <th>col4</th>\n    </tr>\n  </thead>\n  <tbody>\n    <tr>\n      <th>row1</th>\n      <td>1</td>\n      <td>4</td>\n    </tr>\n    <tr>\n      <th>row2</th>\n      <td>10</td>\n      <td>40</td>\n    </tr>\n    <tr>\n      <th>row3</th>\n      <td>100</td>\n      <td>400</td>\n    </tr>\n    <tr>\n      <th>row4</th>\n      <td>1000</td>\n      <td>4000</td>\n    </tr>\n    <tr>\n      <th>row5</th>\n      <td>10000</td>\n      <td>40000</td>\n    </tr>\n  </tbody>\n</table>\n</div>"
     },
     "execution_count": 96,
     "metadata": {},
     "output_type": "execute_result"
    }
   ],
   "source": [
    "df.dropna(axis=1)"
   ],
   "metadata": {
    "collapsed": false,
    "ExecuteTime": {
     "end_time": "2024-01-20T03:14:10.580213100Z",
     "start_time": "2024-01-20T03:14:10.553205700Z"
    }
   },
   "id": "af3eda930e9517c6",
   "execution_count": 96
  },
  {
   "cell_type": "code",
   "outputs": [],
   "source": [],
   "metadata": {
    "collapsed": false,
    "ExecuteTime": {
     "end_time": "2024-01-19T22:59:37.772139500Z",
     "start_time": "2024-01-19T22:59:37.151344700Z"
    }
   },
   "id": "40d2e9b8a0fb7a8",
   "execution_count": 71
  },
  {
   "cell_type": "code",
   "outputs": [],
   "source": [],
   "metadata": {
    "collapsed": false,
    "ExecuteTime": {
     "end_time": "2024-01-19T22:59:37.865095600Z",
     "start_time": "2024-01-19T22:59:37.760125500Z"
    }
   },
   "id": "e3ed0e9c08b81ae2",
   "execution_count": 71
  },
  {
   "cell_type": "code",
   "outputs": [],
   "source": [],
   "metadata": {
    "collapsed": false,
    "ExecuteTime": {
     "end_time": "2024-01-19T22:59:37.909622600Z",
     "start_time": "2024-01-19T22:59:37.866092100Z"
    }
   },
   "id": "767e0b762c777cc",
   "execution_count": 71
  },
  {
   "cell_type": "code",
   "outputs": [],
   "source": [],
   "metadata": {
    "collapsed": false,
    "ExecuteTime": {
     "end_time": "2024-01-19T22:59:37.957720300Z",
     "start_time": "2024-01-19T22:59:37.890625300Z"
    }
   },
   "id": "2dd8b7a286aaa43c",
   "execution_count": 71
  },
  {
   "cell_type": "code",
   "outputs": [],
   "source": [],
   "metadata": {
    "collapsed": false,
    "ExecuteTime": {
     "end_time": "2024-01-19T22:59:38.001249900Z",
     "start_time": "2024-01-19T22:59:37.941625300Z"
    }
   },
   "id": "9eff598c6057010a",
   "execution_count": 71
  },
  {
   "cell_type": "code",
   "outputs": [],
   "source": [],
   "metadata": {
    "collapsed": false,
    "ExecuteTime": {
     "end_time": "2024-01-19T22:59:38.048351700Z",
     "start_time": "2024-01-19T22:59:37.990250500Z"
    }
   },
   "id": "cedeab03077a2d81",
   "execution_count": 71
  },
  {
   "cell_type": "code",
   "outputs": [],
   "source": [],
   "metadata": {
    "collapsed": false,
    "ExecuteTime": {
     "end_time": "2024-01-19T22:59:38.126842500Z",
     "start_time": "2024-01-19T22:59:38.047354800Z"
    }
   },
   "id": "ed271abb4b1c0e5",
   "execution_count": 71
  },
  {
   "cell_type": "code",
   "outputs": [],
   "source": [],
   "metadata": {
    "collapsed": false,
    "ExecuteTime": {
     "end_time": "2024-01-19T22:59:38.172845Z",
     "start_time": "2024-01-19T22:59:38.107832300Z"
    }
   },
   "id": "50ad2ff24c08c5e7",
   "execution_count": 71
  },
  {
   "cell_type": "code",
   "outputs": [],
   "source": [],
   "metadata": {
    "collapsed": false,
    "ExecuteTime": {
     "end_time": "2024-01-19T22:59:38.268360400Z",
     "start_time": "2024-01-19T22:59:38.160841400Z"
    }
   },
   "id": "198f67aa2b3f8418",
   "execution_count": 71
  },
  {
   "cell_type": "code",
   "outputs": [],
   "source": [],
   "metadata": {
    "collapsed": false,
    "ExecuteTime": {
     "end_time": "2024-01-19T22:59:38.327907500Z",
     "start_time": "2024-01-19T22:59:38.254371500Z"
    }
   },
   "id": "f64bcf8545d8cdcd",
   "execution_count": 71
  },
  {
   "cell_type": "code",
   "outputs": [],
   "source": [],
   "metadata": {
    "collapsed": false,
    "ExecuteTime": {
     "end_time": "2024-01-19T22:59:38.351904700Z",
     "start_time": "2024-01-19T22:59:38.283384800Z"
    }
   },
   "id": "3021f3b55a497b55",
   "execution_count": 71
  },
  {
   "cell_type": "code",
   "outputs": [],
   "source": [],
   "metadata": {
    "collapsed": false,
    "ExecuteTime": {
     "end_time": "2024-01-19T22:59:38.405012100Z",
     "start_time": "2024-01-19T22:59:38.354907500Z"
    }
   },
   "id": "cad6d449b995efca",
   "execution_count": 71
  },
  {
   "cell_type": "code",
   "outputs": [],
   "source": [],
   "metadata": {
    "collapsed": false,
    "ExecuteTime": {
     "end_time": "2024-01-19T22:59:38.432013900Z",
     "start_time": "2024-01-19T22:59:38.378919Z"
    }
   },
   "id": "9ea3e8b6d8795033",
   "execution_count": 71
  },
  {
   "cell_type": "code",
   "outputs": [],
   "source": [],
   "metadata": {
    "collapsed": false,
    "ExecuteTime": {
     "end_time": "2024-01-19T22:59:38.505554400Z",
     "start_time": "2024-01-19T22:59:38.434014900Z"
    }
   },
   "id": "ed9c89480e1d9be",
   "execution_count": 71
  },
  {
   "cell_type": "code",
   "outputs": [],
   "source": [],
   "metadata": {
    "collapsed": false,
    "ExecuteTime": {
     "end_time": "2024-01-19T22:59:38.528567100Z",
     "start_time": "2024-01-19T22:59:38.487558300Z"
    }
   },
   "id": "c52a6e7e787f6568",
   "execution_count": 71
  },
  {
   "cell_type": "code",
   "outputs": [],
   "source": [],
   "metadata": {
    "collapsed": false,
    "ExecuteTime": {
     "end_time": "2024-01-19T22:59:38.612149600Z",
     "start_time": "2024-01-19T22:59:38.530556400Z"
    }
   },
   "id": "498e18bd85ba8489",
   "execution_count": 71
  },
  {
   "cell_type": "code",
   "outputs": [],
   "source": [],
   "metadata": {
    "collapsed": false,
    "ExecuteTime": {
     "end_time": "2024-01-19T22:59:38.650143400Z",
     "start_time": "2024-01-19T22:59:38.587145100Z"
    }
   },
   "id": "ec26ccb9a9e4559e",
   "execution_count": 71
  },
  {
   "cell_type": "code",
   "outputs": [],
   "source": [],
   "metadata": {
    "collapsed": false,
    "ExecuteTime": {
     "end_time": "2024-01-19T22:59:38.731510600Z",
     "start_time": "2024-01-19T22:59:38.651145Z"
    }
   },
   "id": "6e4732c45819ee5a",
   "execution_count": 71
  },
  {
   "cell_type": "code",
   "outputs": [],
   "source": [],
   "metadata": {
    "collapsed": false,
    "ExecuteTime": {
     "end_time": "2024-01-19T22:59:38.782515700Z",
     "start_time": "2024-01-19T22:59:38.713523100Z"
    }
   },
   "id": "c156baf9a1b258c0",
   "execution_count": 71
  },
  {
   "cell_type": "code",
   "outputs": [],
   "source": [],
   "metadata": {
    "collapsed": false
   },
   "id": "818085cb47d94f0a"
  }
 ],
 "metadata": {
  "kernelspec": {
   "display_name": "Python 3",
   "language": "python",
   "name": "python3"
  },
  "language_info": {
   "codemirror_mode": {
    "name": "ipython",
    "version": 2
   },
   "file_extension": ".py",
   "mimetype": "text/x-python",
   "name": "python",
   "nbconvert_exporter": "python",
   "pygments_lexer": "ipython2",
   "version": "2.7.6"
  }
 },
 "nbformat": 4,
 "nbformat_minor": 5
}
