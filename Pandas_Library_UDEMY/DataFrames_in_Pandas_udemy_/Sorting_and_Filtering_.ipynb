{
 "cells": [
  {
   "cell_type": "markdown",
   "source": [
    "# Sorting and Filtering Data in DataFrames and Series: Boolean Masking"
   ],
   "metadata": {
    "collapsed": false
   },
   "id": "24ef33bd5e7f2deb"
  },
  {
   "cell_type": "code",
   "outputs": [],
   "source": [
    "\"\"\"\n",
    "                            FILTERING\n",
    "--> To filter, we can use \"boolean masking\".\n",
    "    --> This works similarly to Numpy and Series masking\n",
    "    --> We create a boolean array and apply the mask to a dataframe by using loc or iloc.\n",
    "        e.g mask = df['col'] >= 0\n",
    "            df[mask]        \n",
    "            \n",
    "                SORTING: df.sort_index(ascending=, ), df.sort_values(ascending=, 'col_name')\n",
    "--> df.sort_index() : allows us to sort rows based on the row index labels\n",
    "--> df.sort_values('column_name') : allows us to sort rows based on values in a column.\n",
    "--> Similarly to python's sorted() function, we can use a \"key\" argument.\n",
    "    --> e.g l = ['Z', 'a', 'b']\n",
    "            sorted(l, key=lambda x: x.casefold())\n",
    "    --> recall that key is a function that transforms each element of l, one by one.\n",
    "--> The key argument for DataFrames is the same. We can sort by an associated series of keys.\n",
    "    --> Instead of using a function that generates the keys one by one, we specify a vectorized function to generate the sequence of sort keys all at once.\n",
    "    --> The key function receives a Series as its argument. It should return a Series object with the same shape.\n",
    "    e.g s = pd.Series([1, -1, 2, -2])\n",
    "    key = np.abs(s) \n",
    "--> The key can also be a \"vectorized\" custom function or \"vectorized\" lambda expression, e.g\n",
    "    --> def sort_func(series_of_index):\n",
    "            return series_of_index.str.casefold()\n",
    "        df.sort_index(key=sort_func)\n",
    "    --> df.sort_index(key=lambda idx: idx.str.casefold())\n",
    "    \n",
    "                    SORT BY VALUES: df.sort_values(ascending=,)\n",
    "--> We can sort by values using df.sort_values(ascending=)\n",
    "    --> It is basically the same as sorting by index, except we can use some specified column instead of index.\n",
    "--> We can sort by values with a key argument as well. \n",
    "    --> Here, the key function received the sort by column (Series) as its argument.\n",
    "    --> df.sort_values(ascending=, 'c1', key=lambda col: np.abs(col))\n",
    "        Note that the key function receives column c1 as its argument and returns a new series.\n",
    "        \n",
    "                    SORTING ON MULTIPLE COLUMNS\n",
    "--> df.sort_values([column_name, another_column_name, another_name])\n",
    "--> We can specify a multi-level sort based on multiple columns.\n",
    "    --> df.sort_values(columns=['c1', 'c2'], ascending=[True, True]) sorts on c1 then c2.\n",
    "\"\"\""
   ],
   "metadata": {
    "collapsed": false
   },
   "id": "80ebea4758a62a91",
   "execution_count": null
  },
  {
   "cell_type": "code",
   "outputs": [],
   "source": [
    "import pandas as pd\n",
    "import numpy as np"
   ],
   "metadata": {
    "collapsed": false
   },
   "id": "3b43de8b1ae9842d",
   "execution_count": null
  },
  {
   "cell_type": "code",
   "outputs": [],
   "source": [
    "df = pd.read_csv('populations.csv')\n",
    "df.info()"
   ],
   "metadata": {
    "collapsed": false
   },
   "id": "10aabf44693db245",
   "execution_count": null
  },
  {
   "cell_type": "code",
   "outputs": [],
   "source": [
    "df.head()"
   ],
   "metadata": {
    "collapsed": false
   },
   "id": "81b96a82abd677c6",
   "execution_count": null
  },
  {
   "cell_type": "code",
   "outputs": [],
   "source": [
    "data = df.set_index('Geographic Area')\n",
    "data.head()"
   ],
   "metadata": {
    "collapsed": false
   },
   "id": "af9de5000226463e",
   "execution_count": null
  },
  {
   "cell_type": "code",
   "outputs": [],
   "source": [
    "mask = df['July 1, 2001 Estimate'] < 3_000_000"
   ],
   "metadata": {
    "collapsed": false
   },
   "id": "b8663eb4b534410f",
   "execution_count": null
  },
  {
   "cell_type": "code",
   "outputs": [],
   "source": [
    "less_than3M = df.loc[mask]"
   ],
   "metadata": {
    "collapsed": false
   },
   "id": "fe870886455812b0",
   "execution_count": null
  },
  {
   "cell_type": "code",
   "outputs": [],
   "source": [
    "data.iloc[:, 0] < 3_000_000"
   ],
   "metadata": {
    "collapsed": false
   },
   "id": "6ef0b93039e48742",
   "execution_count": null
  },
  {
   "cell_type": "code",
   "outputs": [],
   "source": [
    "mask = data['July 1, 2001 Estimate'] < 3_000_000\n",
    "data[mask]"
   ],
   "metadata": {
    "collapsed": false
   },
   "id": "b32c7e42db9ba7a8",
   "execution_count": null
  },
  {
   "cell_type": "code",
   "outputs": [],
   "source": [
    "data.sort_index(axis=0)"
   ],
   "metadata": {
    "collapsed": false
   },
   "id": "ce40184e259f62c2",
   "execution_count": null
  },
  {
   "cell_type": "code",
   "outputs": [],
   "source": [
    "data.sort_index(axis=1)"
   ],
   "metadata": {
    "collapsed": false
   },
   "id": "2ae01415cccf442d",
   "execution_count": null
  },
  {
   "cell_type": "code",
   "outputs": [],
   "source": [
    "s = pd.Series([10, 20, 30, 40], index=['Z', 'y', 'x', 'w'])\n",
    "print(s)"
   ],
   "metadata": {
    "collapsed": false
   },
   "id": "dded930f98d79ed6",
   "execution_count": null
  },
  {
   "cell_type": "code",
   "outputs": [],
   "source": [
    "s.sort_index()"
   ],
   "metadata": {
    "collapsed": false
   },
   "id": "abd90168350067",
   "execution_count": null
  },
  {
   "cell_type": "code",
   "outputs": [],
   "source": [
    "s.sort_index(key=lambda x: x.str.casefold())"
   ],
   "metadata": {
    "collapsed": false
   },
   "id": "47ae90e28c6b495e",
   "execution_count": null
  },
  {
   "cell_type": "code",
   "outputs": [],
   "source": [
    "l = ['Z', 'y', 'x', 'w']\n",
    "sorted(l) "
   ],
   "metadata": {
    "collapsed": false
   },
   "id": "a93ba92ae9868346",
   "execution_count": null
  },
  {
   "cell_type": "code",
   "outputs": [],
   "source": [
    "sorted(l, key=lambda x:x.casefold()) # key function works on lists element by element"
   ],
   "metadata": {
    "collapsed": false
   },
   "id": "90cfd0127e8aeba6",
   "execution_count": null
  },
  {
   "cell_type": "code",
   "outputs": [],
   "source": [
    "s.index.str.casefold()"
   ],
   "metadata": {
    "collapsed": false
   },
   "id": "f886588f834f1527",
   "execution_count": null
  },
  {
   "cell_type": "code",
   "outputs": [],
   "source": [
    "s.index.str.len()"
   ],
   "metadata": {
    "collapsed": false
   },
   "id": "61ffed94078dbd6f",
   "execution_count": null
  },
  {
   "cell_type": "code",
   "outputs": [],
   "source": [
    "s.sort_index(key=lambda ind:ind.str.casefold())"
   ],
   "metadata": {
    "collapsed": false
   },
   "id": "4b8fe41a161f4216",
   "execution_count": null
  },
  {
   "cell_type": "code",
   "outputs": [],
   "source": [
    "s = pd.Series(list('abcdef'), index=[-1, -3, -5, 0, 2, 4])\n",
    "print(s)"
   ],
   "metadata": {
    "collapsed": false
   },
   "id": "1ec13461015a7336",
   "execution_count": null
  },
  {
   "cell_type": "code",
   "outputs": [
    {
     "data": {
      "text/plain": "-5    c\n-3    b\n-1    a\n 0    d\n 2    e\n 4    f\ndtype: object"
     },
     "execution_count": 25,
     "metadata": {},
     "output_type": "execute_result"
    }
   ],
   "source": [
    "s.sort_index()"
   ],
   "metadata": {
    "collapsed": false,
    "ExecuteTime": {
     "end_time": "2024-01-21T02:07:43.976747700Z",
     "start_time": "2024-01-21T02:07:43.886721800Z"
    }
   },
   "id": "435513c15b5788cc",
   "execution_count": 25
  },
  {
   "cell_type": "code",
   "outputs": [
    {
     "data": {
      "text/plain": " 0    d\n-1    a\n 2    e\n-3    b\n 4    f\n-5    c\ndtype: object"
     },
     "execution_count": 28,
     "metadata": {},
     "output_type": "execute_result"
    }
   ],
   "source": [
    "s.sort_index(key=lambda idx: np.abs(idx))"
   ],
   "metadata": {
    "collapsed": false,
    "ExecuteTime": {
     "end_time": "2024-01-21T02:09:21.145119100Z",
     "start_time": "2024-01-21T02:09:21.124116Z"
    }
   },
   "id": "3de1666d402d6cb",
   "execution_count": 28
  },
  {
   "cell_type": "code",
   "outputs": [
    {
     "data": {
      "text/plain": "Int64Index([1, 3, 5, 0, 2, 4], dtype='int64')"
     },
     "execution_count": 30,
     "metadata": {},
     "output_type": "execute_result"
    }
   ],
   "source": [
    "np.abs(s.index)"
   ],
   "metadata": {
    "collapsed": false,
    "ExecuteTime": {
     "end_time": "2024-01-21T02:11:21.023123300Z",
     "start_time": "2024-01-21T02:11:20.978119300Z"
    }
   },
   "id": "56372926cb0c034",
   "execution_count": 30
  },
  {
   "cell_type": "code",
   "outputs": [
    {
     "data": {
      "text/plain": "                 July 1, 2001 Estimate  July 1, 2000 Estimate  \\\nGeographic Area                                                 \nUnited States                284796887              282124631   \nAlabama                        4464356                4451493   \nAlaska                          634892                 627601   \nArizona                        5307331                5165274   \nArkansas                       2692090                2678030   \n\n                 April 1, 2000 Population Estimates Base  \nGeographic Area                                           \nUnited States                                  281421906  \nAlabama                                          4447100  \nAlaska                                            626932  \nArizona                                          5130632  \nArkansas                                         2673400  ",
      "text/html": "<div>\n<style scoped>\n    .dataframe tbody tr th:only-of-type {\n        vertical-align: middle;\n    }\n\n    .dataframe tbody tr th {\n        vertical-align: top;\n    }\n\n    .dataframe thead th {\n        text-align: right;\n    }\n</style>\n<table border=\"1\" class=\"dataframe\">\n  <thead>\n    <tr style=\"text-align: right;\">\n      <th></th>\n      <th>July 1, 2001 Estimate</th>\n      <th>July 1, 2000 Estimate</th>\n      <th>April 1, 2000 Population Estimates Base</th>\n    </tr>\n    <tr>\n      <th>Geographic Area</th>\n      <th></th>\n      <th></th>\n      <th></th>\n    </tr>\n  </thead>\n  <tbody>\n    <tr>\n      <th>United States</th>\n      <td>284796887</td>\n      <td>282124631</td>\n      <td>281421906</td>\n    </tr>\n    <tr>\n      <th>Alabama</th>\n      <td>4464356</td>\n      <td>4451493</td>\n      <td>4447100</td>\n    </tr>\n    <tr>\n      <th>Alaska</th>\n      <td>634892</td>\n      <td>627601</td>\n      <td>626932</td>\n    </tr>\n    <tr>\n      <th>Arizona</th>\n      <td>5307331</td>\n      <td>5165274</td>\n      <td>5130632</td>\n    </tr>\n    <tr>\n      <th>Arkansas</th>\n      <td>2692090</td>\n      <td>2678030</td>\n      <td>2673400</td>\n    </tr>\n  </tbody>\n</table>\n</div>"
     },
     "execution_count": 31,
     "metadata": {},
     "output_type": "execute_result"
    }
   ],
   "source": [
    "data[:5]"
   ],
   "metadata": {
    "collapsed": false,
    "ExecuteTime": {
     "end_time": "2024-01-21T02:11:44.436778400Z",
     "start_time": "2024-01-21T02:11:44.405132200Z"
    }
   },
   "id": "268da9da5460f19c",
   "execution_count": 31
  },
  {
   "cell_type": "code",
   "outputs": [
    {
     "data": {
      "text/plain": "                      July 1, 2001 Estimate  July 1, 2000 Estimate  \\\nGeographic Area                                                      \nAlabama                             4464356                4451493   \nAlaska                               634892                 627601   \nArizona                             5307331                5165274   \nArkansas                            2692090                2678030   \nCalifornia                         34501130               34000446   \nColorado                            4417714                4323410   \nConnecticut                         3425074                3410079   \nDelaware                             796165                 786234   \nDistrict of Columbia                 571822                 571066   \nFlorida                            16396515               16054328   \nGeorgia                             8383915                8229823   \nHawaii                              1224398                1212281   \nIdaho                               1321006                1299258   \nIllinois                           12482301               12435970   \nIndiana                             6114745                6089950   \nIowa                                2923179                2927509   \nKansas                              2694641                2691750   \nKentucky                            4065556                4047424   \nLouisiana                           4465430                4469970   \nMaine                               1286670                1276961   \nMaryland                            5375156                5310908   \nMassachusetts                       6379304                6357072   \nMichigan                            9990817                9952006   \nMinnesota                           4972294                4931093   \nMississippi                         2858029                2849100   \nMissouri                            5629707                5603553   \nMontana                              904433                 903157   \nNebraska                            1713235                1712577   \nNevada                              2106074                2018723   \nNew Hampshire                       1259181                1239881   \nNew Jersey                          8484431                8429007   \nNew Mexico                          1829146                1821282   \nNew York                           19011378               18989332   \nNorth Carolina                      8186268                8077367   \nNorth Dakota                         634448                 640919   \nOhio                               11373541               11359955   \nOklahoma                            3460097                3453250   \nOregon                              3472867                3429293   \nPennsylvania                       12287150               12282591   \nRhode Island                        1058920                1050236   \nSouth Carolina                      4063011                4023438   \nSouth Dakota                         756600                 755509   \nTennessee                           5740021                5702027   \nTexas                              21325018               20946503   \nUnited States                     284796887              282124631   \nUtah                                2269789                2241555   \nVermont                              613090                 609709   \nVirginia                            7187734                7104016   \nWashington                          5987973                5908372   \nWest Virginia                       1801916                1807099   \nWisconsin                           5401906                5372243   \nWyoming                              494423                 494001   \n\n                      April 1, 2000 Population Estimates Base  \nGeographic Area                                                \nAlabama                                               4447100  \nAlaska                                                 626932  \nArizona                                               5130632  \nArkansas                                              2673400  \nCalifornia                                           33871648  \nColorado                                              4301261  \nConnecticut                                           3405565  \nDelaware                                               783600  \nDistrict of Columbia                                   572059  \nFlorida                                              15982378  \nGeorgia                                               8186453  \nHawaii                                                1211537  \nIdaho                                                 1293953  \nIllinois                                             12419293  \nIndiana                                               6080485  \nIowa                                                  2926324  \nKansas                                                2688418  \nKentucky                                              4041769  \nLouisiana                                             4468976  \nMaine                                                 1274923  \nMaryland                                              5296486  \nMassachusetts                                         6349097  \nMichigan                                              9938444  \nMinnesota                                             4919479  \nMississippi                                           2844658  \nMissouri                                              5595211  \nMontana                                                902195  \nNebraska                                              1711263  \nNevada                                                1998257  \nNew Hampshire                                         1235786  \nNew Jersey                                            8414350  \nNew Mexico                                            1819046  \nNew York                                             18976457  \nNorth Carolina                                        8049313  \nNorth Dakota                                           642200  \nOhio                                                 11353140  \nOklahoma                                              3450654  \nOregon                                                3421399  \nPennsylvania                                         12281054  \nRhode Island                                          1048319  \nSouth Carolina                                        4012012  \nSouth Dakota                                           754844  \nTennessee                                             5689283  \nTexas                                                20851820  \nUnited States                                       281421906  \nUtah                                                  2233169  \nVermont                                                608827  \nVirginia                                              7078515  \nWashington                                            5894121  \nWest Virginia                                         1808344  \nWisconsin                                             5363675  \nWyoming                                                493782  ",
      "text/html": "<div>\n<style scoped>\n    .dataframe tbody tr th:only-of-type {\n        vertical-align: middle;\n    }\n\n    .dataframe tbody tr th {\n        vertical-align: top;\n    }\n\n    .dataframe thead th {\n        text-align: right;\n    }\n</style>\n<table border=\"1\" class=\"dataframe\">\n  <thead>\n    <tr style=\"text-align: right;\">\n      <th></th>\n      <th>July 1, 2001 Estimate</th>\n      <th>July 1, 2000 Estimate</th>\n      <th>April 1, 2000 Population Estimates Base</th>\n    </tr>\n    <tr>\n      <th>Geographic Area</th>\n      <th></th>\n      <th></th>\n      <th></th>\n    </tr>\n  </thead>\n  <tbody>\n    <tr>\n      <th>Alabama</th>\n      <td>4464356</td>\n      <td>4451493</td>\n      <td>4447100</td>\n    </tr>\n    <tr>\n      <th>Alaska</th>\n      <td>634892</td>\n      <td>627601</td>\n      <td>626932</td>\n    </tr>\n    <tr>\n      <th>Arizona</th>\n      <td>5307331</td>\n      <td>5165274</td>\n      <td>5130632</td>\n    </tr>\n    <tr>\n      <th>Arkansas</th>\n      <td>2692090</td>\n      <td>2678030</td>\n      <td>2673400</td>\n    </tr>\n    <tr>\n      <th>California</th>\n      <td>34501130</td>\n      <td>34000446</td>\n      <td>33871648</td>\n    </tr>\n    <tr>\n      <th>Colorado</th>\n      <td>4417714</td>\n      <td>4323410</td>\n      <td>4301261</td>\n    </tr>\n    <tr>\n      <th>Connecticut</th>\n      <td>3425074</td>\n      <td>3410079</td>\n      <td>3405565</td>\n    </tr>\n    <tr>\n      <th>Delaware</th>\n      <td>796165</td>\n      <td>786234</td>\n      <td>783600</td>\n    </tr>\n    <tr>\n      <th>District of Columbia</th>\n      <td>571822</td>\n      <td>571066</td>\n      <td>572059</td>\n    </tr>\n    <tr>\n      <th>Florida</th>\n      <td>16396515</td>\n      <td>16054328</td>\n      <td>15982378</td>\n    </tr>\n    <tr>\n      <th>Georgia</th>\n      <td>8383915</td>\n      <td>8229823</td>\n      <td>8186453</td>\n    </tr>\n    <tr>\n      <th>Hawaii</th>\n      <td>1224398</td>\n      <td>1212281</td>\n      <td>1211537</td>\n    </tr>\n    <tr>\n      <th>Idaho</th>\n      <td>1321006</td>\n      <td>1299258</td>\n      <td>1293953</td>\n    </tr>\n    <tr>\n      <th>Illinois</th>\n      <td>12482301</td>\n      <td>12435970</td>\n      <td>12419293</td>\n    </tr>\n    <tr>\n      <th>Indiana</th>\n      <td>6114745</td>\n      <td>6089950</td>\n      <td>6080485</td>\n    </tr>\n    <tr>\n      <th>Iowa</th>\n      <td>2923179</td>\n      <td>2927509</td>\n      <td>2926324</td>\n    </tr>\n    <tr>\n      <th>Kansas</th>\n      <td>2694641</td>\n      <td>2691750</td>\n      <td>2688418</td>\n    </tr>\n    <tr>\n      <th>Kentucky</th>\n      <td>4065556</td>\n      <td>4047424</td>\n      <td>4041769</td>\n    </tr>\n    <tr>\n      <th>Louisiana</th>\n      <td>4465430</td>\n      <td>4469970</td>\n      <td>4468976</td>\n    </tr>\n    <tr>\n      <th>Maine</th>\n      <td>1286670</td>\n      <td>1276961</td>\n      <td>1274923</td>\n    </tr>\n    <tr>\n      <th>Maryland</th>\n      <td>5375156</td>\n      <td>5310908</td>\n      <td>5296486</td>\n    </tr>\n    <tr>\n      <th>Massachusetts</th>\n      <td>6379304</td>\n      <td>6357072</td>\n      <td>6349097</td>\n    </tr>\n    <tr>\n      <th>Michigan</th>\n      <td>9990817</td>\n      <td>9952006</td>\n      <td>9938444</td>\n    </tr>\n    <tr>\n      <th>Minnesota</th>\n      <td>4972294</td>\n      <td>4931093</td>\n      <td>4919479</td>\n    </tr>\n    <tr>\n      <th>Mississippi</th>\n      <td>2858029</td>\n      <td>2849100</td>\n      <td>2844658</td>\n    </tr>\n    <tr>\n      <th>Missouri</th>\n      <td>5629707</td>\n      <td>5603553</td>\n      <td>5595211</td>\n    </tr>\n    <tr>\n      <th>Montana</th>\n      <td>904433</td>\n      <td>903157</td>\n      <td>902195</td>\n    </tr>\n    <tr>\n      <th>Nebraska</th>\n      <td>1713235</td>\n      <td>1712577</td>\n      <td>1711263</td>\n    </tr>\n    <tr>\n      <th>Nevada</th>\n      <td>2106074</td>\n      <td>2018723</td>\n      <td>1998257</td>\n    </tr>\n    <tr>\n      <th>New Hampshire</th>\n      <td>1259181</td>\n      <td>1239881</td>\n      <td>1235786</td>\n    </tr>\n    <tr>\n      <th>New Jersey</th>\n      <td>8484431</td>\n      <td>8429007</td>\n      <td>8414350</td>\n    </tr>\n    <tr>\n      <th>New Mexico</th>\n      <td>1829146</td>\n      <td>1821282</td>\n      <td>1819046</td>\n    </tr>\n    <tr>\n      <th>New York</th>\n      <td>19011378</td>\n      <td>18989332</td>\n      <td>18976457</td>\n    </tr>\n    <tr>\n      <th>North Carolina</th>\n      <td>8186268</td>\n      <td>8077367</td>\n      <td>8049313</td>\n    </tr>\n    <tr>\n      <th>North Dakota</th>\n      <td>634448</td>\n      <td>640919</td>\n      <td>642200</td>\n    </tr>\n    <tr>\n      <th>Ohio</th>\n      <td>11373541</td>\n      <td>11359955</td>\n      <td>11353140</td>\n    </tr>\n    <tr>\n      <th>Oklahoma</th>\n      <td>3460097</td>\n      <td>3453250</td>\n      <td>3450654</td>\n    </tr>\n    <tr>\n      <th>Oregon</th>\n      <td>3472867</td>\n      <td>3429293</td>\n      <td>3421399</td>\n    </tr>\n    <tr>\n      <th>Pennsylvania</th>\n      <td>12287150</td>\n      <td>12282591</td>\n      <td>12281054</td>\n    </tr>\n    <tr>\n      <th>Rhode Island</th>\n      <td>1058920</td>\n      <td>1050236</td>\n      <td>1048319</td>\n    </tr>\n    <tr>\n      <th>South Carolina</th>\n      <td>4063011</td>\n      <td>4023438</td>\n      <td>4012012</td>\n    </tr>\n    <tr>\n      <th>South Dakota</th>\n      <td>756600</td>\n      <td>755509</td>\n      <td>754844</td>\n    </tr>\n    <tr>\n      <th>Tennessee</th>\n      <td>5740021</td>\n      <td>5702027</td>\n      <td>5689283</td>\n    </tr>\n    <tr>\n      <th>Texas</th>\n      <td>21325018</td>\n      <td>20946503</td>\n      <td>20851820</td>\n    </tr>\n    <tr>\n      <th>United States</th>\n      <td>284796887</td>\n      <td>282124631</td>\n      <td>281421906</td>\n    </tr>\n    <tr>\n      <th>Utah</th>\n      <td>2269789</td>\n      <td>2241555</td>\n      <td>2233169</td>\n    </tr>\n    <tr>\n      <th>Vermont</th>\n      <td>613090</td>\n      <td>609709</td>\n      <td>608827</td>\n    </tr>\n    <tr>\n      <th>Virginia</th>\n      <td>7187734</td>\n      <td>7104016</td>\n      <td>7078515</td>\n    </tr>\n    <tr>\n      <th>Washington</th>\n      <td>5987973</td>\n      <td>5908372</td>\n      <td>5894121</td>\n    </tr>\n    <tr>\n      <th>West Virginia</th>\n      <td>1801916</td>\n      <td>1807099</td>\n      <td>1808344</td>\n    </tr>\n    <tr>\n      <th>Wisconsin</th>\n      <td>5401906</td>\n      <td>5372243</td>\n      <td>5363675</td>\n    </tr>\n    <tr>\n      <th>Wyoming</th>\n      <td>494423</td>\n      <td>494001</td>\n      <td>493782</td>\n    </tr>\n  </tbody>\n</table>\n</div>"
     },
     "execution_count": 32,
     "metadata": {},
     "output_type": "execute_result"
    }
   ],
   "source": [
    "data.sort_index(key=lambda idx: idx.str.casefold())"
   ],
   "metadata": {
    "collapsed": false,
    "ExecuteTime": {
     "end_time": "2024-01-21T02:22:21.924938400Z",
     "start_time": "2024-01-21T02:22:21.882940100Z"
    }
   },
   "id": "6d82035042d85c4e",
   "execution_count": 32
  },
  {
   "cell_type": "code",
   "outputs": [
    {
     "data": {
      "text/plain": "                      July 1, 2001 Estimate  July 1, 2000 Estimate  \\\nGeographic Area                                                      \nAlabama                             4464356                4451493   \nAlaska                               634892                 627601   \nArizona                             5307331                5165274   \nArkansas                            2692090                2678030   \nCalifornia                         34501130               34000446   \nColorado                            4417714                4323410   \nConnecticut                         3425074                3410079   \nDelaware                             796165                 786234   \nDistrict of Columbia                 571822                 571066   \nFlorida                            16396515               16054328   \nGeorgia                             8383915                8229823   \nHawaii                              1224398                1212281   \nIdaho                               1321006                1299258   \nIllinois                           12482301               12435970   \nIndiana                             6114745                6089950   \nIowa                                2923179                2927509   \nKansas                              2694641                2691750   \nKentucky                            4065556                4047424   \nLouisiana                           4465430                4469970   \nMaine                               1286670                1276961   \nMaryland                            5375156                5310908   \nMassachusetts                       6379304                6357072   \nMichigan                            9990817                9952006   \nMinnesota                           4972294                4931093   \nMississippi                         2858029                2849100   \nMissouri                            5629707                5603553   \nMontana                              904433                 903157   \nNebraska                            1713235                1712577   \nNevada                              2106074                2018723   \nNew Hampshire                       1259181                1239881   \nNew Jersey                          8484431                8429007   \nNew Mexico                          1829146                1821282   \nNew York                           19011378               18989332   \nNorth Carolina                      8186268                8077367   \nNorth Dakota                         634448                 640919   \nOhio                               11373541               11359955   \nOklahoma                            3460097                3453250   \nOregon                              3472867                3429293   \nPennsylvania                       12287150               12282591   \nRhode Island                        1058920                1050236   \nSouth Carolina                      4063011                4023438   \nSouth Dakota                         756600                 755509   \nTennessee                           5740021                5702027   \nTexas                              21325018               20946503   \nUnited States                     284796887              282124631   \nUtah                                2269789                2241555   \nVermont                              613090                 609709   \nVirginia                            7187734                7104016   \nWashington                          5987973                5908372   \nWest Virginia                       1801916                1807099   \nWisconsin                           5401906                5372243   \nWyoming                              494423                 494001   \n\n                      April 1, 2000 Population Estimates Base  \nGeographic Area                                                \nAlabama                                               4447100  \nAlaska                                                 626932  \nArizona                                               5130632  \nArkansas                                              2673400  \nCalifornia                                           33871648  \nColorado                                              4301261  \nConnecticut                                           3405565  \nDelaware                                               783600  \nDistrict of Columbia                                   572059  \nFlorida                                              15982378  \nGeorgia                                               8186453  \nHawaii                                                1211537  \nIdaho                                                 1293953  \nIllinois                                             12419293  \nIndiana                                               6080485  \nIowa                                                  2926324  \nKansas                                                2688418  \nKentucky                                              4041769  \nLouisiana                                             4468976  \nMaine                                                 1274923  \nMaryland                                              5296486  \nMassachusetts                                         6349097  \nMichigan                                              9938444  \nMinnesota                                             4919479  \nMississippi                                           2844658  \nMissouri                                              5595211  \nMontana                                                902195  \nNebraska                                              1711263  \nNevada                                                1998257  \nNew Hampshire                                         1235786  \nNew Jersey                                            8414350  \nNew Mexico                                            1819046  \nNew York                                             18976457  \nNorth Carolina                                        8049313  \nNorth Dakota                                           642200  \nOhio                                                 11353140  \nOklahoma                                              3450654  \nOregon                                                3421399  \nPennsylvania                                         12281054  \nRhode Island                                          1048319  \nSouth Carolina                                        4012012  \nSouth Dakota                                           754844  \nTennessee                                             5689283  \nTexas                                                20851820  \nUnited States                                       281421906  \nUtah                                                  2233169  \nVermont                                                608827  \nVirginia                                              7078515  \nWashington                                            5894121  \nWest Virginia                                         1808344  \nWisconsin                                             5363675  \nWyoming                                                493782  ",
      "text/html": "<div>\n<style scoped>\n    .dataframe tbody tr th:only-of-type {\n        vertical-align: middle;\n    }\n\n    .dataframe tbody tr th {\n        vertical-align: top;\n    }\n\n    .dataframe thead th {\n        text-align: right;\n    }\n</style>\n<table border=\"1\" class=\"dataframe\">\n  <thead>\n    <tr style=\"text-align: right;\">\n      <th></th>\n      <th>July 1, 2001 Estimate</th>\n      <th>July 1, 2000 Estimate</th>\n      <th>April 1, 2000 Population Estimates Base</th>\n    </tr>\n    <tr>\n      <th>Geographic Area</th>\n      <th></th>\n      <th></th>\n      <th></th>\n    </tr>\n  </thead>\n  <tbody>\n    <tr>\n      <th>Alabama</th>\n      <td>4464356</td>\n      <td>4451493</td>\n      <td>4447100</td>\n    </tr>\n    <tr>\n      <th>Alaska</th>\n      <td>634892</td>\n      <td>627601</td>\n      <td>626932</td>\n    </tr>\n    <tr>\n      <th>Arizona</th>\n      <td>5307331</td>\n      <td>5165274</td>\n      <td>5130632</td>\n    </tr>\n    <tr>\n      <th>Arkansas</th>\n      <td>2692090</td>\n      <td>2678030</td>\n      <td>2673400</td>\n    </tr>\n    <tr>\n      <th>California</th>\n      <td>34501130</td>\n      <td>34000446</td>\n      <td>33871648</td>\n    </tr>\n    <tr>\n      <th>Colorado</th>\n      <td>4417714</td>\n      <td>4323410</td>\n      <td>4301261</td>\n    </tr>\n    <tr>\n      <th>Connecticut</th>\n      <td>3425074</td>\n      <td>3410079</td>\n      <td>3405565</td>\n    </tr>\n    <tr>\n      <th>Delaware</th>\n      <td>796165</td>\n      <td>786234</td>\n      <td>783600</td>\n    </tr>\n    <tr>\n      <th>District of Columbia</th>\n      <td>571822</td>\n      <td>571066</td>\n      <td>572059</td>\n    </tr>\n    <tr>\n      <th>Florida</th>\n      <td>16396515</td>\n      <td>16054328</td>\n      <td>15982378</td>\n    </tr>\n    <tr>\n      <th>Georgia</th>\n      <td>8383915</td>\n      <td>8229823</td>\n      <td>8186453</td>\n    </tr>\n    <tr>\n      <th>Hawaii</th>\n      <td>1224398</td>\n      <td>1212281</td>\n      <td>1211537</td>\n    </tr>\n    <tr>\n      <th>Idaho</th>\n      <td>1321006</td>\n      <td>1299258</td>\n      <td>1293953</td>\n    </tr>\n    <tr>\n      <th>Illinois</th>\n      <td>12482301</td>\n      <td>12435970</td>\n      <td>12419293</td>\n    </tr>\n    <tr>\n      <th>Indiana</th>\n      <td>6114745</td>\n      <td>6089950</td>\n      <td>6080485</td>\n    </tr>\n    <tr>\n      <th>Iowa</th>\n      <td>2923179</td>\n      <td>2927509</td>\n      <td>2926324</td>\n    </tr>\n    <tr>\n      <th>Kansas</th>\n      <td>2694641</td>\n      <td>2691750</td>\n      <td>2688418</td>\n    </tr>\n    <tr>\n      <th>Kentucky</th>\n      <td>4065556</td>\n      <td>4047424</td>\n      <td>4041769</td>\n    </tr>\n    <tr>\n      <th>Louisiana</th>\n      <td>4465430</td>\n      <td>4469970</td>\n      <td>4468976</td>\n    </tr>\n    <tr>\n      <th>Maine</th>\n      <td>1286670</td>\n      <td>1276961</td>\n      <td>1274923</td>\n    </tr>\n    <tr>\n      <th>Maryland</th>\n      <td>5375156</td>\n      <td>5310908</td>\n      <td>5296486</td>\n    </tr>\n    <tr>\n      <th>Massachusetts</th>\n      <td>6379304</td>\n      <td>6357072</td>\n      <td>6349097</td>\n    </tr>\n    <tr>\n      <th>Michigan</th>\n      <td>9990817</td>\n      <td>9952006</td>\n      <td>9938444</td>\n    </tr>\n    <tr>\n      <th>Minnesota</th>\n      <td>4972294</td>\n      <td>4931093</td>\n      <td>4919479</td>\n    </tr>\n    <tr>\n      <th>Mississippi</th>\n      <td>2858029</td>\n      <td>2849100</td>\n      <td>2844658</td>\n    </tr>\n    <tr>\n      <th>Missouri</th>\n      <td>5629707</td>\n      <td>5603553</td>\n      <td>5595211</td>\n    </tr>\n    <tr>\n      <th>Montana</th>\n      <td>904433</td>\n      <td>903157</td>\n      <td>902195</td>\n    </tr>\n    <tr>\n      <th>Nebraska</th>\n      <td>1713235</td>\n      <td>1712577</td>\n      <td>1711263</td>\n    </tr>\n    <tr>\n      <th>Nevada</th>\n      <td>2106074</td>\n      <td>2018723</td>\n      <td>1998257</td>\n    </tr>\n    <tr>\n      <th>New Hampshire</th>\n      <td>1259181</td>\n      <td>1239881</td>\n      <td>1235786</td>\n    </tr>\n    <tr>\n      <th>New Jersey</th>\n      <td>8484431</td>\n      <td>8429007</td>\n      <td>8414350</td>\n    </tr>\n    <tr>\n      <th>New Mexico</th>\n      <td>1829146</td>\n      <td>1821282</td>\n      <td>1819046</td>\n    </tr>\n    <tr>\n      <th>New York</th>\n      <td>19011378</td>\n      <td>18989332</td>\n      <td>18976457</td>\n    </tr>\n    <tr>\n      <th>North Carolina</th>\n      <td>8186268</td>\n      <td>8077367</td>\n      <td>8049313</td>\n    </tr>\n    <tr>\n      <th>North Dakota</th>\n      <td>634448</td>\n      <td>640919</td>\n      <td>642200</td>\n    </tr>\n    <tr>\n      <th>Ohio</th>\n      <td>11373541</td>\n      <td>11359955</td>\n      <td>11353140</td>\n    </tr>\n    <tr>\n      <th>Oklahoma</th>\n      <td>3460097</td>\n      <td>3453250</td>\n      <td>3450654</td>\n    </tr>\n    <tr>\n      <th>Oregon</th>\n      <td>3472867</td>\n      <td>3429293</td>\n      <td>3421399</td>\n    </tr>\n    <tr>\n      <th>Pennsylvania</th>\n      <td>12287150</td>\n      <td>12282591</td>\n      <td>12281054</td>\n    </tr>\n    <tr>\n      <th>Rhode Island</th>\n      <td>1058920</td>\n      <td>1050236</td>\n      <td>1048319</td>\n    </tr>\n    <tr>\n      <th>South Carolina</th>\n      <td>4063011</td>\n      <td>4023438</td>\n      <td>4012012</td>\n    </tr>\n    <tr>\n      <th>South Dakota</th>\n      <td>756600</td>\n      <td>755509</td>\n      <td>754844</td>\n    </tr>\n    <tr>\n      <th>Tennessee</th>\n      <td>5740021</td>\n      <td>5702027</td>\n      <td>5689283</td>\n    </tr>\n    <tr>\n      <th>Texas</th>\n      <td>21325018</td>\n      <td>20946503</td>\n      <td>20851820</td>\n    </tr>\n    <tr>\n      <th>United States</th>\n      <td>284796887</td>\n      <td>282124631</td>\n      <td>281421906</td>\n    </tr>\n    <tr>\n      <th>Utah</th>\n      <td>2269789</td>\n      <td>2241555</td>\n      <td>2233169</td>\n    </tr>\n    <tr>\n      <th>Vermont</th>\n      <td>613090</td>\n      <td>609709</td>\n      <td>608827</td>\n    </tr>\n    <tr>\n      <th>Virginia</th>\n      <td>7187734</td>\n      <td>7104016</td>\n      <td>7078515</td>\n    </tr>\n    <tr>\n      <th>Washington</th>\n      <td>5987973</td>\n      <td>5908372</td>\n      <td>5894121</td>\n    </tr>\n    <tr>\n      <th>West Virginia</th>\n      <td>1801916</td>\n      <td>1807099</td>\n      <td>1808344</td>\n    </tr>\n    <tr>\n      <th>Wisconsin</th>\n      <td>5401906</td>\n      <td>5372243</td>\n      <td>5363675</td>\n    </tr>\n    <tr>\n      <th>Wyoming</th>\n      <td>494423</td>\n      <td>494001</td>\n      <td>493782</td>\n    </tr>\n  </tbody>\n</table>\n</div>"
     },
     "execution_count": 34,
     "metadata": {},
     "output_type": "execute_result"
    }
   ],
   "source": [
    "data.sort_index()"
   ],
   "metadata": {
    "collapsed": false,
    "ExecuteTime": {
     "end_time": "2024-01-21T02:23:09.572473900Z",
     "start_time": "2024-01-21T02:23:09.528472200Z"
    }
   },
   "id": "2295ac79ed16c5a9",
   "execution_count": 34
  },
  {
   "cell_type": "code",
   "outputs": [
    {
     "data": {
      "text/plain": "                      July 1, 2001 Estimate  July 1, 2000 Estimate  \\\nGeographic Area                                                      \nAlabama                             4464356                4451493   \nAlaska                               634892                 627601   \nArizona                             5307331                5165274   \nArkansas                            2692090                2678030   \nCalifornia                         34501130               34000446   \nColorado                            4417714                4323410   \nConnecticut                         3425074                3410079   \nDelaware                             796165                 786234   \nDistrict of Columbia                 571822                 571066   \nFlorida                            16396515               16054328   \nGeorgia                             8383915                8229823   \nHawaii                              1224398                1212281   \nIdaho                               1321006                1299258   \nIllinois                           12482301               12435970   \nIndiana                             6114745                6089950   \nIowa                                2923179                2927509   \nKansas                              2694641                2691750   \nKentucky                            4065556                4047424   \nLouisiana                           4465430                4469970   \nMaine                               1286670                1276961   \nMaryland                            5375156                5310908   \nMassachusetts                       6379304                6357072   \nMichigan                            9990817                9952006   \nMinnesota                           4972294                4931093   \nMississippi                         2858029                2849100   \nMissouri                            5629707                5603553   \nMontana                              904433                 903157   \nNebraska                            1713235                1712577   \nNevada                              2106074                2018723   \nNew Hampshire                       1259181                1239881   \nNew Jersey                          8484431                8429007   \nNew Mexico                          1829146                1821282   \nNew York                           19011378               18989332   \nNorth Carolina                      8186268                8077367   \nNorth Dakota                         634448                 640919   \nOhio                               11373541               11359955   \nOklahoma                            3460097                3453250   \nOregon                              3472867                3429293   \nPennsylvania                       12287150               12282591   \nRhode Island                        1058920                1050236   \nSouth Carolina                      4063011                4023438   \nSouth Dakota                         756600                 755509   \nTennessee                           5740021                5702027   \nTexas                              21325018               20946503   \nUnited States                     284796887              282124631   \nUtah                                2269789                2241555   \nVermont                              613090                 609709   \nVirginia                            7187734                7104016   \nWashington                          5987973                5908372   \nWest Virginia                       1801916                1807099   \nWisconsin                           5401906                5372243   \nWyoming                              494423                 494001   \n\n                      April 1, 2000 Population Estimates Base  \nGeographic Area                                                \nAlabama                                               4447100  \nAlaska                                                 626932  \nArizona                                               5130632  \nArkansas                                              2673400  \nCalifornia                                           33871648  \nColorado                                              4301261  \nConnecticut                                           3405565  \nDelaware                                               783600  \nDistrict of Columbia                                   572059  \nFlorida                                              15982378  \nGeorgia                                               8186453  \nHawaii                                                1211537  \nIdaho                                                 1293953  \nIllinois                                             12419293  \nIndiana                                               6080485  \nIowa                                                  2926324  \nKansas                                                2688418  \nKentucky                                              4041769  \nLouisiana                                             4468976  \nMaine                                                 1274923  \nMaryland                                              5296486  \nMassachusetts                                         6349097  \nMichigan                                              9938444  \nMinnesota                                             4919479  \nMississippi                                           2844658  \nMissouri                                              5595211  \nMontana                                                902195  \nNebraska                                              1711263  \nNevada                                                1998257  \nNew Hampshire                                         1235786  \nNew Jersey                                            8414350  \nNew Mexico                                            1819046  \nNew York                                             18976457  \nNorth Carolina                                        8049313  \nNorth Dakota                                           642200  \nOhio                                                 11353140  \nOklahoma                                              3450654  \nOregon                                                3421399  \nPennsylvania                                         12281054  \nRhode Island                                          1048319  \nSouth Carolina                                        4012012  \nSouth Dakota                                           754844  \nTennessee                                             5689283  \nTexas                                                20851820  \nUnited States                                       281421906  \nUtah                                                  2233169  \nVermont                                                608827  \nVirginia                                              7078515  \nWashington                                            5894121  \nWest Virginia                                         1808344  \nWisconsin                                             5363675  \nWyoming                                                493782  ",
      "text/html": "<div>\n<style scoped>\n    .dataframe tbody tr th:only-of-type {\n        vertical-align: middle;\n    }\n\n    .dataframe tbody tr th {\n        vertical-align: top;\n    }\n\n    .dataframe thead th {\n        text-align: right;\n    }\n</style>\n<table border=\"1\" class=\"dataframe\">\n  <thead>\n    <tr style=\"text-align: right;\">\n      <th></th>\n      <th>July 1, 2001 Estimate</th>\n      <th>July 1, 2000 Estimate</th>\n      <th>April 1, 2000 Population Estimates Base</th>\n    </tr>\n    <tr>\n      <th>Geographic Area</th>\n      <th></th>\n      <th></th>\n      <th></th>\n    </tr>\n  </thead>\n  <tbody>\n    <tr>\n      <th>Alabama</th>\n      <td>4464356</td>\n      <td>4451493</td>\n      <td>4447100</td>\n    </tr>\n    <tr>\n      <th>Alaska</th>\n      <td>634892</td>\n      <td>627601</td>\n      <td>626932</td>\n    </tr>\n    <tr>\n      <th>Arizona</th>\n      <td>5307331</td>\n      <td>5165274</td>\n      <td>5130632</td>\n    </tr>\n    <tr>\n      <th>Arkansas</th>\n      <td>2692090</td>\n      <td>2678030</td>\n      <td>2673400</td>\n    </tr>\n    <tr>\n      <th>California</th>\n      <td>34501130</td>\n      <td>34000446</td>\n      <td>33871648</td>\n    </tr>\n    <tr>\n      <th>Colorado</th>\n      <td>4417714</td>\n      <td>4323410</td>\n      <td>4301261</td>\n    </tr>\n    <tr>\n      <th>Connecticut</th>\n      <td>3425074</td>\n      <td>3410079</td>\n      <td>3405565</td>\n    </tr>\n    <tr>\n      <th>Delaware</th>\n      <td>796165</td>\n      <td>786234</td>\n      <td>783600</td>\n    </tr>\n    <tr>\n      <th>District of Columbia</th>\n      <td>571822</td>\n      <td>571066</td>\n      <td>572059</td>\n    </tr>\n    <tr>\n      <th>Florida</th>\n      <td>16396515</td>\n      <td>16054328</td>\n      <td>15982378</td>\n    </tr>\n    <tr>\n      <th>Georgia</th>\n      <td>8383915</td>\n      <td>8229823</td>\n      <td>8186453</td>\n    </tr>\n    <tr>\n      <th>Hawaii</th>\n      <td>1224398</td>\n      <td>1212281</td>\n      <td>1211537</td>\n    </tr>\n    <tr>\n      <th>Idaho</th>\n      <td>1321006</td>\n      <td>1299258</td>\n      <td>1293953</td>\n    </tr>\n    <tr>\n      <th>Illinois</th>\n      <td>12482301</td>\n      <td>12435970</td>\n      <td>12419293</td>\n    </tr>\n    <tr>\n      <th>Indiana</th>\n      <td>6114745</td>\n      <td>6089950</td>\n      <td>6080485</td>\n    </tr>\n    <tr>\n      <th>Iowa</th>\n      <td>2923179</td>\n      <td>2927509</td>\n      <td>2926324</td>\n    </tr>\n    <tr>\n      <th>Kansas</th>\n      <td>2694641</td>\n      <td>2691750</td>\n      <td>2688418</td>\n    </tr>\n    <tr>\n      <th>Kentucky</th>\n      <td>4065556</td>\n      <td>4047424</td>\n      <td>4041769</td>\n    </tr>\n    <tr>\n      <th>Louisiana</th>\n      <td>4465430</td>\n      <td>4469970</td>\n      <td>4468976</td>\n    </tr>\n    <tr>\n      <th>Maine</th>\n      <td>1286670</td>\n      <td>1276961</td>\n      <td>1274923</td>\n    </tr>\n    <tr>\n      <th>Maryland</th>\n      <td>5375156</td>\n      <td>5310908</td>\n      <td>5296486</td>\n    </tr>\n    <tr>\n      <th>Massachusetts</th>\n      <td>6379304</td>\n      <td>6357072</td>\n      <td>6349097</td>\n    </tr>\n    <tr>\n      <th>Michigan</th>\n      <td>9990817</td>\n      <td>9952006</td>\n      <td>9938444</td>\n    </tr>\n    <tr>\n      <th>Minnesota</th>\n      <td>4972294</td>\n      <td>4931093</td>\n      <td>4919479</td>\n    </tr>\n    <tr>\n      <th>Mississippi</th>\n      <td>2858029</td>\n      <td>2849100</td>\n      <td>2844658</td>\n    </tr>\n    <tr>\n      <th>Missouri</th>\n      <td>5629707</td>\n      <td>5603553</td>\n      <td>5595211</td>\n    </tr>\n    <tr>\n      <th>Montana</th>\n      <td>904433</td>\n      <td>903157</td>\n      <td>902195</td>\n    </tr>\n    <tr>\n      <th>Nebraska</th>\n      <td>1713235</td>\n      <td>1712577</td>\n      <td>1711263</td>\n    </tr>\n    <tr>\n      <th>Nevada</th>\n      <td>2106074</td>\n      <td>2018723</td>\n      <td>1998257</td>\n    </tr>\n    <tr>\n      <th>New Hampshire</th>\n      <td>1259181</td>\n      <td>1239881</td>\n      <td>1235786</td>\n    </tr>\n    <tr>\n      <th>New Jersey</th>\n      <td>8484431</td>\n      <td>8429007</td>\n      <td>8414350</td>\n    </tr>\n    <tr>\n      <th>New Mexico</th>\n      <td>1829146</td>\n      <td>1821282</td>\n      <td>1819046</td>\n    </tr>\n    <tr>\n      <th>New York</th>\n      <td>19011378</td>\n      <td>18989332</td>\n      <td>18976457</td>\n    </tr>\n    <tr>\n      <th>North Carolina</th>\n      <td>8186268</td>\n      <td>8077367</td>\n      <td>8049313</td>\n    </tr>\n    <tr>\n      <th>North Dakota</th>\n      <td>634448</td>\n      <td>640919</td>\n      <td>642200</td>\n    </tr>\n    <tr>\n      <th>Ohio</th>\n      <td>11373541</td>\n      <td>11359955</td>\n      <td>11353140</td>\n    </tr>\n    <tr>\n      <th>Oklahoma</th>\n      <td>3460097</td>\n      <td>3453250</td>\n      <td>3450654</td>\n    </tr>\n    <tr>\n      <th>Oregon</th>\n      <td>3472867</td>\n      <td>3429293</td>\n      <td>3421399</td>\n    </tr>\n    <tr>\n      <th>Pennsylvania</th>\n      <td>12287150</td>\n      <td>12282591</td>\n      <td>12281054</td>\n    </tr>\n    <tr>\n      <th>Rhode Island</th>\n      <td>1058920</td>\n      <td>1050236</td>\n      <td>1048319</td>\n    </tr>\n    <tr>\n      <th>South Carolina</th>\n      <td>4063011</td>\n      <td>4023438</td>\n      <td>4012012</td>\n    </tr>\n    <tr>\n      <th>South Dakota</th>\n      <td>756600</td>\n      <td>755509</td>\n      <td>754844</td>\n    </tr>\n    <tr>\n      <th>Tennessee</th>\n      <td>5740021</td>\n      <td>5702027</td>\n      <td>5689283</td>\n    </tr>\n    <tr>\n      <th>Texas</th>\n      <td>21325018</td>\n      <td>20946503</td>\n      <td>20851820</td>\n    </tr>\n    <tr>\n      <th>United States</th>\n      <td>284796887</td>\n      <td>282124631</td>\n      <td>281421906</td>\n    </tr>\n    <tr>\n      <th>Utah</th>\n      <td>2269789</td>\n      <td>2241555</td>\n      <td>2233169</td>\n    </tr>\n    <tr>\n      <th>Vermont</th>\n      <td>613090</td>\n      <td>609709</td>\n      <td>608827</td>\n    </tr>\n    <tr>\n      <th>Virginia</th>\n      <td>7187734</td>\n      <td>7104016</td>\n      <td>7078515</td>\n    </tr>\n    <tr>\n      <th>Washington</th>\n      <td>5987973</td>\n      <td>5908372</td>\n      <td>5894121</td>\n    </tr>\n    <tr>\n      <th>West Virginia</th>\n      <td>1801916</td>\n      <td>1807099</td>\n      <td>1808344</td>\n    </tr>\n    <tr>\n      <th>Wisconsin</th>\n      <td>5401906</td>\n      <td>5372243</td>\n      <td>5363675</td>\n    </tr>\n    <tr>\n      <th>Wyoming</th>\n      <td>494423</td>\n      <td>494001</td>\n      <td>493782</td>\n    </tr>\n  </tbody>\n</table>\n</div>"
     },
     "execution_count": 35,
     "metadata": {},
     "output_type": "execute_result"
    }
   ],
   "source": [
    "data.sort_index(key=lambda idx: idx.str.casefold())"
   ],
   "metadata": {
    "collapsed": false,
    "ExecuteTime": {
     "end_time": "2024-01-21T03:01:12.685779700Z",
     "start_time": "2024-01-21T03:01:12.668764800Z"
    }
   },
   "id": "c3993c2c015ae917",
   "execution_count": 35
  },
  {
   "cell_type": "code",
   "outputs": [
    {
     "data": {
      "text/plain": "                      July 1, 2001 Estimate  July 1, 2000 Estimate  \\\nGeographic Area                                                      \nOhio                               11373541               11359955   \nUtah                                2269789                2241555   \nIowa                                2923179                2927509   \nTexas                              21325018               20946503   \nMaine                               1286670                1276961   \nIdaho                               1321006                1299258   \nOregon                              3472867                3429293   \nAlaska                               634892                 627601   \nNevada                              2106074                2018723   \nKansas                              2694641                2691750   \nHawaii                              1224398                1212281   \nMontana                              904433                 903157   \nVermont                              613090                 609709   \nIndiana                             6114745                6089950   \nWyoming                              494423                 494001   \nGeorgia                             8383915                8229823   \nFlorida                            16396515               16054328   \nAlabama                             4464356                4451493   \nArizona                             5307331                5165274   \nNew York                           19011378               18989332   \nArkansas                            2692090                2678030   \nNebraska                            1713235                1712577   \nColorado                            4417714                4323410   \nIllinois                           12482301               12435970   \nMissouri                            5629707                5603553   \nMichigan                            9990817                9952006   \nMaryland                            5375156                5310908   \nDelaware                             796165                 786234   \nOklahoma                            3460097                3453250   \nKentucky                            4065556                4047424   \nVirginia                            7187734                7104016   \nWisconsin                           5401906                5372243   \nTennessee                           5740021                5702027   \nMinnesota                           4972294                4931093   \nLouisiana                           4465430                4469970   \nWashington                          5987973                5908372   \nCalifornia                         34501130               34000446   \nNew Jersey                          8484431                8429007   \nNew Mexico                          1829146                1821282   \nMississippi                         2858029                2849100   \nConnecticut                         3425074                3410079   \nRhode Island                        1058920                1050236   \nSouth Dakota                         756600                 755509   \nNorth Dakota                         634448                 640919   \nPennsylvania                       12287150               12282591   \nNew Hampshire                       1259181                1239881   \nMassachusetts                       6379304                6357072   \nWest Virginia                       1801916                1807099   \nUnited States                     284796887              282124631   \nSouth Carolina                      4063011                4023438   \nNorth Carolina                      8186268                8077367   \nDistrict of Columbia                 571822                 571066   \n\n                      April 1, 2000 Population Estimates Base  \nGeographic Area                                                \nOhio                                                 11353140  \nUtah                                                  2233169  \nIowa                                                  2926324  \nTexas                                                20851820  \nMaine                                                 1274923  \nIdaho                                                 1293953  \nOregon                                                3421399  \nAlaska                                                 626932  \nNevada                                                1998257  \nKansas                                                2688418  \nHawaii                                                1211537  \nMontana                                                902195  \nVermont                                                608827  \nIndiana                                               6080485  \nWyoming                                                493782  \nGeorgia                                               8186453  \nFlorida                                              15982378  \nAlabama                                               4447100  \nArizona                                               5130632  \nNew York                                             18976457  \nArkansas                                              2673400  \nNebraska                                              1711263  \nColorado                                              4301261  \nIllinois                                             12419293  \nMissouri                                              5595211  \nMichigan                                              9938444  \nMaryland                                              5296486  \nDelaware                                               783600  \nOklahoma                                              3450654  \nKentucky                                              4041769  \nVirginia                                              7078515  \nWisconsin                                             5363675  \nTennessee                                             5689283  \nMinnesota                                             4919479  \nLouisiana                                             4468976  \nWashington                                            5894121  \nCalifornia                                           33871648  \nNew Jersey                                            8414350  \nNew Mexico                                            1819046  \nMississippi                                           2844658  \nConnecticut                                           3405565  \nRhode Island                                          1048319  \nSouth Dakota                                           754844  \nNorth Dakota                                           642200  \nPennsylvania                                         12281054  \nNew Hampshire                                         1235786  \nMassachusetts                                         6349097  \nWest Virginia                                         1808344  \nUnited States                                       281421906  \nSouth Carolina                                        4012012  \nNorth Carolina                                        8049313  \nDistrict of Columbia                                   572059  ",
      "text/html": "<div>\n<style scoped>\n    .dataframe tbody tr th:only-of-type {\n        vertical-align: middle;\n    }\n\n    .dataframe tbody tr th {\n        vertical-align: top;\n    }\n\n    .dataframe thead th {\n        text-align: right;\n    }\n</style>\n<table border=\"1\" class=\"dataframe\">\n  <thead>\n    <tr style=\"text-align: right;\">\n      <th></th>\n      <th>July 1, 2001 Estimate</th>\n      <th>July 1, 2000 Estimate</th>\n      <th>April 1, 2000 Population Estimates Base</th>\n    </tr>\n    <tr>\n      <th>Geographic Area</th>\n      <th></th>\n      <th></th>\n      <th></th>\n    </tr>\n  </thead>\n  <tbody>\n    <tr>\n      <th>Ohio</th>\n      <td>11373541</td>\n      <td>11359955</td>\n      <td>11353140</td>\n    </tr>\n    <tr>\n      <th>Utah</th>\n      <td>2269789</td>\n      <td>2241555</td>\n      <td>2233169</td>\n    </tr>\n    <tr>\n      <th>Iowa</th>\n      <td>2923179</td>\n      <td>2927509</td>\n      <td>2926324</td>\n    </tr>\n    <tr>\n      <th>Texas</th>\n      <td>21325018</td>\n      <td>20946503</td>\n      <td>20851820</td>\n    </tr>\n    <tr>\n      <th>Maine</th>\n      <td>1286670</td>\n      <td>1276961</td>\n      <td>1274923</td>\n    </tr>\n    <tr>\n      <th>Idaho</th>\n      <td>1321006</td>\n      <td>1299258</td>\n      <td>1293953</td>\n    </tr>\n    <tr>\n      <th>Oregon</th>\n      <td>3472867</td>\n      <td>3429293</td>\n      <td>3421399</td>\n    </tr>\n    <tr>\n      <th>Alaska</th>\n      <td>634892</td>\n      <td>627601</td>\n      <td>626932</td>\n    </tr>\n    <tr>\n      <th>Nevada</th>\n      <td>2106074</td>\n      <td>2018723</td>\n      <td>1998257</td>\n    </tr>\n    <tr>\n      <th>Kansas</th>\n      <td>2694641</td>\n      <td>2691750</td>\n      <td>2688418</td>\n    </tr>\n    <tr>\n      <th>Hawaii</th>\n      <td>1224398</td>\n      <td>1212281</td>\n      <td>1211537</td>\n    </tr>\n    <tr>\n      <th>Montana</th>\n      <td>904433</td>\n      <td>903157</td>\n      <td>902195</td>\n    </tr>\n    <tr>\n      <th>Vermont</th>\n      <td>613090</td>\n      <td>609709</td>\n      <td>608827</td>\n    </tr>\n    <tr>\n      <th>Indiana</th>\n      <td>6114745</td>\n      <td>6089950</td>\n      <td>6080485</td>\n    </tr>\n    <tr>\n      <th>Wyoming</th>\n      <td>494423</td>\n      <td>494001</td>\n      <td>493782</td>\n    </tr>\n    <tr>\n      <th>Georgia</th>\n      <td>8383915</td>\n      <td>8229823</td>\n      <td>8186453</td>\n    </tr>\n    <tr>\n      <th>Florida</th>\n      <td>16396515</td>\n      <td>16054328</td>\n      <td>15982378</td>\n    </tr>\n    <tr>\n      <th>Alabama</th>\n      <td>4464356</td>\n      <td>4451493</td>\n      <td>4447100</td>\n    </tr>\n    <tr>\n      <th>Arizona</th>\n      <td>5307331</td>\n      <td>5165274</td>\n      <td>5130632</td>\n    </tr>\n    <tr>\n      <th>New York</th>\n      <td>19011378</td>\n      <td>18989332</td>\n      <td>18976457</td>\n    </tr>\n    <tr>\n      <th>Arkansas</th>\n      <td>2692090</td>\n      <td>2678030</td>\n      <td>2673400</td>\n    </tr>\n    <tr>\n      <th>Nebraska</th>\n      <td>1713235</td>\n      <td>1712577</td>\n      <td>1711263</td>\n    </tr>\n    <tr>\n      <th>Colorado</th>\n      <td>4417714</td>\n      <td>4323410</td>\n      <td>4301261</td>\n    </tr>\n    <tr>\n      <th>Illinois</th>\n      <td>12482301</td>\n      <td>12435970</td>\n      <td>12419293</td>\n    </tr>\n    <tr>\n      <th>Missouri</th>\n      <td>5629707</td>\n      <td>5603553</td>\n      <td>5595211</td>\n    </tr>\n    <tr>\n      <th>Michigan</th>\n      <td>9990817</td>\n      <td>9952006</td>\n      <td>9938444</td>\n    </tr>\n    <tr>\n      <th>Maryland</th>\n      <td>5375156</td>\n      <td>5310908</td>\n      <td>5296486</td>\n    </tr>\n    <tr>\n      <th>Delaware</th>\n      <td>796165</td>\n      <td>786234</td>\n      <td>783600</td>\n    </tr>\n    <tr>\n      <th>Oklahoma</th>\n      <td>3460097</td>\n      <td>3453250</td>\n      <td>3450654</td>\n    </tr>\n    <tr>\n      <th>Kentucky</th>\n      <td>4065556</td>\n      <td>4047424</td>\n      <td>4041769</td>\n    </tr>\n    <tr>\n      <th>Virginia</th>\n      <td>7187734</td>\n      <td>7104016</td>\n      <td>7078515</td>\n    </tr>\n    <tr>\n      <th>Wisconsin</th>\n      <td>5401906</td>\n      <td>5372243</td>\n      <td>5363675</td>\n    </tr>\n    <tr>\n      <th>Tennessee</th>\n      <td>5740021</td>\n      <td>5702027</td>\n      <td>5689283</td>\n    </tr>\n    <tr>\n      <th>Minnesota</th>\n      <td>4972294</td>\n      <td>4931093</td>\n      <td>4919479</td>\n    </tr>\n    <tr>\n      <th>Louisiana</th>\n      <td>4465430</td>\n      <td>4469970</td>\n      <td>4468976</td>\n    </tr>\n    <tr>\n      <th>Washington</th>\n      <td>5987973</td>\n      <td>5908372</td>\n      <td>5894121</td>\n    </tr>\n    <tr>\n      <th>California</th>\n      <td>34501130</td>\n      <td>34000446</td>\n      <td>33871648</td>\n    </tr>\n    <tr>\n      <th>New Jersey</th>\n      <td>8484431</td>\n      <td>8429007</td>\n      <td>8414350</td>\n    </tr>\n    <tr>\n      <th>New Mexico</th>\n      <td>1829146</td>\n      <td>1821282</td>\n      <td>1819046</td>\n    </tr>\n    <tr>\n      <th>Mississippi</th>\n      <td>2858029</td>\n      <td>2849100</td>\n      <td>2844658</td>\n    </tr>\n    <tr>\n      <th>Connecticut</th>\n      <td>3425074</td>\n      <td>3410079</td>\n      <td>3405565</td>\n    </tr>\n    <tr>\n      <th>Rhode Island</th>\n      <td>1058920</td>\n      <td>1050236</td>\n      <td>1048319</td>\n    </tr>\n    <tr>\n      <th>South Dakota</th>\n      <td>756600</td>\n      <td>755509</td>\n      <td>754844</td>\n    </tr>\n    <tr>\n      <th>North Dakota</th>\n      <td>634448</td>\n      <td>640919</td>\n      <td>642200</td>\n    </tr>\n    <tr>\n      <th>Pennsylvania</th>\n      <td>12287150</td>\n      <td>12282591</td>\n      <td>12281054</td>\n    </tr>\n    <tr>\n      <th>New Hampshire</th>\n      <td>1259181</td>\n      <td>1239881</td>\n      <td>1235786</td>\n    </tr>\n    <tr>\n      <th>Massachusetts</th>\n      <td>6379304</td>\n      <td>6357072</td>\n      <td>6349097</td>\n    </tr>\n    <tr>\n      <th>West Virginia</th>\n      <td>1801916</td>\n      <td>1807099</td>\n      <td>1808344</td>\n    </tr>\n    <tr>\n      <th>United States</th>\n      <td>284796887</td>\n      <td>282124631</td>\n      <td>281421906</td>\n    </tr>\n    <tr>\n      <th>South Carolina</th>\n      <td>4063011</td>\n      <td>4023438</td>\n      <td>4012012</td>\n    </tr>\n    <tr>\n      <th>North Carolina</th>\n      <td>8186268</td>\n      <td>8077367</td>\n      <td>8049313</td>\n    </tr>\n    <tr>\n      <th>District of Columbia</th>\n      <td>571822</td>\n      <td>571066</td>\n      <td>572059</td>\n    </tr>\n  </tbody>\n</table>\n</div>"
     },
     "execution_count": 36,
     "metadata": {},
     "output_type": "execute_result"
    }
   ],
   "source": [
    "data.sort_index(key=lambda idx: idx.str.len())"
   ],
   "metadata": {
    "collapsed": false,
    "ExecuteTime": {
     "end_time": "2024-01-21T03:01:44.206150800Z",
     "start_time": "2024-01-21T03:01:44.172153400Z"
    }
   },
   "id": "844fe289d4b6323a",
   "execution_count": 36
  },
  {
   "cell_type": "code",
   "outputs": [
    {
     "data": {
      "text/plain": "                      July 1, 2001 Estimate  July 1, 2000 Estimate  \\\nGeographic Area                                                      \nDistrict of Columbia                 571822                 571066   \nNorth Carolina                      8186268                8077367   \nSouth Carolina                      4063011                4023438   \nUnited States                     284796887              282124631   \nMassachusetts                       6379304                6357072   \nWest Virginia                       1801916                1807099   \nNew Hampshire                       1259181                1239881   \nSouth Dakota                         756600                 755509   \nNorth Dakota                         634448                 640919   \nPennsylvania                       12287150               12282591   \nRhode Island                        1058920                1050236   \nMississippi                         2858029                2849100   \nConnecticut                         3425074                3410079   \nCalifornia                         34501130               34000446   \nNew Mexico                          1829146                1821282   \nNew Jersey                          8484431                8429007   \nWashington                          5987973                5908372   \nTennessee                           5740021                5702027   \nLouisiana                           4465430                4469970   \nWisconsin                           5401906                5372243   \nMinnesota                           4972294                4931093   \nOklahoma                            3460097                3453250   \nVirginia                            7187734                7104016   \nNew York                           19011378               18989332   \nNebraska                            1713235                1712577   \nMissouri                            5629707                5603553   \nMichigan                            9990817                9952006   \nMaryland                            5375156                5310908   \nArkansas                            2692090                2678030   \nKentucky                            4065556                4047424   \nColorado                            4417714                4323410   \nDelaware                             796165                 786234   \nIllinois                           12482301               12435970   \nAlabama                             4464356                4451493   \nMontana                              904433                 903157   \nArizona                             5307331                5165274   \nVermont                              613090                 609709   \nFlorida                            16396515               16054328   \nGeorgia                             8383915                8229823   \nWyoming                              494423                 494001   \nIndiana                             6114745                6089950   \nHawaii                              1224398                1212281   \nOregon                              3472867                3429293   \nKansas                              2694641                2691750   \nNevada                              2106074                2018723   \nAlaska                               634892                 627601   \nTexas                              21325018               20946503   \nMaine                               1286670                1276961   \nIdaho                               1321006                1299258   \nOhio                               11373541               11359955   \nUtah                                2269789                2241555   \nIowa                                2923179                2927509   \n\n                      April 1, 2000 Population Estimates Base  \nGeographic Area                                                \nDistrict of Columbia                                   572059  \nNorth Carolina                                        8049313  \nSouth Carolina                                        4012012  \nUnited States                                       281421906  \nMassachusetts                                         6349097  \nWest Virginia                                         1808344  \nNew Hampshire                                         1235786  \nSouth Dakota                                           754844  \nNorth Dakota                                           642200  \nPennsylvania                                         12281054  \nRhode Island                                          1048319  \nMississippi                                           2844658  \nConnecticut                                           3405565  \nCalifornia                                           33871648  \nNew Mexico                                            1819046  \nNew Jersey                                            8414350  \nWashington                                            5894121  \nTennessee                                             5689283  \nLouisiana                                             4468976  \nWisconsin                                             5363675  \nMinnesota                                             4919479  \nOklahoma                                              3450654  \nVirginia                                              7078515  \nNew York                                             18976457  \nNebraska                                              1711263  \nMissouri                                              5595211  \nMichigan                                              9938444  \nMaryland                                              5296486  \nArkansas                                              2673400  \nKentucky                                              4041769  \nColorado                                              4301261  \nDelaware                                               783600  \nIllinois                                             12419293  \nAlabama                                               4447100  \nMontana                                                902195  \nArizona                                               5130632  \nVermont                                                608827  \nFlorida                                              15982378  \nGeorgia                                               8186453  \nWyoming                                                493782  \nIndiana                                               6080485  \nHawaii                                                1211537  \nOregon                                                3421399  \nKansas                                                2688418  \nNevada                                                1998257  \nAlaska                                                 626932  \nTexas                                                20851820  \nMaine                                                 1274923  \nIdaho                                                 1293953  \nOhio                                                 11353140  \nUtah                                                  2233169  \nIowa                                                  2926324  ",
      "text/html": "<div>\n<style scoped>\n    .dataframe tbody tr th:only-of-type {\n        vertical-align: middle;\n    }\n\n    .dataframe tbody tr th {\n        vertical-align: top;\n    }\n\n    .dataframe thead th {\n        text-align: right;\n    }\n</style>\n<table border=\"1\" class=\"dataframe\">\n  <thead>\n    <tr style=\"text-align: right;\">\n      <th></th>\n      <th>July 1, 2001 Estimate</th>\n      <th>July 1, 2000 Estimate</th>\n      <th>April 1, 2000 Population Estimates Base</th>\n    </tr>\n    <tr>\n      <th>Geographic Area</th>\n      <th></th>\n      <th></th>\n      <th></th>\n    </tr>\n  </thead>\n  <tbody>\n    <tr>\n      <th>District of Columbia</th>\n      <td>571822</td>\n      <td>571066</td>\n      <td>572059</td>\n    </tr>\n    <tr>\n      <th>North Carolina</th>\n      <td>8186268</td>\n      <td>8077367</td>\n      <td>8049313</td>\n    </tr>\n    <tr>\n      <th>South Carolina</th>\n      <td>4063011</td>\n      <td>4023438</td>\n      <td>4012012</td>\n    </tr>\n    <tr>\n      <th>United States</th>\n      <td>284796887</td>\n      <td>282124631</td>\n      <td>281421906</td>\n    </tr>\n    <tr>\n      <th>Massachusetts</th>\n      <td>6379304</td>\n      <td>6357072</td>\n      <td>6349097</td>\n    </tr>\n    <tr>\n      <th>West Virginia</th>\n      <td>1801916</td>\n      <td>1807099</td>\n      <td>1808344</td>\n    </tr>\n    <tr>\n      <th>New Hampshire</th>\n      <td>1259181</td>\n      <td>1239881</td>\n      <td>1235786</td>\n    </tr>\n    <tr>\n      <th>South Dakota</th>\n      <td>756600</td>\n      <td>755509</td>\n      <td>754844</td>\n    </tr>\n    <tr>\n      <th>North Dakota</th>\n      <td>634448</td>\n      <td>640919</td>\n      <td>642200</td>\n    </tr>\n    <tr>\n      <th>Pennsylvania</th>\n      <td>12287150</td>\n      <td>12282591</td>\n      <td>12281054</td>\n    </tr>\n    <tr>\n      <th>Rhode Island</th>\n      <td>1058920</td>\n      <td>1050236</td>\n      <td>1048319</td>\n    </tr>\n    <tr>\n      <th>Mississippi</th>\n      <td>2858029</td>\n      <td>2849100</td>\n      <td>2844658</td>\n    </tr>\n    <tr>\n      <th>Connecticut</th>\n      <td>3425074</td>\n      <td>3410079</td>\n      <td>3405565</td>\n    </tr>\n    <tr>\n      <th>California</th>\n      <td>34501130</td>\n      <td>34000446</td>\n      <td>33871648</td>\n    </tr>\n    <tr>\n      <th>New Mexico</th>\n      <td>1829146</td>\n      <td>1821282</td>\n      <td>1819046</td>\n    </tr>\n    <tr>\n      <th>New Jersey</th>\n      <td>8484431</td>\n      <td>8429007</td>\n      <td>8414350</td>\n    </tr>\n    <tr>\n      <th>Washington</th>\n      <td>5987973</td>\n      <td>5908372</td>\n      <td>5894121</td>\n    </tr>\n    <tr>\n      <th>Tennessee</th>\n      <td>5740021</td>\n      <td>5702027</td>\n      <td>5689283</td>\n    </tr>\n    <tr>\n      <th>Louisiana</th>\n      <td>4465430</td>\n      <td>4469970</td>\n      <td>4468976</td>\n    </tr>\n    <tr>\n      <th>Wisconsin</th>\n      <td>5401906</td>\n      <td>5372243</td>\n      <td>5363675</td>\n    </tr>\n    <tr>\n      <th>Minnesota</th>\n      <td>4972294</td>\n      <td>4931093</td>\n      <td>4919479</td>\n    </tr>\n    <tr>\n      <th>Oklahoma</th>\n      <td>3460097</td>\n      <td>3453250</td>\n      <td>3450654</td>\n    </tr>\n    <tr>\n      <th>Virginia</th>\n      <td>7187734</td>\n      <td>7104016</td>\n      <td>7078515</td>\n    </tr>\n    <tr>\n      <th>New York</th>\n      <td>19011378</td>\n      <td>18989332</td>\n      <td>18976457</td>\n    </tr>\n    <tr>\n      <th>Nebraska</th>\n      <td>1713235</td>\n      <td>1712577</td>\n      <td>1711263</td>\n    </tr>\n    <tr>\n      <th>Missouri</th>\n      <td>5629707</td>\n      <td>5603553</td>\n      <td>5595211</td>\n    </tr>\n    <tr>\n      <th>Michigan</th>\n      <td>9990817</td>\n      <td>9952006</td>\n      <td>9938444</td>\n    </tr>\n    <tr>\n      <th>Maryland</th>\n      <td>5375156</td>\n      <td>5310908</td>\n      <td>5296486</td>\n    </tr>\n    <tr>\n      <th>Arkansas</th>\n      <td>2692090</td>\n      <td>2678030</td>\n      <td>2673400</td>\n    </tr>\n    <tr>\n      <th>Kentucky</th>\n      <td>4065556</td>\n      <td>4047424</td>\n      <td>4041769</td>\n    </tr>\n    <tr>\n      <th>Colorado</th>\n      <td>4417714</td>\n      <td>4323410</td>\n      <td>4301261</td>\n    </tr>\n    <tr>\n      <th>Delaware</th>\n      <td>796165</td>\n      <td>786234</td>\n      <td>783600</td>\n    </tr>\n    <tr>\n      <th>Illinois</th>\n      <td>12482301</td>\n      <td>12435970</td>\n      <td>12419293</td>\n    </tr>\n    <tr>\n      <th>Alabama</th>\n      <td>4464356</td>\n      <td>4451493</td>\n      <td>4447100</td>\n    </tr>\n    <tr>\n      <th>Montana</th>\n      <td>904433</td>\n      <td>903157</td>\n      <td>902195</td>\n    </tr>\n    <tr>\n      <th>Arizona</th>\n      <td>5307331</td>\n      <td>5165274</td>\n      <td>5130632</td>\n    </tr>\n    <tr>\n      <th>Vermont</th>\n      <td>613090</td>\n      <td>609709</td>\n      <td>608827</td>\n    </tr>\n    <tr>\n      <th>Florida</th>\n      <td>16396515</td>\n      <td>16054328</td>\n      <td>15982378</td>\n    </tr>\n    <tr>\n      <th>Georgia</th>\n      <td>8383915</td>\n      <td>8229823</td>\n      <td>8186453</td>\n    </tr>\n    <tr>\n      <th>Wyoming</th>\n      <td>494423</td>\n      <td>494001</td>\n      <td>493782</td>\n    </tr>\n    <tr>\n      <th>Indiana</th>\n      <td>6114745</td>\n      <td>6089950</td>\n      <td>6080485</td>\n    </tr>\n    <tr>\n      <th>Hawaii</th>\n      <td>1224398</td>\n      <td>1212281</td>\n      <td>1211537</td>\n    </tr>\n    <tr>\n      <th>Oregon</th>\n      <td>3472867</td>\n      <td>3429293</td>\n      <td>3421399</td>\n    </tr>\n    <tr>\n      <th>Kansas</th>\n      <td>2694641</td>\n      <td>2691750</td>\n      <td>2688418</td>\n    </tr>\n    <tr>\n      <th>Nevada</th>\n      <td>2106074</td>\n      <td>2018723</td>\n      <td>1998257</td>\n    </tr>\n    <tr>\n      <th>Alaska</th>\n      <td>634892</td>\n      <td>627601</td>\n      <td>626932</td>\n    </tr>\n    <tr>\n      <th>Texas</th>\n      <td>21325018</td>\n      <td>20946503</td>\n      <td>20851820</td>\n    </tr>\n    <tr>\n      <th>Maine</th>\n      <td>1286670</td>\n      <td>1276961</td>\n      <td>1274923</td>\n    </tr>\n    <tr>\n      <th>Idaho</th>\n      <td>1321006</td>\n      <td>1299258</td>\n      <td>1293953</td>\n    </tr>\n    <tr>\n      <th>Ohio</th>\n      <td>11373541</td>\n      <td>11359955</td>\n      <td>11353140</td>\n    </tr>\n    <tr>\n      <th>Utah</th>\n      <td>2269789</td>\n      <td>2241555</td>\n      <td>2233169</td>\n    </tr>\n    <tr>\n      <th>Iowa</th>\n      <td>2923179</td>\n      <td>2927509</td>\n      <td>2926324</td>\n    </tr>\n  </tbody>\n</table>\n</div>"
     },
     "execution_count": 37,
     "metadata": {},
     "output_type": "execute_result"
    }
   ],
   "source": [
    "data.sort_index(key=lambda idx: idx.str.len(), ascending=False)"
   ],
   "metadata": {
    "collapsed": false,
    "ExecuteTime": {
     "end_time": "2024-01-21T03:05:57.609993600Z",
     "start_time": "2024-01-21T03:05:57.544993800Z"
    }
   },
   "id": "38632bf3bc31eaf3",
   "execution_count": 37
  },
  {
   "cell_type": "code",
   "outputs": [
    {
     "data": {
      "text/plain": "                      July 1, 2001 Estimate  July 1, 2000 Estimate  \\\nGeographic Area                                                      \nUnited States                     284796887              282124631   \nCalifornia                         34501130               34000446   \nTexas                              21325018               20946503   \nNew York                           19011378               18989332   \nFlorida                            16396515               16054328   \nIllinois                           12482301               12435970   \nPennsylvania                       12287150               12282591   \nOhio                               11373541               11359955   \nMichigan                            9990817                9952006   \nNew Jersey                          8484431                8429007   \nGeorgia                             8383915                8229823   \nNorth Carolina                      8186268                8077367   \nVirginia                            7187734                7104016   \nMassachusetts                       6379304                6357072   \nIndiana                             6114745                6089950   \nWashington                          5987973                5908372   \nTennessee                           5740021                5702027   \nMissouri                            5629707                5603553   \nWisconsin                           5401906                5372243   \nMaryland                            5375156                5310908   \nArizona                             5307331                5165274   \nMinnesota                           4972294                4931093   \nLouisiana                           4465430                4469970   \nAlabama                             4464356                4451493   \nColorado                            4417714                4323410   \nKentucky                            4065556                4047424   \nSouth Carolina                      4063011                4023438   \nOregon                              3472867                3429293   \nOklahoma                            3460097                3453250   \nConnecticut                         3425074                3410079   \nIowa                                2923179                2927509   \nMississippi                         2858029                2849100   \nKansas                              2694641                2691750   \nArkansas                            2692090                2678030   \nUtah                                2269789                2241555   \nNevada                              2106074                2018723   \nNew Mexico                          1829146                1821282   \nWest Virginia                       1801916                1807099   \nNebraska                            1713235                1712577   \nIdaho                               1321006                1299258   \nMaine                               1286670                1276961   \nNew Hampshire                       1259181                1239881   \nHawaii                              1224398                1212281   \nRhode Island                        1058920                1050236   \nMontana                              904433                 903157   \nDelaware                             796165                 786234   \nSouth Dakota                         756600                 755509   \nAlaska                               634892                 627601   \nNorth Dakota                         634448                 640919   \nVermont                              613090                 609709   \nDistrict of Columbia                 571822                 571066   \nWyoming                              494423                 494001   \n\n                      April 1, 2000 Population Estimates Base  \nGeographic Area                                                \nUnited States                                       281421906  \nCalifornia                                           33871648  \nTexas                                                20851820  \nNew York                                             18976457  \nFlorida                                              15982378  \nIllinois                                             12419293  \nPennsylvania                                         12281054  \nOhio                                                 11353140  \nMichigan                                              9938444  \nNew Jersey                                            8414350  \nGeorgia                                               8186453  \nNorth Carolina                                        8049313  \nVirginia                                              7078515  \nMassachusetts                                         6349097  \nIndiana                                               6080485  \nWashington                                            5894121  \nTennessee                                             5689283  \nMissouri                                              5595211  \nWisconsin                                             5363675  \nMaryland                                              5296486  \nArizona                                               5130632  \nMinnesota                                             4919479  \nLouisiana                                             4468976  \nAlabama                                               4447100  \nColorado                                              4301261  \nKentucky                                              4041769  \nSouth Carolina                                        4012012  \nOregon                                                3421399  \nOklahoma                                              3450654  \nConnecticut                                           3405565  \nIowa                                                  2926324  \nMississippi                                           2844658  \nKansas                                                2688418  \nArkansas                                              2673400  \nUtah                                                  2233169  \nNevada                                                1998257  \nNew Mexico                                            1819046  \nWest Virginia                                         1808344  \nNebraska                                              1711263  \nIdaho                                                 1293953  \nMaine                                                 1274923  \nNew Hampshire                                         1235786  \nHawaii                                                1211537  \nRhode Island                                          1048319  \nMontana                                                902195  \nDelaware                                               783600  \nSouth Dakota                                           754844  \nAlaska                                                 626932  \nNorth Dakota                                           642200  \nVermont                                                608827  \nDistrict of Columbia                                   572059  \nWyoming                                                493782  ",
      "text/html": "<div>\n<style scoped>\n    .dataframe tbody tr th:only-of-type {\n        vertical-align: middle;\n    }\n\n    .dataframe tbody tr th {\n        vertical-align: top;\n    }\n\n    .dataframe thead th {\n        text-align: right;\n    }\n</style>\n<table border=\"1\" class=\"dataframe\">\n  <thead>\n    <tr style=\"text-align: right;\">\n      <th></th>\n      <th>July 1, 2001 Estimate</th>\n      <th>July 1, 2000 Estimate</th>\n      <th>April 1, 2000 Population Estimates Base</th>\n    </tr>\n    <tr>\n      <th>Geographic Area</th>\n      <th></th>\n      <th></th>\n      <th></th>\n    </tr>\n  </thead>\n  <tbody>\n    <tr>\n      <th>United States</th>\n      <td>284796887</td>\n      <td>282124631</td>\n      <td>281421906</td>\n    </tr>\n    <tr>\n      <th>California</th>\n      <td>34501130</td>\n      <td>34000446</td>\n      <td>33871648</td>\n    </tr>\n    <tr>\n      <th>Texas</th>\n      <td>21325018</td>\n      <td>20946503</td>\n      <td>20851820</td>\n    </tr>\n    <tr>\n      <th>New York</th>\n      <td>19011378</td>\n      <td>18989332</td>\n      <td>18976457</td>\n    </tr>\n    <tr>\n      <th>Florida</th>\n      <td>16396515</td>\n      <td>16054328</td>\n      <td>15982378</td>\n    </tr>\n    <tr>\n      <th>Illinois</th>\n      <td>12482301</td>\n      <td>12435970</td>\n      <td>12419293</td>\n    </tr>\n    <tr>\n      <th>Pennsylvania</th>\n      <td>12287150</td>\n      <td>12282591</td>\n      <td>12281054</td>\n    </tr>\n    <tr>\n      <th>Ohio</th>\n      <td>11373541</td>\n      <td>11359955</td>\n      <td>11353140</td>\n    </tr>\n    <tr>\n      <th>Michigan</th>\n      <td>9990817</td>\n      <td>9952006</td>\n      <td>9938444</td>\n    </tr>\n    <tr>\n      <th>New Jersey</th>\n      <td>8484431</td>\n      <td>8429007</td>\n      <td>8414350</td>\n    </tr>\n    <tr>\n      <th>Georgia</th>\n      <td>8383915</td>\n      <td>8229823</td>\n      <td>8186453</td>\n    </tr>\n    <tr>\n      <th>North Carolina</th>\n      <td>8186268</td>\n      <td>8077367</td>\n      <td>8049313</td>\n    </tr>\n    <tr>\n      <th>Virginia</th>\n      <td>7187734</td>\n      <td>7104016</td>\n      <td>7078515</td>\n    </tr>\n    <tr>\n      <th>Massachusetts</th>\n      <td>6379304</td>\n      <td>6357072</td>\n      <td>6349097</td>\n    </tr>\n    <tr>\n      <th>Indiana</th>\n      <td>6114745</td>\n      <td>6089950</td>\n      <td>6080485</td>\n    </tr>\n    <tr>\n      <th>Washington</th>\n      <td>5987973</td>\n      <td>5908372</td>\n      <td>5894121</td>\n    </tr>\n    <tr>\n      <th>Tennessee</th>\n      <td>5740021</td>\n      <td>5702027</td>\n      <td>5689283</td>\n    </tr>\n    <tr>\n      <th>Missouri</th>\n      <td>5629707</td>\n      <td>5603553</td>\n      <td>5595211</td>\n    </tr>\n    <tr>\n      <th>Wisconsin</th>\n      <td>5401906</td>\n      <td>5372243</td>\n      <td>5363675</td>\n    </tr>\n    <tr>\n      <th>Maryland</th>\n      <td>5375156</td>\n      <td>5310908</td>\n      <td>5296486</td>\n    </tr>\n    <tr>\n      <th>Arizona</th>\n      <td>5307331</td>\n      <td>5165274</td>\n      <td>5130632</td>\n    </tr>\n    <tr>\n      <th>Minnesota</th>\n      <td>4972294</td>\n      <td>4931093</td>\n      <td>4919479</td>\n    </tr>\n    <tr>\n      <th>Louisiana</th>\n      <td>4465430</td>\n      <td>4469970</td>\n      <td>4468976</td>\n    </tr>\n    <tr>\n      <th>Alabama</th>\n      <td>4464356</td>\n      <td>4451493</td>\n      <td>4447100</td>\n    </tr>\n    <tr>\n      <th>Colorado</th>\n      <td>4417714</td>\n      <td>4323410</td>\n      <td>4301261</td>\n    </tr>\n    <tr>\n      <th>Kentucky</th>\n      <td>4065556</td>\n      <td>4047424</td>\n      <td>4041769</td>\n    </tr>\n    <tr>\n      <th>South Carolina</th>\n      <td>4063011</td>\n      <td>4023438</td>\n      <td>4012012</td>\n    </tr>\n    <tr>\n      <th>Oregon</th>\n      <td>3472867</td>\n      <td>3429293</td>\n      <td>3421399</td>\n    </tr>\n    <tr>\n      <th>Oklahoma</th>\n      <td>3460097</td>\n      <td>3453250</td>\n      <td>3450654</td>\n    </tr>\n    <tr>\n      <th>Connecticut</th>\n      <td>3425074</td>\n      <td>3410079</td>\n      <td>3405565</td>\n    </tr>\n    <tr>\n      <th>Iowa</th>\n      <td>2923179</td>\n      <td>2927509</td>\n      <td>2926324</td>\n    </tr>\n    <tr>\n      <th>Mississippi</th>\n      <td>2858029</td>\n      <td>2849100</td>\n      <td>2844658</td>\n    </tr>\n    <tr>\n      <th>Kansas</th>\n      <td>2694641</td>\n      <td>2691750</td>\n      <td>2688418</td>\n    </tr>\n    <tr>\n      <th>Arkansas</th>\n      <td>2692090</td>\n      <td>2678030</td>\n      <td>2673400</td>\n    </tr>\n    <tr>\n      <th>Utah</th>\n      <td>2269789</td>\n      <td>2241555</td>\n      <td>2233169</td>\n    </tr>\n    <tr>\n      <th>Nevada</th>\n      <td>2106074</td>\n      <td>2018723</td>\n      <td>1998257</td>\n    </tr>\n    <tr>\n      <th>New Mexico</th>\n      <td>1829146</td>\n      <td>1821282</td>\n      <td>1819046</td>\n    </tr>\n    <tr>\n      <th>West Virginia</th>\n      <td>1801916</td>\n      <td>1807099</td>\n      <td>1808344</td>\n    </tr>\n    <tr>\n      <th>Nebraska</th>\n      <td>1713235</td>\n      <td>1712577</td>\n      <td>1711263</td>\n    </tr>\n    <tr>\n      <th>Idaho</th>\n      <td>1321006</td>\n      <td>1299258</td>\n      <td>1293953</td>\n    </tr>\n    <tr>\n      <th>Maine</th>\n      <td>1286670</td>\n      <td>1276961</td>\n      <td>1274923</td>\n    </tr>\n    <tr>\n      <th>New Hampshire</th>\n      <td>1259181</td>\n      <td>1239881</td>\n      <td>1235786</td>\n    </tr>\n    <tr>\n      <th>Hawaii</th>\n      <td>1224398</td>\n      <td>1212281</td>\n      <td>1211537</td>\n    </tr>\n    <tr>\n      <th>Rhode Island</th>\n      <td>1058920</td>\n      <td>1050236</td>\n      <td>1048319</td>\n    </tr>\n    <tr>\n      <th>Montana</th>\n      <td>904433</td>\n      <td>903157</td>\n      <td>902195</td>\n    </tr>\n    <tr>\n      <th>Delaware</th>\n      <td>796165</td>\n      <td>786234</td>\n      <td>783600</td>\n    </tr>\n    <tr>\n      <th>South Dakota</th>\n      <td>756600</td>\n      <td>755509</td>\n      <td>754844</td>\n    </tr>\n    <tr>\n      <th>Alaska</th>\n      <td>634892</td>\n      <td>627601</td>\n      <td>626932</td>\n    </tr>\n    <tr>\n      <th>North Dakota</th>\n      <td>634448</td>\n      <td>640919</td>\n      <td>642200</td>\n    </tr>\n    <tr>\n      <th>Vermont</th>\n      <td>613090</td>\n      <td>609709</td>\n      <td>608827</td>\n    </tr>\n    <tr>\n      <th>District of Columbia</th>\n      <td>571822</td>\n      <td>571066</td>\n      <td>572059</td>\n    </tr>\n    <tr>\n      <th>Wyoming</th>\n      <td>494423</td>\n      <td>494001</td>\n      <td>493782</td>\n    </tr>\n  </tbody>\n</table>\n</div>"
     },
     "execution_count": 39,
     "metadata": {},
     "output_type": "execute_result"
    }
   ],
   "source": [
    "data.sort_values(by=['July 1, 2001 Estimate'], ascending=False)"
   ],
   "metadata": {
    "collapsed": false,
    "ExecuteTime": {
     "end_time": "2024-01-21T03:07:19.150689200Z",
     "start_time": "2024-01-21T03:07:19.137691Z"
    }
   },
   "id": "cd627e34c2c11576",
   "execution_count": 39
  },
  {
   "cell_type": "code",
   "outputs": [
    {
     "data": {
      "text/plain": "  CountryCode       ShortName       TableName  \\\n0         AFG     Afghanistan     Afghanistan   \n1         ALB         Albania         Albania   \n2         DZA         Algeria         Algeria   \n3         ASM  American Samoa  American Samoa   \n4         ADO         Andorra         Andorra   \n\n                                  LongName Alpha2Code    CurrencyUnit  \\\n0             Islamic State of Afghanistan         AF  Afghan afghani   \n1                      Republic of Albania         AL    Albanian lek   \n2  People's Democratic Republic of Algeria         DZ  Algerian dinar   \n3                           American Samoa         AS     U.S. dollar   \n4                  Principality of Andorra         AD            Euro   \n\n                                        SpecialNotes  \\\n0  Fiscal year end: March 20; reporting period fo...   \n1                                                NaN   \n2                                                NaN   \n3                                                NaN   \n4                                                NaN   \n\n                       Region           IncomeGroup Wb2Code  ...  \\\n0                  South Asia            Low income      AF  ...   \n1       Europe & Central Asia   Upper middle income      AL  ...   \n2  Middle East & North Africa   Upper middle income      DZ  ...   \n3         East Asia & Pacific   Upper middle income      AS  ...   \n4       Europe & Central Asia  High income: nonOECD      AD  ...   \n\n       GovernmentAccountingConcept              ImfDataDisseminationStandard  \\\n0  Consolidated central government  General Data Dissemination System (GDDS)   \n1     Budgetary central government  General Data Dissemination System (GDDS)   \n2     Budgetary central government  General Data Dissemination System (GDDS)   \n3                              NaN                                       NaN   \n4                              NaN                                       NaN   \n\n                              LatestPopulationCensus  \\\n0                                               1979   \n1                                               2011   \n2                                               2008   \n3                                               2010   \n4  2011. Population data compiled from administra...   \n\n                               LatestHouseholdSurvey  \\\n0  Multiple Indicator Cluster Survey (MICS), 2010/11   \n1       Demographic and Health Survey (DHS), 2008/09   \n2     Multiple Indicator Cluster Survey (MICS), 2012   \n3                                                NaN   \n4                                                NaN   \n\n          SourceOfMostRecentIncomeAndExpenditureData  \\\n0            Integrated household survey (IHS), 2008   \n1  Living Standards Measurement Study Survey (LSM...   \n2            Integrated household survey (IHS), 1995   \n3                                                NaN   \n4                                                NaN   \n\n  VitalRegistrationComplete LatestAgriculturalCensus LatestIndustrialData  \\\n0                       NaN                  2013/14                  NaN   \n1                       Yes                     2012               2011.0   \n2                       NaN                      NaN               2010.0   \n3                       Yes                     2007                  NaN   \n4                       Yes                      NaN                  NaN   \n\n  LatestTradeData LatestWaterWithdrawalData  \n0          2013.0                    2000.0  \n1          2013.0                    2006.0  \n2          2013.0                    2001.0  \n3             NaN                       NaN  \n4          2006.0                       NaN  \n\n[5 rows x 31 columns]",
      "text/html": "<div>\n<style scoped>\n    .dataframe tbody tr th:only-of-type {\n        vertical-align: middle;\n    }\n\n    .dataframe tbody tr th {\n        vertical-align: top;\n    }\n\n    .dataframe thead th {\n        text-align: right;\n    }\n</style>\n<table border=\"1\" class=\"dataframe\">\n  <thead>\n    <tr style=\"text-align: right;\">\n      <th></th>\n      <th>CountryCode</th>\n      <th>ShortName</th>\n      <th>TableName</th>\n      <th>LongName</th>\n      <th>Alpha2Code</th>\n      <th>CurrencyUnit</th>\n      <th>SpecialNotes</th>\n      <th>Region</th>\n      <th>IncomeGroup</th>\n      <th>Wb2Code</th>\n      <th>...</th>\n      <th>GovernmentAccountingConcept</th>\n      <th>ImfDataDisseminationStandard</th>\n      <th>LatestPopulationCensus</th>\n      <th>LatestHouseholdSurvey</th>\n      <th>SourceOfMostRecentIncomeAndExpenditureData</th>\n      <th>VitalRegistrationComplete</th>\n      <th>LatestAgriculturalCensus</th>\n      <th>LatestIndustrialData</th>\n      <th>LatestTradeData</th>\n      <th>LatestWaterWithdrawalData</th>\n    </tr>\n  </thead>\n  <tbody>\n    <tr>\n      <th>0</th>\n      <td>AFG</td>\n      <td>Afghanistan</td>\n      <td>Afghanistan</td>\n      <td>Islamic State of Afghanistan</td>\n      <td>AF</td>\n      <td>Afghan afghani</td>\n      <td>Fiscal year end: March 20; reporting period fo...</td>\n      <td>South Asia</td>\n      <td>Low income</td>\n      <td>AF</td>\n      <td>...</td>\n      <td>Consolidated central government</td>\n      <td>General Data Dissemination System (GDDS)</td>\n      <td>1979</td>\n      <td>Multiple Indicator Cluster Survey (MICS), 2010/11</td>\n      <td>Integrated household survey (IHS), 2008</td>\n      <td>NaN</td>\n      <td>2013/14</td>\n      <td>NaN</td>\n      <td>2013.0</td>\n      <td>2000.0</td>\n    </tr>\n    <tr>\n      <th>1</th>\n      <td>ALB</td>\n      <td>Albania</td>\n      <td>Albania</td>\n      <td>Republic of Albania</td>\n      <td>AL</td>\n      <td>Albanian lek</td>\n      <td>NaN</td>\n      <td>Europe &amp; Central Asia</td>\n      <td>Upper middle income</td>\n      <td>AL</td>\n      <td>...</td>\n      <td>Budgetary central government</td>\n      <td>General Data Dissemination System (GDDS)</td>\n      <td>2011</td>\n      <td>Demographic and Health Survey (DHS), 2008/09</td>\n      <td>Living Standards Measurement Study Survey (LSM...</td>\n      <td>Yes</td>\n      <td>2012</td>\n      <td>2011.0</td>\n      <td>2013.0</td>\n      <td>2006.0</td>\n    </tr>\n    <tr>\n      <th>2</th>\n      <td>DZA</td>\n      <td>Algeria</td>\n      <td>Algeria</td>\n      <td>People's Democratic Republic of Algeria</td>\n      <td>DZ</td>\n      <td>Algerian dinar</td>\n      <td>NaN</td>\n      <td>Middle East &amp; North Africa</td>\n      <td>Upper middle income</td>\n      <td>DZ</td>\n      <td>...</td>\n      <td>Budgetary central government</td>\n      <td>General Data Dissemination System (GDDS)</td>\n      <td>2008</td>\n      <td>Multiple Indicator Cluster Survey (MICS), 2012</td>\n      <td>Integrated household survey (IHS), 1995</td>\n      <td>NaN</td>\n      <td>NaN</td>\n      <td>2010.0</td>\n      <td>2013.0</td>\n      <td>2001.0</td>\n    </tr>\n    <tr>\n      <th>3</th>\n      <td>ASM</td>\n      <td>American Samoa</td>\n      <td>American Samoa</td>\n      <td>American Samoa</td>\n      <td>AS</td>\n      <td>U.S. dollar</td>\n      <td>NaN</td>\n      <td>East Asia &amp; Pacific</td>\n      <td>Upper middle income</td>\n      <td>AS</td>\n      <td>...</td>\n      <td>NaN</td>\n      <td>NaN</td>\n      <td>2010</td>\n      <td>NaN</td>\n      <td>NaN</td>\n      <td>Yes</td>\n      <td>2007</td>\n      <td>NaN</td>\n      <td>NaN</td>\n      <td>NaN</td>\n    </tr>\n    <tr>\n      <th>4</th>\n      <td>ADO</td>\n      <td>Andorra</td>\n      <td>Andorra</td>\n      <td>Principality of Andorra</td>\n      <td>AD</td>\n      <td>Euro</td>\n      <td>NaN</td>\n      <td>Europe &amp; Central Asia</td>\n      <td>High income: nonOECD</td>\n      <td>AD</td>\n      <td>...</td>\n      <td>NaN</td>\n      <td>NaN</td>\n      <td>2011. Population data compiled from administra...</td>\n      <td>NaN</td>\n      <td>NaN</td>\n      <td>Yes</td>\n      <td>NaN</td>\n      <td>NaN</td>\n      <td>2006.0</td>\n      <td>NaN</td>\n    </tr>\n  </tbody>\n</table>\n<p>5 rows × 31 columns</p>\n</div>"
     },
     "execution_count": 41,
     "metadata": {},
     "output_type": "execute_result"
    }
   ],
   "source": [
    "df = pd.read_csv('world_bank_countries.csv')\n",
    "df.head()"
   ],
   "metadata": {
    "collapsed": false,
    "ExecuteTime": {
     "end_time": "2024-01-21T03:09:14.573306700Z",
     "start_time": "2024-01-21T03:09:14.528319800Z"
    }
   },
   "id": "2f2e1689ece48412",
   "execution_count": 41
  },
  {
   "cell_type": "code",
   "outputs": [
    {
     "name": "stdout",
     "output_type": "stream",
     "text": [
      "<class 'pandas.core.frame.DataFrame'>\n",
      "RangeIndex: 247 entries, 0 to 246\n",
      "Data columns (total 31 columns):\n",
      " #   Column                                      Non-Null Count  Dtype  \n",
      "---  ------                                      --------------  -----  \n",
      " 0   CountryCode                                 247 non-null    object \n",
      " 1   ShortName                                   247 non-null    object \n",
      " 2   TableName                                   247 non-null    object \n",
      " 3   LongName                                    247 non-null    object \n",
      " 4   Alpha2Code                                  244 non-null    object \n",
      " 5   CurrencyUnit                                214 non-null    object \n",
      " 6   SpecialNotes                                164 non-null    object \n",
      " 7   Region                                      214 non-null    object \n",
      " 8   IncomeGroup                                 214 non-null    object \n",
      " 9   Wb2Code                                     246 non-null    object \n",
      " 10  NationalAccountsBaseYear                    205 non-null    object \n",
      " 11  NationalAccountsReferenceYear               54 non-null     object \n",
      " 12  SnaPriceValuation                           198 non-null    object \n",
      " 13  LendingCategory                             144 non-null    object \n",
      " 14  OtherGroups                                 59 non-null     object \n",
      " 15  SystemOfNationalAccounts                    214 non-null    object \n",
      " 16  AlternativeConversionFactor                 47 non-null     object \n",
      " 17  PppSurveyYear                               191 non-null    object \n",
      " 18  BalanceOfPaymentsManualInUse                181 non-null    object \n",
      " 19  ExternalDebtReportingStatus                 124 non-null    object \n",
      " 20  SystemOfTrade                               200 non-null    object \n",
      " 21  GovernmentAccountingConcept                 161 non-null    object \n",
      " 22  ImfDataDisseminationStandard                183 non-null    object \n",
      " 23  LatestPopulationCensus                      213 non-null    object \n",
      " 24  LatestHouseholdSurvey                       147 non-null    object \n",
      " 25  SourceOfMostRecentIncomeAndExpenditureData  158 non-null    object \n",
      " 26  VitalRegistrationComplete                   112 non-null    object \n",
      " 27  LatestAgriculturalCensus                    142 non-null    object \n",
      " 28  LatestIndustrialData                        113 non-null    float64\n",
      " 29  LatestTradeData                             186 non-null    float64\n",
      " 30  LatestWaterWithdrawalData                   180 non-null    float64\n",
      "dtypes: float64(3), object(28)\n",
      "memory usage: 59.9+ KB\n"
     ]
    }
   ],
   "source": [
    "df.info()"
   ],
   "metadata": {
    "collapsed": false,
    "ExecuteTime": {
     "end_time": "2024-01-21T03:09:48.411220900Z",
     "start_time": "2024-01-21T03:09:48.382208300Z"
    }
   },
   "id": "1870648d198a88a1",
   "execution_count": 42
  },
  {
   "cell_type": "code",
   "outputs": [
    {
     "data": {
      "text/plain": "        ShortName                      Region CountryCode    CurrencyUnit\n0     Afghanistan                  South Asia         AFG  Afghan afghani\n1         Albania       Europe & Central Asia         ALB    Albanian lek\n2         Algeria  Middle East & North Africa         DZA  Algerian dinar\n3  American Samoa         East Asia & Pacific         ASM     U.S. dollar\n4         Andorra       Europe & Central Asia         ADO            Euro",
      "text/html": "<div>\n<style scoped>\n    .dataframe tbody tr th:only-of-type {\n        vertical-align: middle;\n    }\n\n    .dataframe tbody tr th {\n        vertical-align: top;\n    }\n\n    .dataframe thead th {\n        text-align: right;\n    }\n</style>\n<table border=\"1\" class=\"dataframe\">\n  <thead>\n    <tr style=\"text-align: right;\">\n      <th></th>\n      <th>ShortName</th>\n      <th>Region</th>\n      <th>CountryCode</th>\n      <th>CurrencyUnit</th>\n    </tr>\n  </thead>\n  <tbody>\n    <tr>\n      <th>0</th>\n      <td>Afghanistan</td>\n      <td>South Asia</td>\n      <td>AFG</td>\n      <td>Afghan afghani</td>\n    </tr>\n    <tr>\n      <th>1</th>\n      <td>Albania</td>\n      <td>Europe &amp; Central Asia</td>\n      <td>ALB</td>\n      <td>Albanian lek</td>\n    </tr>\n    <tr>\n      <th>2</th>\n      <td>Algeria</td>\n      <td>Middle East &amp; North Africa</td>\n      <td>DZA</td>\n      <td>Algerian dinar</td>\n    </tr>\n    <tr>\n      <th>3</th>\n      <td>American Samoa</td>\n      <td>East Asia &amp; Pacific</td>\n      <td>ASM</td>\n      <td>U.S. dollar</td>\n    </tr>\n    <tr>\n      <th>4</th>\n      <td>Andorra</td>\n      <td>Europe &amp; Central Asia</td>\n      <td>ADO</td>\n      <td>Euro</td>\n    </tr>\n  </tbody>\n</table>\n</div>"
     },
     "execution_count": 46,
     "metadata": {},
     "output_type": "execute_result"
    }
   ],
   "source": [
    "data = df[['ShortName', 'Region', 'CountryCode','CurrencyUnit']]\n",
    "data.head()"
   ],
   "metadata": {
    "collapsed": false,
    "ExecuteTime": {
     "end_time": "2024-01-21T03:11:39.446337900Z",
     "start_time": "2024-01-21T03:11:39.420507600Z"
    }
   },
   "id": "d8e69b9dbd37a242",
   "execution_count": 46
  },
  {
   "cell_type": "code",
   "outputs": [],
   "source": [
    "df = pd.read_csv('world_bank_countries.csv', \n",
    "                 usecols=[0, 1, 5, 7],\n",
    "                 names=['code', 'name', 'currency', 'region'],\n",
    "                 header=0)"
   ],
   "metadata": {
    "collapsed": false,
    "ExecuteTime": {
     "end_time": "2024-01-21T03:17:10.600375200Z",
     "start_time": "2024-01-21T03:17:10.565051600Z"
    }
   },
   "id": "acfff3acb9c3d19f",
   "execution_count": 48
  },
  {
   "cell_type": "code",
   "outputs": [
    {
     "name": "stdout",
     "output_type": "stream",
     "text": [
      "    code                name            currency                      region\n",
      "0    AFG         Afghanistan      Afghan afghani                  South Asia\n",
      "1    ALB             Albania        Albanian lek       Europe & Central Asia\n",
      "2    DZA             Algeria      Algerian dinar  Middle East & North Africa\n",
      "3    ASM      American Samoa         U.S. dollar         East Asia & Pacific\n",
      "4    ADO             Andorra                Euro       Europe & Central Asia\n",
      "..   ...                 ...                 ...                         ...\n",
      "242  WBG  West Bank and Gaza  Israeli new shekel  Middle East & North Africa\n",
      "243  WLD               World                 NaN                         NaN\n",
      "244  YEM               Yemen         Yemeni rial  Middle East & North Africa\n",
      "245  ZMB              Zambia  New Zambian kwacha          Sub-Saharan Africa\n",
      "246  ZWE            Zimbabwe         U.S. dollar          Sub-Saharan Africa\n",
      "\n",
      "[247 rows x 4 columns]\n"
     ]
    }
   ],
   "source": [
    "print(df)"
   ],
   "metadata": {
    "collapsed": false,
    "ExecuteTime": {
     "end_time": "2024-01-21T03:17:17.173302200Z",
     "start_time": "2024-01-21T03:17:17.151300700Z"
    }
   },
   "id": "963e99d162fa93b4",
   "execution_count": 49
  },
  {
   "cell_type": "code",
   "outputs": [
    {
     "data": {
      "text/plain": "                         region code                name            currency\n0                    South Asia  AFG         Afghanistan      Afghan afghani\n1         Europe & Central Asia  ALB             Albania        Albanian lek\n2    Middle East & North Africa  DZA             Algeria      Algerian dinar\n3           East Asia & Pacific  ASM      American Samoa         U.S. dollar\n4         Europe & Central Asia  ADO             Andorra                Euro\n..                          ...  ...                 ...                 ...\n242  Middle East & North Africa  WBG  West Bank and Gaza  Israeli new shekel\n243                         NaN  WLD               World                 NaN\n244  Middle East & North Africa  YEM               Yemen         Yemeni rial\n245          Sub-Saharan Africa  ZMB              Zambia  New Zambian kwacha\n246          Sub-Saharan Africa  ZWE            Zimbabwe         U.S. dollar\n\n[247 rows x 4 columns]",
      "text/html": "<div>\n<style scoped>\n    .dataframe tbody tr th:only-of-type {\n        vertical-align: middle;\n    }\n\n    .dataframe tbody tr th {\n        vertical-align: top;\n    }\n\n    .dataframe thead th {\n        text-align: right;\n    }\n</style>\n<table border=\"1\" class=\"dataframe\">\n  <thead>\n    <tr style=\"text-align: right;\">\n      <th></th>\n      <th>region</th>\n      <th>code</th>\n      <th>name</th>\n      <th>currency</th>\n    </tr>\n  </thead>\n  <tbody>\n    <tr>\n      <th>0</th>\n      <td>South Asia</td>\n      <td>AFG</td>\n      <td>Afghanistan</td>\n      <td>Afghan afghani</td>\n    </tr>\n    <tr>\n      <th>1</th>\n      <td>Europe &amp; Central Asia</td>\n      <td>ALB</td>\n      <td>Albania</td>\n      <td>Albanian lek</td>\n    </tr>\n    <tr>\n      <th>2</th>\n      <td>Middle East &amp; North Africa</td>\n      <td>DZA</td>\n      <td>Algeria</td>\n      <td>Algerian dinar</td>\n    </tr>\n    <tr>\n      <th>3</th>\n      <td>East Asia &amp; Pacific</td>\n      <td>ASM</td>\n      <td>American Samoa</td>\n      <td>U.S. dollar</td>\n    </tr>\n    <tr>\n      <th>4</th>\n      <td>Europe &amp; Central Asia</td>\n      <td>ADO</td>\n      <td>Andorra</td>\n      <td>Euro</td>\n    </tr>\n    <tr>\n      <th>...</th>\n      <td>...</td>\n      <td>...</td>\n      <td>...</td>\n      <td>...</td>\n    </tr>\n    <tr>\n      <th>242</th>\n      <td>Middle East &amp; North Africa</td>\n      <td>WBG</td>\n      <td>West Bank and Gaza</td>\n      <td>Israeli new shekel</td>\n    </tr>\n    <tr>\n      <th>243</th>\n      <td>NaN</td>\n      <td>WLD</td>\n      <td>World</td>\n      <td>NaN</td>\n    </tr>\n    <tr>\n      <th>244</th>\n      <td>Middle East &amp; North Africa</td>\n      <td>YEM</td>\n      <td>Yemen</td>\n      <td>Yemeni rial</td>\n    </tr>\n    <tr>\n      <th>245</th>\n      <td>Sub-Saharan Africa</td>\n      <td>ZMB</td>\n      <td>Zambia</td>\n      <td>New Zambian kwacha</td>\n    </tr>\n    <tr>\n      <th>246</th>\n      <td>Sub-Saharan Africa</td>\n      <td>ZWE</td>\n      <td>Zimbabwe</td>\n      <td>U.S. dollar</td>\n    </tr>\n  </tbody>\n</table>\n<p>247 rows × 4 columns</p>\n</div>"
     },
     "execution_count": 50,
     "metadata": {},
     "output_type": "execute_result"
    }
   ],
   "source": [
    "df[['region', 'code', 'name', 'currency']]"
   ],
   "metadata": {
    "collapsed": false,
    "ExecuteTime": {
     "end_time": "2024-01-21T03:18:11.263545800Z",
     "start_time": "2024-01-21T03:18:11.240536800Z"
    }
   },
   "id": "5e3a43a8716b25ee",
   "execution_count": 50
  },
  {
   "cell_type": "code",
   "outputs": [],
   "source": [
    "df = pd.read_csv('world_bank_countries.csv',\n",
    "                 usecols=[0, 1, 5, 7],\n",
    "                 names=['code', 'name', 'currency', 'region'],\n",
    "                 header=0)[['region', 'code', 'name', 'currency']]"
   ],
   "metadata": {
    "collapsed": false,
    "ExecuteTime": {
     "end_time": "2024-01-21T03:18:51.543385900Z",
     "start_time": "2024-01-21T03:18:51.526335Z"
    }
   },
   "id": "9d738b2190f88991",
   "execution_count": 51
  },
  {
   "cell_type": "code",
   "outputs": [
    {
     "name": "stdout",
     "output_type": "stream",
     "text": [
      "<class 'pandas.core.frame.DataFrame'>\n",
      "RangeIndex: 247 entries, 0 to 246\n",
      "Data columns (total 4 columns):\n",
      " #   Column    Non-Null Count  Dtype \n",
      "---  ------    --------------  ----- \n",
      " 0   region    214 non-null    object\n",
      " 1   code      247 non-null    object\n",
      " 2   name      247 non-null    object\n",
      " 3   currency  214 non-null    object\n",
      "dtypes: object(4)\n",
      "memory usage: 7.8+ KB\n"
     ]
    }
   ],
   "source": [
    "df.info()"
   ],
   "metadata": {
    "collapsed": false,
    "ExecuteTime": {
     "end_time": "2024-01-21T03:18:55.848047800Z",
     "start_time": "2024-01-21T03:18:55.833043400Z"
    }
   },
   "id": "71a828c31c3cb71d",
   "execution_count": 52
  },
  {
   "cell_type": "code",
   "outputs": [
    {
     "data": {
      "text/plain": "0       True\n1       True\n2       True\n3       True\n4       True\n       ...  \n242     True\n243    False\n244     True\n245     True\n246     True\nName: region, Length: 247, dtype: bool"
     },
     "execution_count": 56,
     "metadata": {},
     "output_type": "execute_result"
    }
   ],
   "source": [
    "df['region'].notnull()"
   ],
   "metadata": {
    "collapsed": false,
    "ExecuteTime": {
     "end_time": "2024-01-21T03:22:49.519933500Z",
     "start_time": "2024-01-21T03:22:49.486947300Z"
    }
   },
   "id": "84205947a752a166",
   "execution_count": 56
  },
  {
   "cell_type": "code",
   "outputs": [
    {
     "name": "stdout",
     "output_type": "stream",
     "text": [
      "<class 'pandas.core.frame.DataFrame'>\n",
      "Int64Index: 214 entries, 0 to 246\n",
      "Data columns (total 4 columns):\n",
      " #   Column    Non-Null Count  Dtype \n",
      "---  ------    --------------  ----- \n",
      " 0   region    214 non-null    object\n",
      " 1   code      214 non-null    object\n",
      " 2   name      214 non-null    object\n",
      " 3   currency  214 non-null    object\n",
      "dtypes: object(4)\n",
      "memory usage: 8.4+ KB\n"
     ]
    }
   ],
   "source": [
    "data = df.loc[df['region'].notnull()]\n",
    "data.info()"
   ],
   "metadata": {
    "collapsed": false,
    "ExecuteTime": {
     "end_time": "2024-01-21T03:23:13.770688600Z",
     "start_time": "2024-01-21T03:23:13.747684500Z"
    }
   },
   "id": "cb22a19e17e3428e",
   "execution_count": 57
  },
  {
   "cell_type": "code",
   "outputs": [
    {
     "name": "stdout",
     "output_type": "stream",
     "text": [
      "<class 'pandas.core.frame.DataFrame'>\n",
      "Int64Index: 214 entries, 0 to 246\n",
      "Data columns (total 4 columns):\n",
      " #   Column    Non-Null Count  Dtype \n",
      "---  ------    --------------  ----- \n",
      " 0   region    214 non-null    object\n",
      " 1   code      214 non-null    object\n",
      " 2   name      214 non-null    object\n",
      " 3   currency  214 non-null    object\n",
      "dtypes: object(4)\n",
      "memory usage: 8.4+ KB\n"
     ]
    }
   ],
   "source": [
    "data = df.dropna(axis=0)\n",
    "data.info()"
   ],
   "metadata": {
    "collapsed": false,
    "ExecuteTime": {
     "end_time": "2024-01-21T03:24:00.046388700Z",
     "start_time": "2024-01-21T03:23:59.989372600Z"
    }
   },
   "id": "54d240730ff2238d",
   "execution_count": 58
  },
  {
   "cell_type": "code",
   "outputs": [
    {
     "data": {
      "text/plain": "                       region code            name        currency\n0                  South Asia  AFG     Afghanistan  Afghan afghani\n1       Europe & Central Asia  ALB         Albania    Albanian lek\n2  Middle East & North Africa  DZA         Algeria  Algerian dinar\n3         East Asia & Pacific  ASM  American Samoa     U.S. dollar\n4       Europe & Central Asia  ADO         Andorra            Euro",
      "text/html": "<div>\n<style scoped>\n    .dataframe tbody tr th:only-of-type {\n        vertical-align: middle;\n    }\n\n    .dataframe tbody tr th {\n        vertical-align: top;\n    }\n\n    .dataframe thead th {\n        text-align: right;\n    }\n</style>\n<table border=\"1\" class=\"dataframe\">\n  <thead>\n    <tr style=\"text-align: right;\">\n      <th></th>\n      <th>region</th>\n      <th>code</th>\n      <th>name</th>\n      <th>currency</th>\n    </tr>\n  </thead>\n  <tbody>\n    <tr>\n      <th>0</th>\n      <td>South Asia</td>\n      <td>AFG</td>\n      <td>Afghanistan</td>\n      <td>Afghan afghani</td>\n    </tr>\n    <tr>\n      <th>1</th>\n      <td>Europe &amp; Central Asia</td>\n      <td>ALB</td>\n      <td>Albania</td>\n      <td>Albanian lek</td>\n    </tr>\n    <tr>\n      <th>2</th>\n      <td>Middle East &amp; North Africa</td>\n      <td>DZA</td>\n      <td>Algeria</td>\n      <td>Algerian dinar</td>\n    </tr>\n    <tr>\n      <th>3</th>\n      <td>East Asia &amp; Pacific</td>\n      <td>ASM</td>\n      <td>American Samoa</td>\n      <td>U.S. dollar</td>\n    </tr>\n    <tr>\n      <th>4</th>\n      <td>Europe &amp; Central Asia</td>\n      <td>ADO</td>\n      <td>Andorra</td>\n      <td>Euro</td>\n    </tr>\n  </tbody>\n</table>\n</div>"
     },
     "execution_count": 59,
     "metadata": {},
     "output_type": "execute_result"
    }
   ],
   "source": [
    "data.head()"
   ],
   "metadata": {
    "collapsed": false,
    "ExecuteTime": {
     "end_time": "2024-01-21T03:24:25.606165Z",
     "start_time": "2024-01-21T03:24:25.572151400Z"
    }
   },
   "id": "be52916cbfe3ec38",
   "execution_count": 59
  },
  {
   "cell_type": "code",
   "outputs": [
    {
     "data": {
      "text/plain": "                  region code                      name  \\\n223  East Asia & Pacific  TON                     Tonga   \n42   East Asia & Pacific  CHN                     China   \n53   East Asia & Pacific  PRK  Dem. People's Rep. Korea   \n229  East Asia & Pacific  TUV                    Tuvalu   \n73   East Asia & Pacific  FJI                      Fiji   \n..                   ...  ...                       ...   \n134   Sub-Saharan Africa  MDG                Madagascar   \n124   Sub-Saharan Africa  LBR                   Liberia   \n245   Sub-Saharan Africa  ZMB                    Zambia   \n88    Sub-Saharan Africa  GNB             Guinea-Bissau   \n246   Sub-Saharan Africa  ZWE                  Zimbabwe   \n\n                                       currency  \n223                              Tongan pa'anga  \n42                                 Chinese yuan  \n53   Democratic People's Republic of Korean won  \n229                           Australian dollar  \n73                                Fijian dollar  \n..                                          ...  \n134                             Malagasy ariary  \n124                                 U.S. dollar  \n245                          New Zambian kwacha  \n88                       West African CFA franc  \n246                                 U.S. dollar  \n\n[214 rows x 4 columns]",
      "text/html": "<div>\n<style scoped>\n    .dataframe tbody tr th:only-of-type {\n        vertical-align: middle;\n    }\n\n    .dataframe tbody tr th {\n        vertical-align: top;\n    }\n\n    .dataframe thead th {\n        text-align: right;\n    }\n</style>\n<table border=\"1\" class=\"dataframe\">\n  <thead>\n    <tr style=\"text-align: right;\">\n      <th></th>\n      <th>region</th>\n      <th>code</th>\n      <th>name</th>\n      <th>currency</th>\n    </tr>\n  </thead>\n  <tbody>\n    <tr>\n      <th>223</th>\n      <td>East Asia &amp; Pacific</td>\n      <td>TON</td>\n      <td>Tonga</td>\n      <td>Tongan pa'anga</td>\n    </tr>\n    <tr>\n      <th>42</th>\n      <td>East Asia &amp; Pacific</td>\n      <td>CHN</td>\n      <td>China</td>\n      <td>Chinese yuan</td>\n    </tr>\n    <tr>\n      <th>53</th>\n      <td>East Asia &amp; Pacific</td>\n      <td>PRK</td>\n      <td>Dem. People's Rep. Korea</td>\n      <td>Democratic People's Republic of Korean won</td>\n    </tr>\n    <tr>\n      <th>229</th>\n      <td>East Asia &amp; Pacific</td>\n      <td>TUV</td>\n      <td>Tuvalu</td>\n      <td>Australian dollar</td>\n    </tr>\n    <tr>\n      <th>73</th>\n      <td>East Asia &amp; Pacific</td>\n      <td>FJI</td>\n      <td>Fiji</td>\n      <td>Fijian dollar</td>\n    </tr>\n    <tr>\n      <th>...</th>\n      <td>...</td>\n      <td>...</td>\n      <td>...</td>\n      <td>...</td>\n    </tr>\n    <tr>\n      <th>134</th>\n      <td>Sub-Saharan Africa</td>\n      <td>MDG</td>\n      <td>Madagascar</td>\n      <td>Malagasy ariary</td>\n    </tr>\n    <tr>\n      <th>124</th>\n      <td>Sub-Saharan Africa</td>\n      <td>LBR</td>\n      <td>Liberia</td>\n      <td>U.S. dollar</td>\n    </tr>\n    <tr>\n      <th>245</th>\n      <td>Sub-Saharan Africa</td>\n      <td>ZMB</td>\n      <td>Zambia</td>\n      <td>New Zambian kwacha</td>\n    </tr>\n    <tr>\n      <th>88</th>\n      <td>Sub-Saharan Africa</td>\n      <td>GNB</td>\n      <td>Guinea-Bissau</td>\n      <td>West African CFA franc</td>\n    </tr>\n    <tr>\n      <th>246</th>\n      <td>Sub-Saharan Africa</td>\n      <td>ZWE</td>\n      <td>Zimbabwe</td>\n      <td>U.S. dollar</td>\n    </tr>\n  </tbody>\n</table>\n<p>214 rows × 4 columns</p>\n</div>"
     },
     "execution_count": 60,
     "metadata": {},
     "output_type": "execute_result"
    }
   ],
   "source": [
    "data.sort_values(by=['region'])"
   ],
   "metadata": {
    "collapsed": false,
    "ExecuteTime": {
     "end_time": "2024-01-21T03:24:43.465407600Z",
     "start_time": "2024-01-21T03:24:43.445411800Z"
    }
   },
   "id": "e6df3906f5073e63",
   "execution_count": 60
  },
  {
   "cell_type": "code",
   "outputs": [
    {
     "data": {
      "text/plain": "                 region code            name           currency\n3   East Asia & Pacific  ASM  American Samoa        U.S. dollar\n11  East Asia & Pacific  AUS       Australia  Australian dollar\n27  East Asia & Pacific  BRN          Brunei      Brunei dollar\n42  East Asia & Pacific  CHN           China       Chinese yuan\n73  East Asia & Pacific  FJI            Fiji      Fijian dollar",
      "text/html": "<div>\n<style scoped>\n    .dataframe tbody tr th:only-of-type {\n        vertical-align: middle;\n    }\n\n    .dataframe tbody tr th {\n        vertical-align: top;\n    }\n\n    .dataframe thead th {\n        text-align: right;\n    }\n</style>\n<table border=\"1\" class=\"dataframe\">\n  <thead>\n    <tr style=\"text-align: right;\">\n      <th></th>\n      <th>region</th>\n      <th>code</th>\n      <th>name</th>\n      <th>currency</th>\n    </tr>\n  </thead>\n  <tbody>\n    <tr>\n      <th>3</th>\n      <td>East Asia &amp; Pacific</td>\n      <td>ASM</td>\n      <td>American Samoa</td>\n      <td>U.S. dollar</td>\n    </tr>\n    <tr>\n      <th>11</th>\n      <td>East Asia &amp; Pacific</td>\n      <td>AUS</td>\n      <td>Australia</td>\n      <td>Australian dollar</td>\n    </tr>\n    <tr>\n      <th>27</th>\n      <td>East Asia &amp; Pacific</td>\n      <td>BRN</td>\n      <td>Brunei</td>\n      <td>Brunei dollar</td>\n    </tr>\n    <tr>\n      <th>42</th>\n      <td>East Asia &amp; Pacific</td>\n      <td>CHN</td>\n      <td>China</td>\n      <td>Chinese yuan</td>\n    </tr>\n    <tr>\n      <th>73</th>\n      <td>East Asia &amp; Pacific</td>\n      <td>FJI</td>\n      <td>Fiji</td>\n      <td>Fijian dollar</td>\n    </tr>\n  </tbody>\n</table>\n</div>"
     },
     "execution_count": 81,
     "metadata": {},
     "output_type": "execute_result"
    }
   ],
   "source": [
    "sorted_data = data.sort_values(by=['region', 'code'])\n",
    "sorted_data.head()"
   ],
   "metadata": {
    "collapsed": false,
    "ExecuteTime": {
     "end_time": "2024-01-21T03:31:31.532359Z",
     "start_time": "2024-01-21T03:31:31.501346700Z"
    }
   },
   "id": "c02b39faa6a6df41",
   "execution_count": 81
  },
  {
   "cell_type": "code",
   "outputs": [
    {
     "name": "stdout",
     "output_type": "stream",
     "text": [
      "['East Asia & Pacific' 'ASM' 'American Samoa' 'U.S. dollar']\n",
      "['East Asia & Pacific' 'AUS' 'Australia' 'Australian dollar']\n",
      "['East Asia & Pacific' 'BRN' 'Brunei' 'Brunei dollar']\n",
      "['East Asia & Pacific' 'CHN' 'China' 'Chinese yuan']\n",
      "['East Asia & Pacific' 'FJI' 'Fiji' 'Fijian dollar']\n",
      "['East Asia & Pacific' 'FSM' 'Micronesia' 'U.S. dollar']\n",
      "['East Asia & Pacific' 'GUM' 'Guam' 'U.S. dollar']\n",
      "['East Asia & Pacific' 'HKG' 'Hong Kong SAR, China' 'Hong Kong dollar']\n",
      "['East Asia & Pacific' 'IDN' 'Indonesia' 'Indonesian rupiah']\n",
      "['East Asia & Pacific' 'JPN' 'Japan' 'Japanese yen']\n",
      "['East Asia & Pacific' 'KHM' 'Cambodia' 'Cambodian riel']\n",
      "['East Asia & Pacific' 'KIR' 'Kiribati' 'Australian dollar']\n",
      "['East Asia & Pacific' 'KOR' 'Korea' 'Korean won']\n",
      "['East Asia & Pacific' 'LAO' 'Lao PDR' 'Lao kip']\n",
      "['East Asia & Pacific' 'MAC' 'Macao SAR, China' 'Macao pataca']\n",
      "['East Asia & Pacific' 'MHL' 'Marshall Islands' 'U.S. dollar']\n",
      "['East Asia & Pacific' 'MMR' 'Myanmar' 'Myanmar kyat']\n",
      "['East Asia & Pacific' 'MNG' 'Mongolia' 'Mongolian tugrik']\n",
      "['East Asia & Pacific' 'MNP' 'Northern Mariana Islands' 'U.S. dollar']\n",
      "['East Asia & Pacific' 'MYS' 'Malaysia' 'Malaysian ringgit']\n",
      "['East Asia & Pacific' 'NCL' 'New Caledonia' 'CFP franc']\n",
      "['East Asia & Pacific' 'NZL' 'New Zealand' 'New Zealand dollar']\n",
      "['East Asia & Pacific' 'PHL' 'Philippines' 'Philippine peso']\n",
      "['East Asia & Pacific' 'PLW' 'Palau' 'U.S. dollar']\n",
      "['East Asia & Pacific' 'PNG' 'Papua New Guinea' 'Papua New Guinea kina']\n",
      "['East Asia & Pacific' 'PRK' \"Dem. People's Rep. Korea\"\n",
      " \"Democratic People's Republic of Korean won\"]\n",
      "['East Asia & Pacific' 'PYF' 'French Polynesia' 'CFP franc']\n",
      "['East Asia & Pacific' 'SGP' 'Singapore' 'Singapore dollar']\n",
      "['East Asia & Pacific' 'SLB' 'Solomon Islands' 'Solomon Islands dollar']\n",
      "['East Asia & Pacific' 'THA' 'Thailand' 'Thai baht']\n",
      "['East Asia & Pacific' 'TMP' 'Timor-Leste' 'U.S. dollar']\n",
      "['East Asia & Pacific' 'TON' 'Tonga' \"Tongan pa'anga\"]\n",
      "['East Asia & Pacific' 'TUV' 'Tuvalu' 'Australian dollar']\n",
      "['East Asia & Pacific' 'VNM' 'Vietnam' 'Vietnamese dong']\n",
      "['East Asia & Pacific' 'VUT' 'Vanuatu' 'Vanuatu vatu']\n",
      "['East Asia & Pacific' 'WSM' 'Samoa' 'Samoan tala']\n",
      "['Europe & Central Asia' 'ADO' 'Andorra' 'Euro']\n",
      "['Europe & Central Asia' 'ALB' 'Albania' 'Albanian lek']\n",
      "['Europe & Central Asia' 'ARM' 'Armenia' 'Armenian dram']\n",
      "['Europe & Central Asia' 'AUT' 'Austria' 'Euro']\n",
      "['Europe & Central Asia' 'AZE' 'Azerbaijan' 'New Azeri manat']\n",
      "['Europe & Central Asia' 'BEL' 'Belgium' 'Euro']\n",
      "['Europe & Central Asia' 'BGR' 'Bulgaria' 'Bulgarian lev']\n",
      "['Europe & Central Asia' 'BIH' 'Bosnia and Herzegovina'\n",
      " 'Bosnia and Herzegovina convertible mark']\n",
      "['Europe & Central Asia' 'BLR' 'Belarus' 'Belarusian rubel']\n",
      "['Europe & Central Asia' 'CHE' 'Switzerland' 'Swiss franc']\n",
      "['Europe & Central Asia' 'CHI' 'Channel Islands' 'Pound sterling']\n",
      "['Europe & Central Asia' 'CYP' 'Cyprus' 'Euro']\n",
      "['Europe & Central Asia' 'CZE' 'Czech Republic' 'Czech koruna']\n",
      "['Europe & Central Asia' 'DEU' 'Germany' 'Euro']\n",
      "['Europe & Central Asia' 'DNK' 'Denmark' 'Danish krone']\n",
      "['Europe & Central Asia' 'ESP' 'Spain' 'Euro']\n",
      "['Europe & Central Asia' 'EST' 'Estonia' 'Euro']\n",
      "['Europe & Central Asia' 'FIN' 'Finland' 'Euro']\n",
      "['Europe & Central Asia' 'FRA' 'France' 'Euro']\n",
      "['Europe & Central Asia' 'FRO' 'Faeroe Islands' 'Danish krone']\n",
      "['Europe & Central Asia' 'GBR' 'United Kingdom' 'Pound sterling']\n",
      "['Europe & Central Asia' 'GEO' 'Georgia' 'Georgian lari']\n",
      "['Europe & Central Asia' 'GRC' 'Greece' 'Euro']\n",
      "['Europe & Central Asia' 'GRL' 'Greenland' 'Danish krone']\n",
      "['Europe & Central Asia' 'HRV' 'Croatia' 'Croatian kuna']\n",
      "['Europe & Central Asia' 'HUN' 'Hungary' 'Hungarian forint']\n",
      "['Europe & Central Asia' 'IMY' 'Isle of Man' 'Pound sterling']\n",
      "['Europe & Central Asia' 'IRL' 'Ireland' 'Euro']\n",
      "['Europe & Central Asia' 'ISL' 'Iceland' 'Iceland krona']\n",
      "['Europe & Central Asia' 'ITA' 'Italy' 'Euro']\n",
      "['Europe & Central Asia' 'KAZ' 'Kazakhstan' 'Kazakh tenge']\n",
      "['Europe & Central Asia' 'KGZ' 'Kyrgyz Republic' 'Kyrgyz som']\n",
      "['Europe & Central Asia' 'KSV' 'Kosovo' 'Euro']\n",
      "['Europe & Central Asia' 'LIE' 'Liechtenstein' 'Swiss franc']\n",
      "['Europe & Central Asia' 'LTU' 'Lithuania' 'Euro']\n",
      "['Europe & Central Asia' 'LUX' 'Luxembourg' 'Euro']\n",
      "['Europe & Central Asia' 'LVA' 'Latvia' 'Euro']\n",
      "['Europe & Central Asia' 'MCO' 'Monaco' 'Euro']\n",
      "['Europe & Central Asia' 'MDA' 'Moldova' 'Moldovan leu']\n",
      "['Europe & Central Asia' 'MKD' 'Macedonia' 'Macedonian denar']\n",
      "['Europe & Central Asia' 'MNE' 'Montenegro' 'Euro']\n",
      "['Europe & Central Asia' 'NLD' 'Netherlands' 'Euro']\n",
      "['Europe & Central Asia' 'NOR' 'Norway' 'Norwegian krone']\n",
      "['Europe & Central Asia' 'POL' 'Poland' 'Polish zloty']\n",
      "['Europe & Central Asia' 'PRT' 'Portugal' 'Euro']\n",
      "['Europe & Central Asia' 'ROM' 'Romania' 'New Romanian leu']\n",
      "['Europe & Central Asia' 'RUS' 'Russia' 'Russian ruble']\n",
      "['Europe & Central Asia' 'SMR' 'San Marino' 'Euro']\n",
      "['Europe & Central Asia' 'SRB' 'Serbia' 'New Serbian dinar']\n",
      "['Europe & Central Asia' 'SVK' 'Slovak Republic' 'Euro']\n",
      "['Europe & Central Asia' 'SVN' 'Slovenia' 'Euro']\n",
      "['Europe & Central Asia' 'SWE' 'Sweden' 'Swedish krona']\n",
      "['Europe & Central Asia' 'TJK' 'Tajikistan' 'Tajik somoni']\n",
      "['Europe & Central Asia' 'TKM' 'Turkmenistan' 'New Turkmen manat']\n",
      "['Europe & Central Asia' 'TUR' 'Turkey' 'New Turkish lira']\n",
      "['Europe & Central Asia' 'UKR' 'Ukraine' 'Ukrainian hryvnia']\n",
      "['Europe & Central Asia' 'UZB' 'Uzbekistan' 'Uzbek sum']\n",
      "['Latin America & Caribbean' 'ABW' 'Aruba' 'Aruban florin']\n",
      "['Latin America & Caribbean' 'ARG' 'Argentina' 'Argentine peso']\n",
      "['Latin America & Caribbean' 'ATG' 'Antigua and Barbuda'\n",
      " 'East Caribbean dollar']\n",
      "['Latin America & Caribbean' 'BHS' 'The Bahamas' 'Bahamian dollar']\n",
      "['Latin America & Caribbean' 'BLZ' 'Belize' 'Belize dollar']\n",
      "['Latin America & Caribbean' 'BOL' 'Bolivia' 'Bolivian Boliviano']\n",
      "['Latin America & Caribbean' 'BRA' 'Brazil' 'Brazilian real']\n",
      "['Latin America & Caribbean' 'BRB' 'Barbados' 'Barbados dollar']\n",
      "['Latin America & Caribbean' 'CHL' 'Chile' 'Chilean peso']\n",
      "['Latin America & Caribbean' 'COL' 'Colombia' 'Colombian peso']\n",
      "['Latin America & Caribbean' 'CRI' 'Costa Rica' 'Costa Rican colon']\n",
      "['Latin America & Caribbean' 'CUB' 'Cuba' 'Cuban peso']\n",
      "['Latin America & Caribbean' 'CUW' 'Curaçao'\n",
      " 'Netherlands Antillean guilder']\n",
      "['Latin America & Caribbean' 'CYM' 'Cayman Islands'\n",
      " 'Cayman Islands dollar']\n",
      "['Latin America & Caribbean' 'DMA' 'Dominica' 'East Caribbean dollar']\n",
      "['Latin America & Caribbean' 'DOM' 'Dominican Republic' 'Dominican peso']\n",
      "['Latin America & Caribbean' 'ECU' 'Ecuador' 'U.S. dollar']\n",
      "['Latin America & Caribbean' 'GRD' 'Grenada' 'East Caribbean dollar']\n",
      "['Latin America & Caribbean' 'GTM' 'Guatemala' 'Guatemalan quetzal']\n",
      "['Latin America & Caribbean' 'GUY' 'Guyana' 'Guyana dollar']\n",
      "['Latin America & Caribbean' 'HND' 'Honduras' 'Honduran lempira']\n",
      "['Latin America & Caribbean' 'HTI' 'Haiti' 'Haitian gourde']\n",
      "['Latin America & Caribbean' 'JAM' 'Jamaica' 'Jamaican dollar']\n",
      "['Latin America & Caribbean' 'KNA' 'St. Kitts and Nevis'\n",
      " 'East Caribbean dollar']\n",
      "['Latin America & Caribbean' 'LCA' 'St. Lucia' 'East Caribbean dollar']\n",
      "['Latin America & Caribbean' 'MAF' 'St. Martin (French part)' 'Euro']\n",
      "['Latin America & Caribbean' 'MEX' 'Mexico' 'Mexican peso']\n",
      "['Latin America & Caribbean' 'NIC' 'Nicaragua' 'Nicaraguan gold cordoba']\n",
      "['Latin America & Caribbean' 'PAN' 'Panama' 'Panamanian balboa']\n",
      "['Latin America & Caribbean' 'PER' 'Peru' 'Peruvian new sol']\n",
      "['Latin America & Caribbean' 'PRI' 'Puerto Rico' 'U.S. dollar']\n",
      "['Latin America & Caribbean' 'PRY' 'Paraguay' 'Paraguayan guarani']\n",
      "['Latin America & Caribbean' 'SLV' 'El Salvador' 'U.S. dollar']\n",
      "['Latin America & Caribbean' 'SUR' 'Suriname' 'Suriname dollar']\n",
      "['Latin America & Caribbean' 'SXM' 'Sint Maarten (Dutch part)'\n",
      " 'Netherlands Antillean guilder']\n",
      "['Latin America & Caribbean' 'TCA' 'Turks and Caicos Islands'\n",
      " 'U.S. dollar']\n",
      "['Latin America & Caribbean' 'TTO' 'Trinidad and Tobago'\n",
      " 'Trinidad and Tobago dollar']\n",
      "['Latin America & Caribbean' 'URY' 'Uruguay' 'Uruguayan peso']\n",
      "['Latin America & Caribbean' 'VCT' 'St. Vincent and the Grenadines'\n",
      " 'East Caribbean dollar']\n",
      "['Latin America & Caribbean' 'VEN' 'Venezuela' 'Venezuelan bolivar fuerte']\n",
      "['Latin America & Caribbean' 'VIR' 'Virgin Islands' 'U.S. dollar']\n",
      "['Middle East & North Africa' 'ARE' 'United Arab Emirates' 'U.A.E. dirham']\n",
      "['Middle East & North Africa' 'BHR' 'Bahrain' 'Bahraini dinar']\n",
      "['Middle East & North Africa' 'DJI' 'Djibouti' 'Djibouti franc']\n",
      "['Middle East & North Africa' 'DZA' 'Algeria' 'Algerian dinar']\n",
      "['Middle East & North Africa' 'EGY' 'Egypt' 'Egyptian pound']\n",
      "['Middle East & North Africa' 'IRN' 'Iran' 'Iranian rial']\n",
      "['Middle East & North Africa' 'IRQ' 'Iraq' 'Iraqi dinar']\n",
      "['Middle East & North Africa' 'ISR' 'Israel' 'Israeli new shekel']\n",
      "['Middle East & North Africa' 'JOR' 'Jordan' 'Jordanian dinar']\n",
      "['Middle East & North Africa' 'KWT' 'Kuwait' 'Kuwaiti dinar']\n",
      "['Middle East & North Africa' 'LBN' 'Lebanon' 'Lebanese pound']\n",
      "['Middle East & North Africa' 'LBY' 'Libya' 'Libyan dinar']\n",
      "['Middle East & North Africa' 'MAR' 'Morocco' 'Moroccan dirham']\n",
      "['Middle East & North Africa' 'MLT' 'Malta' 'Euro']\n",
      "['Middle East & North Africa' 'OMN' 'Oman' 'Rial Omani']\n",
      "['Middle East & North Africa' 'QAT' 'Qatar' 'Qatari riyal']\n",
      "['Middle East & North Africa' 'SAU' 'Saudi Arabia' 'Saudi Arabian riyal']\n",
      "['Middle East & North Africa' 'SYR' 'Syrian Arab Republic' 'Syrian pound']\n",
      "['Middle East & North Africa' 'TUN' 'Tunisia' 'Tunisian dinar']\n",
      "['Middle East & North Africa' 'WBG' 'West Bank and Gaza'\n",
      " 'Israeli new shekel']\n",
      "['Middle East & North Africa' 'YEM' 'Yemen' 'Yemeni rial']\n",
      "['North America' 'BMU' 'Bermuda' 'Bermuda dollar']\n",
      "['North America' 'CAN' 'Canada' 'Canadian dollar']\n",
      "['North America' 'USA' 'United States' 'U.S. dollar']\n",
      "['South Asia' 'AFG' 'Afghanistan' 'Afghan afghani']\n",
      "['South Asia' 'BGD' 'Bangladesh' 'Bangladeshi taka']\n",
      "['South Asia' 'BTN' 'Bhutan' 'Bhutanese ngultrum']\n",
      "['South Asia' 'IND' 'India' 'Indian rupee']\n",
      "['South Asia' 'LKA' 'Sri Lanka' 'Sri Lankan rupee']\n",
      "['South Asia' 'MDV' 'Maldives' 'Maldivian rufiyaa']\n",
      "['South Asia' 'NPL' 'Nepal' 'Nepalese rupee']\n",
      "['South Asia' 'PAK' 'Pakistan' 'Pakistani rupee']\n",
      "['Sub-Saharan Africa' 'AGO' 'Angola' 'Angolan kwanza']\n",
      "['Sub-Saharan Africa' 'BDI' 'Burundi' 'Burundi franc']\n",
      "['Sub-Saharan Africa' 'BEN' 'Benin' 'West African CFA franc']\n",
      "['Sub-Saharan Africa' 'BFA' 'Burkina Faso' 'West African CFA franc']\n",
      "['Sub-Saharan Africa' 'BWA' 'Botswana' 'Botswana pula']\n",
      "['Sub-Saharan Africa' 'CAF' 'Central African Republic'\n",
      " 'Central African CFA franc']\n",
      "['Sub-Saharan Africa' 'CIV' \"Côte d'Ivoire\" 'West African CFA franc']\n",
      "['Sub-Saharan Africa' 'CMR' 'Cameroon' 'Central African CFA franc']\n",
      "['Sub-Saharan Africa' 'COG' 'Congo' 'Central African CFA franc']\n",
      "['Sub-Saharan Africa' 'COM' 'Comoros' 'Comorian franc']\n",
      "['Sub-Saharan Africa' 'CPV' 'Cabo Verde' 'Cabo Verde escudo']\n",
      "['Sub-Saharan Africa' 'ERI' 'Eritrea' 'Eritrean nakfa']\n",
      "['Sub-Saharan Africa' 'ETH' 'Ethiopia' 'Ethiopian birr']\n",
      "['Sub-Saharan Africa' 'GAB' 'Gabon' 'Central African CFA franc']\n",
      "['Sub-Saharan Africa' 'GHA' 'Ghana' 'New Ghanaian cedi']\n",
      "['Sub-Saharan Africa' 'GIN' 'Guinea' 'Guinean franc']\n",
      "['Sub-Saharan Africa' 'GMB' 'The Gambia' 'Gambian dalasi']\n",
      "['Sub-Saharan Africa' 'GNB' 'Guinea-Bissau' 'West African CFA franc']\n",
      "['Sub-Saharan Africa' 'GNQ' 'Equatorial Guinea'\n",
      " 'Central African CFA franc']\n",
      "['Sub-Saharan Africa' 'KEN' 'Kenya' 'Kenyan shilling']\n",
      "['Sub-Saharan Africa' 'LBR' 'Liberia' 'U.S. dollar']\n",
      "['Sub-Saharan Africa' 'LSO' 'Lesotho' 'Lesotho loti']\n",
      "['Sub-Saharan Africa' 'MDG' 'Madagascar' 'Malagasy ariary']\n",
      "['Sub-Saharan Africa' 'MLI' 'Mali' 'West African CFA franc']\n",
      "['Sub-Saharan Africa' 'MOZ' 'Mozambique' 'New Mozambican metical']\n",
      "['Sub-Saharan Africa' 'MRT' 'Mauritania' 'Mauritanian ouguiya']\n",
      "['Sub-Saharan Africa' 'MUS' 'Mauritius' 'Mauritian rupee']\n",
      "['Sub-Saharan Africa' 'MWI' 'Malawi' 'Malawi kwacha']\n",
      "['Sub-Saharan Africa' 'NAM' 'Namibia' 'Namibian dollar']\n",
      "['Sub-Saharan Africa' 'NER' 'Niger' 'West African CFA franc']\n",
      "['Sub-Saharan Africa' 'NGA' 'Nigeria' 'Nigerian naira']\n",
      "['Sub-Saharan Africa' 'RWA' 'Rwanda' 'Rwandan franc']\n",
      "['Sub-Saharan Africa' 'SDN' 'Sudan' 'Sudanese pound']\n",
      "['Sub-Saharan Africa' 'SEN' 'Senegal' 'West African CFA franc']\n",
      "['Sub-Saharan Africa' 'SLE' 'Sierra Leone' 'Sierra Leonean leone']\n",
      "['Sub-Saharan Africa' 'SOM' 'Somalia' 'Somali shilling']\n",
      "['Sub-Saharan Africa' 'SSD' 'South Sudan' 'South Sudanese Pound']\n",
      "['Sub-Saharan Africa' 'STP' 'São Tomé and Principe'\n",
      " 'São Tomé and Principe dobra']\n",
      "['Sub-Saharan Africa' 'SWZ' 'Swaziland' 'Swaziland lilangeni']\n",
      "['Sub-Saharan Africa' 'SYC' 'Seychelles' 'Seychelles rupee']\n",
      "['Sub-Saharan Africa' 'TCD' 'Chad' 'Central African CFA franc']\n",
      "['Sub-Saharan Africa' 'TGO' 'Togo' 'West African CFA franc']\n",
      "['Sub-Saharan Africa' 'TZA' 'Tanzania' 'Tanzanian shilling']\n",
      "['Sub-Saharan Africa' 'UGA' 'Uganda' 'Ugandan shilling']\n",
      "['Sub-Saharan Africa' 'ZAF' 'South Africa' 'South African rand']\n",
      "['Sub-Saharan Africa' 'ZAR' 'Dem. Rep. Congo' 'Congolese franc']\n",
      "['Sub-Saharan Africa' 'ZMB' 'Zambia' 'New Zambian kwacha']\n",
      "['Sub-Saharan Africa' 'ZWE' 'Zimbabwe' 'U.S. dollar']\n"
     ]
    }
   ],
   "source": [
    "for _, row_series in sorted_data.iterrows():\n",
    "    # print(row_label, type(row_series))\n",
    "    print(row_series.values)\n",
    "    # print('-'*20)\n",
    "        "
   ],
   "metadata": {
    "collapsed": false,
    "ExecuteTime": {
     "end_time": "2024-01-21T03:34:05.044973600Z",
     "start_time": "2024-01-21T03:34:04.995978Z"
    }
   },
   "id": "cba82c19e542edb6",
   "execution_count": 86
  },
  {
   "cell_type": "code",
   "outputs": [],
   "source": [],
   "metadata": {
    "collapsed": false,
    "ExecuteTime": {
     "end_time": "2024-01-21T03:23:22.273589800Z",
     "start_time": "2024-01-21T03:23:22.216592500Z"
    }
   },
   "id": "eae4561d861cd1bc",
   "execution_count": 57
  },
  {
   "cell_type": "code",
   "outputs": [],
   "source": [],
   "metadata": {
    "collapsed": false,
    "ExecuteTime": {
     "end_time": "2024-01-21T03:23:22.300442300Z",
     "start_time": "2024-01-21T03:23:22.267600100Z"
    }
   },
   "id": "eb7af4e48e204576",
   "execution_count": 57
  },
  {
   "cell_type": "code",
   "outputs": [],
   "source": [],
   "metadata": {
    "collapsed": false,
    "ExecuteTime": {
     "end_time": "2024-01-21T03:23:22.335428900Z",
     "start_time": "2024-01-21T03:23:22.299416100Z"
    }
   },
   "id": "941dc04006ed9a5f",
   "execution_count": 57
  },
  {
   "cell_type": "code",
   "outputs": [],
   "source": [],
   "metadata": {
    "collapsed": false,
    "ExecuteTime": {
     "end_time": "2024-01-21T03:23:22.361254500Z",
     "start_time": "2024-01-21T03:23:22.325431300Z"
    }
   },
   "id": "c7f2940af30906f",
   "execution_count": 57
  },
  {
   "cell_type": "code",
   "outputs": [],
   "source": [],
   "metadata": {
    "collapsed": false,
    "ExecuteTime": {
     "end_time": "2024-01-21T03:23:22.394786200Z",
     "start_time": "2024-01-21T03:23:22.345263200Z"
    }
   },
   "id": "becd7797287f3855",
   "execution_count": 57
  },
  {
   "cell_type": "code",
   "outputs": [],
   "source": [],
   "metadata": {
    "collapsed": false,
    "ExecuteTime": {
     "end_time": "2024-01-21T03:23:22.417058900Z",
     "start_time": "2024-01-21T03:23:22.366296400Z"
    }
   },
   "id": "4c82e96704a1fa0",
   "execution_count": 57
  },
  {
   "cell_type": "code",
   "outputs": [],
   "source": [],
   "metadata": {
    "collapsed": false,
    "ExecuteTime": {
     "end_time": "2024-01-21T03:23:22.459085500Z",
     "start_time": "2024-01-21T03:23:22.405794100Z"
    }
   },
   "id": "2ae223e3a51f9a8e",
   "execution_count": 57
  },
  {
   "cell_type": "code",
   "outputs": [],
   "source": [],
   "metadata": {
    "collapsed": false,
    "ExecuteTime": {
     "end_time": "2024-01-21T03:23:22.480095Z",
     "start_time": "2024-01-21T03:23:22.440090200Z"
    }
   },
   "id": "da6fb7ecc8cf48eb",
   "execution_count": 57
  },
  {
   "cell_type": "code",
   "outputs": [],
   "source": [],
   "metadata": {
    "collapsed": false,
    "ExecuteTime": {
     "end_time": "2024-01-21T03:23:22.510082300Z",
     "start_time": "2024-01-21T03:23:22.469115700Z"
    }
   },
   "id": "e2554171e6d39b98",
   "execution_count": 57
  },
  {
   "cell_type": "code",
   "outputs": [],
   "source": [],
   "metadata": {
    "collapsed": false,
    "ExecuteTime": {
     "end_time": "2024-01-21T03:23:22.531088Z",
     "start_time": "2024-01-21T03:23:22.502091900Z"
    }
   },
   "id": "59820f1114882d86",
   "execution_count": 57
  },
  {
   "cell_type": "code",
   "outputs": [],
   "source": [],
   "metadata": {
    "collapsed": false
   },
   "id": "dc5a3dab58d639db"
  }
 ],
 "metadata": {
  "kernelspec": {
   "display_name": "Python 3",
   "language": "python",
   "name": "python3"
  },
  "language_info": {
   "codemirror_mode": {
    "name": "ipython",
    "version": 2
   },
   "file_extension": ".py",
   "mimetype": "text/x-python",
   "name": "python",
   "nbconvert_exporter": "python",
   "pygments_lexer": "ipython2",
   "version": "2.7.6"
  }
 },
 "nbformat": 4,
 "nbformat_minor": 5
}
